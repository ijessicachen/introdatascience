{
 "cells": [
  {
   "cell_type": "markdown",
   "id": "5d02f7e6-f76d-4522-8f0d-2b3b24dbfb3d",
   "metadata": {},
   "source": [
    "# Enzyme Lab Graph\n",
    "\n",
    "You need to make a "
   ]
  },
  {
   "cell_type": "code",
   "execution_count": null,
   "id": "228d6c4f-9a26-48fe-b9b1-f97c6a23895e",
   "metadata": {},
   "outputs": [],
   "source": []
  }
 ],
 "metadata": {
  "kernelspec": {
   "display_name": "Python 3 (ipykernel)",
   "language": "python",
   "name": "python3"
  },
  "language_info": {
   "codemirror_mode": {
    "name": "ipython",
    "version": 3
   },
   "file_extension": ".py",
   "mimetype": "text/x-python",
   "name": "python",
   "nbconvert_exporter": "python",
   "pygments_lexer": "ipython3",
   "version": "3.10.11"
  }
 },
 "nbformat": 4,
 "nbformat_minor": 5
}
