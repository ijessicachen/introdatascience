{
 "cells": [
  {
   "cell_type": "markdown",
   "id": "d4877695-1798-4895-be97-376e8ff36512",
   "metadata": {},
   "source": [
    "# Ideal Gas Lab\n",
    "My lovely groupmate already did the graphs so I am just getting some specific information I need from the graphs (plus practicing using this because I'll probably need it for the MAT proposal."
   ]
  },
  {
   "cell_type": "markdown",
   "id": "05e2f8a6-59c8-4231-8ce5-d41f4b4b309a",
   "metadata": {},
   "source": [
    "## Part 2"
   ]
  },
  {
   "cell_type": "code",
   "execution_count": 1,
   "id": "fb974c69-7bd9-4f61-92c5-ebd949185add",
   "metadata": {},
   "outputs": [
    {
     "name": "stdout",
     "output_type": "stream",
     "text": [
      "   Time(s)  T1(Deg C)  T2(Deg C)  P1(PSI)  P2(PSI)  Mass Flowrate(g/min)\n",
      "0      0.0       25.6       25.8     23.8     24.4                   0.0\n",
      "1      0.1       25.7       25.7     24.4     24.8                   0.0\n",
      "2      0.2       25.7       25.8     24.9     24.4                   0.0\n",
      "3      0.3       25.7       25.8     24.7     24.4                   0.0\n",
      "4      0.4       25.8       25.8     24.4     25.0                   0.0\n",
      "5      0.5       25.7       25.8     24.6     24.4                   0.0\n",
      "6      0.6       25.7       25.8     24.3     24.4                   0.0\n",
      "7      0.7       25.8       25.9     24.7     24.5                   0.0\n",
      "8      0.8       25.9       25.9     24.9     24.7                   0.0\n",
      "9      0.9       25.9       25.9     24.9     24.7                   0.0\n"
     ]
    }
   ],
   "source": [
    "import pandas as pd\n",
    "\n",
    "df = pd.read_csv(\"lab2-part2a.tsv\", sep=\"\\t\")\n",
    "print(df.head(10))"
   ]
  },
  {
   "cell_type": "markdown",
   "id": "58d3d581-0c38-40d0-b8a9-d69d904ed5a8",
   "metadata": {},
   "source": [
    "### Get stabilized average T and P"
   ]
  },
  {
   "cell_type": "markdown",
   "id": "36d7c2ac-f287-48d6-a324-c9c8af1436e6",
   "metadata": {},
   "source": [
    "From the data,\n",
    "```\n",
    "Ambient Temperature(C): 23.7\n",
    "Ambient Pressure(in Hg): 29.8\n",
    "```\n",
    "\n",
    "From the Introductory Manual, \n",
    "```\n",
    "1 in. Hg = 0.491 psi\n",
    "```\n",
    "\n",
    "I will do unit conversions on the lab report itself."
   ]
  },
  {
   "cell_type": "code",
   "execution_count": 2,
   "id": "5e392eda-84c4-4426-b0ee-5a0d8382c728",
   "metadata": {},
   "outputs": [
    {
     "name": "stdout",
     "output_type": "stream",
     "text": [
      "14.6318\n"
     ]
    }
   ],
   "source": [
    "p_atm = 29.8 * 0.491\n",
    "print(p_atm)"
   ]
  },
  {
   "cell_type": "code",
   "execution_count": 3,
   "id": "66cd68b4-68a4-4d6b-8995-86d4d16d168b",
   "metadata": {},
   "outputs": [
    {
     "name": "stdout",
     "output_type": "stream",
     "text": [
      "   T1(Deg C)  P1(PSI)\n",
      "0       25.6     23.8\n",
      "1       25.7     24.4\n",
      "2       25.7     24.9\n",
      "3       25.7     24.7\n",
      "4       25.8     24.4\n",
      "5       25.7     24.6\n",
      "6       25.7     24.3\n",
      "7       25.8     24.7\n",
      "8       25.9     24.9\n",
      "9       25.9     24.9\n"
     ]
    }
   ],
   "source": [
    "# get relevant data\n",
    "df2 = df[['T1(Deg C)', 'P1(PSI)']].copy()\n",
    "print(df2.head(10))"
   ]
  },
  {
   "cell_type": "code",
   "execution_count": 4,
   "id": "eefda562-18f7-46ef-8c95-bf0799964442",
   "metadata": {},
   "outputs": [
    {
     "name": "stdout",
     "output_type": "stream",
     "text": [
      "   T1(Deg C)  P1(PSI)\n",
      "0       25.6  38.4318\n",
      "1       25.7  39.0318\n",
      "2       25.7  39.5318\n",
      "3       25.7  39.3318\n",
      "4       25.8  39.0318\n",
      "5       25.7  39.2318\n",
      "6       25.7  38.9318\n",
      "7       25.8  39.3318\n",
      "8       25.9  39.5318\n",
      "9       25.9  39.5318\n"
     ]
    }
   ],
   "source": [
    "# pressure\n",
    "# change to absolute pressure\n",
    "df2['P1(PSI)'] += p_atm\n",
    "\n",
    "print(df2.head(10))"
   ]
  },
  {
   "cell_type": "markdown",
   "id": "3cb94c62-47d8-4393-9efe-17c21f0d9667",
   "metadata": {},
   "source": [
    "ABOVE, T1 = 25.6 ºC, P1 = 38.4318 PSI<br>\n",
    "*if it is anything else you ran it too many times, rerun all previous cells including that one*"
   ]
  },
  {
   "cell_type": "code",
   "execution_count": 5,
   "id": "50219f2d-8690-4354-ae81-39a6a28d3d48",
   "metadata": {},
   "outputs": [
    {
     "name": "stdout",
     "output_type": "stream",
     "text": [
      "     T1(Deg C)  P1(PSI)\n",
      "295       29.0  53.0318\n",
      "296       29.0  52.9318\n",
      "297       29.0  53.0318\n",
      "298       29.1  53.3318\n",
      "299       29.2  52.9318\n",
      "300       29.2  53.2318\n",
      "301       29.1  54.2318\n",
      "302       29.3  53.6318\n",
      "303       29.2  54.1318\n",
      "304       29.2  54.1318\n",
      "305       29.4  54.1318\n",
      "306       29.2  54.6318\n",
      "307       29.2  54.2318\n",
      "308       29.2  54.7318\n",
      "309       29.1  55.0318\n",
      "310       29.1  54.9318\n",
      "311       29.3  55.2318\n",
      "312       29.2  54.6318\n",
      "313       29.2  54.6318\n",
      "314       29.0  54.4318\n",
      "315       28.9  54.6318\n",
      "316       28.9  54.2318\n",
      "317       29.1  54.4318\n",
      "318       28.8  54.2318\n",
      "319       28.8  54.4318\n",
      "320       28.9  54.6318\n",
      "321       28.6  54.4318\n",
      "322       28.6  54.4318\n",
      "323       28.5  54.2318\n",
      "324       28.5  54.6318\n",
      "325       28.5  54.4318\n",
      "326       28.3  54.2318\n",
      "327       28.2  54.4318\n",
      "328       28.2  54.6318\n",
      "329       28.3  54.4318\n",
      "330       28.2  54.2318\n",
      "331       28.2  54.2318\n",
      "332       28.0  54.6318\n",
      "333       27.8  54.1318\n",
      "334       27.8  54.2318\n",
      "335       27.9  54.4318\n",
      "336       27.7  54.1318\n",
      "337       27.7  53.9318\n",
      "338       27.9  54.4318\n",
      "339       27.8  54.6318\n"
     ]
    }
   ],
   "source": [
    "# try to find where temperature and pressure stabilize after rising\n",
    "print(df2.iloc[295:340])"
   ]
  },
  {
   "cell_type": "code",
   "execution_count": 6,
   "id": "95389930-960d-4258-bd30-35e553311c39",
   "metadata": {},
   "outputs": [
    {
     "name": "stdout",
     "output_type": "stream",
     "text": [
      "     T1(Deg C)  P1(PSI)\n",
      "816       26.1  54.1318\n",
      "817       26.1  53.6318\n",
      "818       26.1  54.2318\n",
      "819       26.0  54.2318\n",
      "820       26.0  54.2318\n",
      "821       25.9  54.4318\n",
      "822       26.0  54.4318\n",
      "823       26.0  54.1318\n",
      "824       26.2  53.8318\n",
      "825       26.1  54.4318\n"
     ]
    }
   ],
   "source": [
    "# double check if still stable at the end\n",
    "print(df2.tail(10))"
   ]
  },
  {
   "cell_type": "code",
   "execution_count": 7,
   "id": "1e5efb3b-f632-4f60-bd19-730bc4e0ad90",
   "metadata": {},
   "outputs": [
    {
     "name": "stdout",
     "output_type": "stream",
     "text": [
      "T1(Deg C)    26.595238\n",
      "P1(PSI)      54.198657\n",
      "dtype: float64\n",
      "26.595238095238095\n",
      "54.19865714285714\n"
     ]
    }
   ],
   "source": [
    "# find average from 301 to 825 of T1 and P1\n",
    "t1_stable, p1_stable = df2.loc[301:826].mean()\n",
    "print(df2.loc[301:826].mean())\n",
    "print(t1_stable)\n",
    "print(p1_stable)"
   ]
  },
  {
   "cell_type": "code",
   "execution_count": 8,
   "id": "798ff779-09c3-4e16-8dde-d742f1b921cf",
   "metadata": {},
   "outputs": [
    {
     "name": "stdout",
     "output_type": "stream",
     "text": [
      "    T1(Deg C)  P1(PSI)\n",
      "0        25.6  38.4318\n",
      "1        25.7  39.0318\n",
      "2        25.7  39.5318\n",
      "3        25.7  39.3318\n",
      "4        25.8  39.0318\n",
      "5        25.7  39.2318\n",
      "6        25.7  38.9318\n",
      "7        25.8  39.3318\n",
      "8        25.9  39.5318\n",
      "9        25.9  39.5318\n",
      "10       25.7  39.2318\n",
      "11       25.6  39.0318\n",
      "12       25.6  39.3318\n",
      "13       25.7  39.3318\n",
      "14       25.7  39.6318\n",
      "15       25.6  38.7318\n",
      "16       25.7  39.2318\n",
      "17       25.7  39.8318\n",
      "18       25.5  39.8318\n",
      "19       25.8  39.3318\n",
      "20       25.8  39.3318\n",
      "21       25.7  39.2318\n",
      "22       25.7  39.5318\n",
      "23       25.7  39.3318\n",
      "24       25.7  39.2318\n",
      "25       25.8  39.3318\n",
      "26       25.8  39.3318\n",
      "27       25.7  39.3318\n",
      "28       25.7  39.2318\n",
      "29       25.7  39.5318\n"
     ]
    }
   ],
   "source": [
    "# find range of stable temperature and pressure at the beginning\n",
    "print(df2.head(30))"
   ]
  },
  {
   "cell_type": "code",
   "execution_count": 9,
   "id": "87aa2be8-8ebb-45d5-aeb8-6fd459e95a8c",
   "metadata": {},
   "outputs": [
    {
     "name": "stdout",
     "output_type": "stream",
     "text": [
      "     T1(Deg C)  P1(PSI)\n",
      "165       25.7  39.2318\n",
      "166       25.5  39.2318\n",
      "167       25.8  39.3318\n",
      "168       25.8  39.3318\n",
      "169       25.9  39.3318\n",
      "170       25.7  39.3318\n",
      "171       25.7  38.7318\n",
      "172       25.7  39.0318\n",
      "173       25.7  41.3318\n",
      "174       25.1  41.2318\n",
      "175       26.0  41.2318\n",
      "176       26.0  41.2318\n",
      "177       26.1  41.0318\n",
      "178       26.3  40.9318\n",
      "179       26.3  40.9318\n",
      "180       26.4  41.3318\n",
      "181       26.5  41.0318\n",
      "182       26.5  40.9318\n",
      "183       26.5  41.2318\n",
      "184       26.4  40.9318\n",
      "185       26.4  41.0318\n",
      "186       26.5  40.9318\n",
      "187       26.4  41.0318\n",
      "188       26.4  41.0318\n",
      "189       26.3  40.7318\n"
     ]
    }
   ],
   "source": [
    "print(df2.iloc[165:190])"
   ]
  },
  {
   "cell_type": "code",
   "execution_count": 10,
   "id": "60225840-9c27-42cc-9cc8-5901349aab85",
   "metadata": {},
   "outputs": [
    {
     "name": "stdout",
     "output_type": "stream",
     "text": [
      "T1(Deg C)    25.721264\n",
      "P1(PSI)      39.301915\n",
      "dtype: float64\n",
      "25.721264367816094\n",
      "39.30191494252873\n"
     ]
    }
   ],
   "source": [
    "# find average from 0 to 172 of T1 and P1\n",
    "t1_start, p1_start = df2.loc[0:173].mean()\n",
    "print(df2.loc[0:173].mean())\n",
    "print(t1_start)\n",
    "print(p1_start)"
   ]
  },
  {
   "cell_type": "markdown",
   "id": "6adb1faa-5ede-4688-af28-2b46aaa94325",
   "metadata": {},
   "source": [
    "I lied, let's do the unit conversions here\n",
    "```\n",
    "[K] = [ºC] + 273.15\n",
    "1 psi = 6895 Pa\n",
    "```"
   ]
  },
  {
   "cell_type": "code",
   "execution_count": 11,
   "id": "ebbdcf19-ec89-474e-b000-213318e46a39",
   "metadata": {},
   "outputs": [
    {
     "name": "stdout",
     "output_type": "stream",
     "text": [
      "    T1(K)      P1(Pa)\n",
      "0  298.75  264987.261\n",
      "1  298.85  269124.261\n",
      "2  298.85  272571.761\n",
      "3  298.85  271192.761\n",
      "4  298.95  269124.261\n",
      "5  298.85  270503.261\n",
      "6  298.85  268434.761\n",
      "7  298.95  271192.761\n",
      "8  299.05  272571.761\n",
      "9  299.05  272571.761\n"
     ]
    }
   ],
   "source": [
    "df3 = df2\n",
    "\n",
    "df3['T1(Deg C)'] += 273.15\n",
    "df3['P1(PSI)'] *= 6895\n",
    "\n",
    "df3 = df3.rename(columns={'T1(Deg C)': 'T1(K)', 'P1(PSI)': 'P1(Pa)'})\n",
    "print(df3.head(10))"
   ]
  },
  {
   "cell_type": "code",
   "execution_count": 12,
   "id": "259729de-a9a9-4671-882b-de032e38c6e1",
   "metadata": {},
   "outputs": [
    {
     "name": "stdout",
     "output_type": "stream",
     "text": [
      "T1(K)        298.871264\n",
      "P1(Pa)    270986.703529\n",
      "dtype: float64\n",
      "298.871264367816\n",
      "270986.7035287356\n",
      "T1(K)        299.745238\n",
      "P1(Pa)    373699.741000\n",
      "dtype: float64\n",
      "299.7452380952381\n",
      "373699.741\n"
     ]
    }
   ],
   "source": [
    "t1_avg, p1_avg = df3.loc[0:173].mean()\n",
    "print(df3.loc[0:173].mean())\n",
    "print(t1_avg)\n",
    "print(p1_avg)\n",
    "\n",
    "t2_avg, p2_avg = df3.loc[301:826].mean()\n",
    "print(df3.loc[301:826].mean())\n",
    "print(t2_avg)\n",
    "print(p2_avg)"
   ]
  },
  {
   "cell_type": "markdown",
   "id": "bede27a8-408f-47ba-8abb-4b1cf516e27e",
   "metadata": {},
   "source": [
    "### Calculate Volume of the Left Tank, Initial mass"
   ]
  },
  {
   "cell_type": "code",
   "execution_count": 13,
   "id": "6d629eca-6155-4876-ae95-afcb2020a1a5",
   "metadata": {},
   "outputs": [
    {
     "name": "stdout",
     "output_type": "stream",
     "text": [
      "0.0077653319046805565\n"
     ]
    }
   ],
   "source": [
    "V_num = 9.20*10**(-3) * 0.2870 * 10**(3) * t1_avg * t2_avg\n",
    "V_denom = p2_avg*t1_avg - p1_avg*t2_avg\n",
    "V = V_num/V_denom\n",
    "print(V)"
   ]
  },
  {
   "cell_type": "code",
   "execution_count": 14,
   "id": "7f73c9b0-a438-40b9-b67d-bacf3c01f00d",
   "metadata": {},
   "outputs": [
    {
     "name": "stdout",
     "output_type": "stream",
     "text": [
      "0.024532507898885413\n"
     ]
    }
   ],
   "source": [
    "m1 = (p1_avg*V)/(0.2870*10**3*t1_avg)\n",
    "print(m1)"
   ]
  },
  {
   "cell_type": "markdown",
   "id": "59f59667-febe-4599-ae81-666dd1528828",
   "metadata": {},
   "source": [
    "### Uncertainties for Volume"
   ]
  },
  {
   "cell_type": "code",
   "execution_count": 26,
   "id": "369d8e1c-0d54-4166-af5e-05ebc8c549e2",
   "metadata": {},
   "outputs": [
    {
     "name": "stdout",
     "output_type": "stream",
     "text": [
      "2954838.3560301107\n",
      "0.014087830743856899\n"
     ]
    }
   ],
   "source": [
    "# values\n",
    "V = V\n",
    "m_in = 9.20*10**(-3)\n",
    "t_1 = t1_avg\n",
    "t_2 = t2_avg\n",
    "p_1 = p1_avg\n",
    "p_2 = p2_avg\n",
    "# uncertanties\n",
    "d_m_in = 1/60 # 1 kg/min -> 1/60 kg/s\n",
    "d_t_1 = 1 # 1ºC -> 1K\n",
    "d_t_2 = 1\n",
    "d_p_1 = 6895 # 1 psi -> 6895 Pa\n",
    "d_p_2 = 6895\n",
    "\n",
    "# unc for denom\n",
    "term1 = (p_2*t_1)**2 * ( (d_p_2/p_2)**2 + (d_t_1/t_1)**2 )\n",
    "term2 = (p_1*t_2)**2 * ( (d_p_1/p_1)**2 + (d_t_2/t_2)**2 )\n",
    "d_denom = ( term1 + term2 )**0.5\n",
    "\n",
    "print(d_denom)\n",
    "\n",
    "# unc for V\n",
    "term1 = (d_m_in/m_in)**2 + (d_t_1/t_1)**2 + (d_t_2/t_2)**2\n",
    "term2 = (d_denom / (p_2*t_1 - p_1*t_2))**2\n",
    "d_V = V * ( term1 + term2 )**0.5\n",
    "\n",
    "print(d_V)\n"
   ]
  },
  {
   "cell_type": "markdown",
   "id": "d7e41d01-118d-47ef-87f4-add67db52466",
   "metadata": {},
   "source": [
    "### Uncertainties for Initial Mass"
   ]
  },
  {
   "cell_type": "code",
   "execution_count": 27,
   "id": "ae9adb1a-7df3-42ff-9bfd-0b75426dc756",
   "metadata": {},
   "outputs": [
    {
     "name": "stdout",
     "output_type": "stream",
     "text": [
      "0.04451121987161814\n"
     ]
    }
   ],
   "source": [
    "# values\n",
    "m1 = m1\n",
    "p_1 = p1_avg\n",
    "V = V\n",
    "t_1 = t1_avg\n",
    "# uncertanties\n",
    "d_p_1 = 6895 # 1 psi -> 6895 Pa\n",
    "d_V = d_V\n",
    "d_t_1 = 1 # 1ºC -> 1K\n",
    "\n",
    "# unc for m1\n",
    "d_m1 = m1 * ( (d_p_1/p_1)**2 + (d_V/V)**2 + (d_t_1/t_1)**2 )**0.5\n",
    "print(d_m1)"
   ]
  }
 ],
 "metadata": {
  "kernelspec": {
   "display_name": "Python 3 (ipykernel)",
   "language": "python",
   "name": "python3"
  },
  "language_info": {
   "codemirror_mode": {
    "name": "ipython",
    "version": 3
   },
   "file_extension": ".py",
   "mimetype": "text/x-python",
   "name": "python",
   "nbconvert_exporter": "python",
   "pygments_lexer": "ipython3",
   "version": "3.10.11"
  }
 },
 "nbformat": 4,
 "nbformat_minor": 5
}
