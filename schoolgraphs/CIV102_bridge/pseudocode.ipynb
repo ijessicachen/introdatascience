{
 "cells": [
  {
   "cell_type": "markdown",
   "id": "0a797957-ec77-4abc-bae6-09a8beaf7690",
   "metadata": {},
   "source": [
    "# PSEUDOCODE\n",
    "based off the MATLAB pseudocode given in Appendix I written by previous head TA Raymond."
   ]
  },
  {
   "cell_type": "markdown",
   "id": "984bdbbf-a4ec-497d-911e-62bab67eaa70",
   "metadata": {},
   "source": [
    "## 0: Initialize Parameters"
   ]
  },
  {
   "cell_type": "code",
   "execution_count": 15,
   "id": "15974327-3dc4-42e6-855a-3e30814d974d",
   "metadata": {},
   "outputs": [],
   "source": [
    "import matplotlib.pyplot as plt\n",
    "import numpy as np\n",
    "\n",
    "L = 1200 # Length of bridge\n",
    "n = 1200 # Discretize into 1 mm seg.\n",
    "P = 400 # Total weight of train [N]\n",
    "x = [] # x-axis\n",
    "xi = 0\n",
    "for i in range(0, n+1):\n",
    "    x.append(xi)\n",
    "    xi += L/(n)"
   ]
  },
  {
   "cell_type": "markdown",
   "id": "4f64107d-e784-4231-9340-ad9b4ff478c4",
   "metadata": {},
   "source": [
    "## 1: SFD, BMD Under Train Loading"
   ]
  },
  {
   "cell_type": "code",
   "execution_count": 16,
   "id": "136f2b16-fe22-4384-a2cd-9c1835c60d34",
   "metadata": {},
   "outputs": [
    {
     "ename": "SyntaxError",
     "evalue": "incomplete input (2043499176.py, line 9)",
     "output_type": "error",
     "traceback": [
      "\u001b[0;36m  Cell \u001b[0;32mIn[16], line 9\u001b[0;36m\u001b[0m\n\u001b[0;31m    \u001b[0m\n\u001b[0m    ^\u001b[0m\n\u001b[0;31mSyntaxError\u001b[0m\u001b[0;31m:\u001b[0m incomplete input\n"
     ]
    }
   ],
   "source": [
    "x_train = [52, 228, 392, 568, 732, 908] # train load locations\n",
    "P_train = [P/6] * 6 # load at each location\n",
    "\n",
    "n_train = 3 # number of train locations\n",
    "SFDi = [[0]*n]*n_train # 1 SFD for each train loc\n",
    "BMDi = [[0]*n]*n_train # 1 BMD for each train loc\n",
    "\n",
    "for i in range(0, n_train+1):\n",
    "\n",
    "    # sum of moments at A\n",
    "    Fb = \n"
   ]
  }
 ],
 "metadata": {
  "kernelspec": {
   "display_name": "Python 3 (ipykernel)",
   "language": "python",
   "name": "python3"
  },
  "language_info": {
   "codemirror_mode": {
    "name": "ipython",
    "version": 3
   },
   "file_extension": ".py",
   "mimetype": "text/x-python",
   "name": "python",
   "nbconvert_exporter": "python",
   "pygments_lexer": "ipython3",
   "version": "3.10.11"
  }
 },
 "nbformat": 4,
 "nbformat_minor": 5
}
