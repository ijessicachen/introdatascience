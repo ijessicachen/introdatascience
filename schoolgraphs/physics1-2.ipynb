{
 "cells": [
  {
   "cell_type": "markdown",
   "id": "f072f59e-1686-471e-91c1-c0e0a5a8649c",
   "metadata": {},
   "source": [
    "# Experiment 3 \n",
    "\n",
    "Find a way to nicely represent the distribution of this??"
   ]
  },
  {
   "cell_type": "code",
   "execution_count": 4,
   "id": "2f2c4ef9-88a1-4c86-9bde-9e7c1ad74d04",
   "metadata": {},
   "outputs": [],
   "source": [
    "import pandas as pd\n",
    "import numpy as np\n",
    "import matplotlib.pyplot as plt"
   ]
  },
  {
   "cell_type": "code",
   "execution_count": 5,
   "id": "4d3165a2-0687-437a-8c12-a43b29de2075",
   "metadata": {},
   "outputs": [
    {
     "data": {
      "text/html": [
       "<div>\n",
       "<style scoped>\n",
       "    .dataframe tbody tr th:only-of-type {\n",
       "        vertical-align: middle;\n",
       "    }\n",
       "\n",
       "    .dataframe tbody tr th {\n",
       "        vertical-align: top;\n",
       "    }\n",
       "\n",
       "    .dataframe thead th {\n",
       "        text-align: right;\n",
       "    }\n",
       "</style>\n",
       "<table border=\"1\" class=\"dataframe\">\n",
       "  <thead>\n",
       "    <tr style=\"text-align: right;\">\n",
       "      <th></th>\n",
       "      <th>paperweight(g)</th>\n",
       "      <th>txt&amp;paper(g)</th>\n",
       "    </tr>\n",
       "  </thead>\n",
       "  <tbody>\n",
       "    <tr>\n",
       "      <th>0</th>\n",
       "      <td>832</td>\n",
       "      <td>2385</td>\n",
       "    </tr>\n",
       "    <tr>\n",
       "      <th>1</th>\n",
       "      <td>833</td>\n",
       "      <td>2352</td>\n",
       "    </tr>\n",
       "    <tr>\n",
       "      <th>2</th>\n",
       "      <td>833</td>\n",
       "      <td>2301</td>\n",
       "    </tr>\n",
       "    <tr>\n",
       "      <th>3</th>\n",
       "      <td>832</td>\n",
       "      <td>2332</td>\n",
       "    </tr>\n",
       "    <tr>\n",
       "      <th>4</th>\n",
       "      <td>832</td>\n",
       "      <td>2332</td>\n",
       "    </tr>\n",
       "    <tr>\n",
       "      <th>5</th>\n",
       "      <td>833</td>\n",
       "      <td>2333</td>\n",
       "    </tr>\n",
       "    <tr>\n",
       "      <th>6</th>\n",
       "      <td>833</td>\n",
       "      <td>2398</td>\n",
       "    </tr>\n",
       "    <tr>\n",
       "      <th>7</th>\n",
       "      <td>833</td>\n",
       "      <td>2280</td>\n",
       "    </tr>\n",
       "    <tr>\n",
       "      <th>8</th>\n",
       "      <td>833</td>\n",
       "      <td>2154</td>\n",
       "    </tr>\n",
       "    <tr>\n",
       "      <th>9</th>\n",
       "      <td>833</td>\n",
       "      <td>2424</td>\n",
       "    </tr>\n",
       "  </tbody>\n",
       "</table>\n",
       "</div>"
      ],
      "text/plain": [
       "   paperweight(g)  txt&paper(g)\n",
       "0             832          2385\n",
       "1             833          2352\n",
       "2             833          2301\n",
       "3             832          2332\n",
       "4             832          2332\n",
       "5             833          2333\n",
       "6             833          2398\n",
       "7             833          2280\n",
       "8             833          2154\n",
       "9             833          2424"
      ]
     },
     "execution_count": 5,
     "metadata": {},
     "output_type": "execute_result"
    }
   ],
   "source": [
    "# make a dataframe for this data\n",
    "d = {'paperweight(g)': [832, 833, 833, 832, 832, 833, 833, 833, 833, 833],\n",
    "     'txt&paper(g)': [2385, 2352, 2301, 2332, 2332, 2333, 2398, 2280, 2154, 2424]}\n",
    "masses = pd.DataFrame(data=d)\n",
    "masses"
   ]
  },
  {
   "cell_type": "code",
   "execution_count": 6,
   "id": "be3178b9-dcc9-4cd6-8c37-985ee208594f",
   "metadata": {},
   "outputs": [
    {
     "data": {
      "text/plain": [
       "(array([1., 0., 0., 0., 0., 0., 0., 0., 0., 0., 0., 0., 0., 0., 0., 0., 0.,\n",
       "        0., 0., 0., 0., 0., 0., 0., 0., 0., 0., 0., 0., 0., 0., 0., 0., 0.,\n",
       "        0., 0., 0., 0., 0., 0., 0., 0., 0., 0., 0., 0., 0., 0., 0., 0., 0.,\n",
       "        0., 0., 0., 0., 0., 0., 0., 0., 0., 0., 0., 0., 0., 0., 0., 0., 0.,\n",
       "        0., 0., 0., 0., 0., 0., 0., 0., 0., 0., 0., 0., 0., 0., 0., 0., 0.,\n",
       "        0., 0., 0., 0., 0., 0., 0., 0., 0., 0., 0., 0., 0., 0., 0., 0., 0.,\n",
       "        0., 0., 0., 0., 0., 0., 0., 0., 0., 0., 0., 0., 0., 0., 0., 0., 0.,\n",
       "        0., 0., 0., 0., 0., 0., 0., 1., 0., 0., 0., 0., 0., 0., 0., 0., 0.,\n",
       "        0., 0., 0., 0., 0., 0., 0., 0., 0., 0., 0., 1., 0., 0., 0., 0., 0.,\n",
       "        0., 0., 0., 0., 0., 0., 0., 0., 0., 0., 0., 0., 0., 0., 0., 0., 0.,\n",
       "        0., 0., 0., 0., 0., 0., 0., 0., 2., 1., 0., 0., 0., 0., 0., 0., 0.,\n",
       "        0., 0., 0., 0., 0., 0., 0., 0., 0., 0., 0., 1., 0., 0., 0., 0., 0.,\n",
       "        0., 0., 0., 0., 0., 0., 0., 0., 0., 0., 0., 0., 0., 0., 0., 0., 0.,\n",
       "        0., 0., 0., 0., 0., 0., 0., 0., 0., 0., 1., 0., 0., 0., 0., 0., 0.,\n",
       "        0., 0., 0., 0., 0., 0., 1., 0., 0., 0., 0., 0., 0., 0., 0., 0., 0.,\n",
       "        0., 0., 0., 0., 0., 0., 0., 0., 0., 0., 0., 0., 0., 0., 1.]),\n",
       " array([2154., 2155., 2156., 2157., 2158., 2159., 2160., 2161., 2162.,\n",
       "        2163., 2164., 2165., 2166., 2167., 2168., 2169., 2170., 2171.,\n",
       "        2172., 2173., 2174., 2175., 2176., 2177., 2178., 2179., 2180.,\n",
       "        2181., 2182., 2183., 2184., 2185., 2186., 2187., 2188., 2189.,\n",
       "        2190., 2191., 2192., 2193., 2194., 2195., 2196., 2197., 2198.,\n",
       "        2199., 2200., 2201., 2202., 2203., 2204., 2205., 2206., 2207.,\n",
       "        2208., 2209., 2210., 2211., 2212., 2213., 2214., 2215., 2216.,\n",
       "        2217., 2218., 2219., 2220., 2221., 2222., 2223., 2224., 2225.,\n",
       "        2226., 2227., 2228., 2229., 2230., 2231., 2232., 2233., 2234.,\n",
       "        2235., 2236., 2237., 2238., 2239., 2240., 2241., 2242., 2243.,\n",
       "        2244., 2245., 2246., 2247., 2248., 2249., 2250., 2251., 2252.,\n",
       "        2253., 2254., 2255., 2256., 2257., 2258., 2259., 2260., 2261.,\n",
       "        2262., 2263., 2264., 2265., 2266., 2267., 2268., 2269., 2270.,\n",
       "        2271., 2272., 2273., 2274., 2275., 2276., 2277., 2278., 2279.,\n",
       "        2280., 2281., 2282., 2283., 2284., 2285., 2286., 2287., 2288.,\n",
       "        2289., 2290., 2291., 2292., 2293., 2294., 2295., 2296., 2297.,\n",
       "        2298., 2299., 2300., 2301., 2302., 2303., 2304., 2305., 2306.,\n",
       "        2307., 2308., 2309., 2310., 2311., 2312., 2313., 2314., 2315.,\n",
       "        2316., 2317., 2318., 2319., 2320., 2321., 2322., 2323., 2324.,\n",
       "        2325., 2326., 2327., 2328., 2329., 2330., 2331., 2332., 2333.,\n",
       "        2334., 2335., 2336., 2337., 2338., 2339., 2340., 2341., 2342.,\n",
       "        2343., 2344., 2345., 2346., 2347., 2348., 2349., 2350., 2351.,\n",
       "        2352., 2353., 2354., 2355., 2356., 2357., 2358., 2359., 2360.,\n",
       "        2361., 2362., 2363., 2364., 2365., 2366., 2367., 2368., 2369.,\n",
       "        2370., 2371., 2372., 2373., 2374., 2375., 2376., 2377., 2378.,\n",
       "        2379., 2380., 2381., 2382., 2383., 2384., 2385., 2386., 2387.,\n",
       "        2388., 2389., 2390., 2391., 2392., 2393., 2394., 2395., 2396.,\n",
       "        2397., 2398., 2399., 2400., 2401., 2402., 2403., 2404., 2405.,\n",
       "        2406., 2407., 2408., 2409., 2410., 2411., 2412., 2413., 2414.,\n",
       "        2415., 2416., 2417., 2418., 2419., 2420., 2421., 2422., 2423.,\n",
       "        2424.]),\n",
       " <BarContainer object of 270 artists>)"
      ]
     },
     "execution_count": 6,
     "metadata": {},
     "output_type": "execute_result"
    },
    {
     "data": {
      "image/png": "[encoded data removed]",
      "text/plain": [
       "<Figure size 640x480 with 1 Axes>"
      ]
     },
     "metadata": {},
     "output_type": "display_data"
    }
   ],
   "source": [
    "# try a histogram with txt&paper?\n",
    "# https://stackoverflow.com/questions/22127769/python-frequency-of-occurrences\n",
    "fig, ax = plt.subplots()\n",
    "\n",
    "ax.hist(masses['txt&paper(g)'], bins=np.arange(masses['txt&paper(g)'].min(), masses['txt&paper(g)'].max()+1))"
   ]
  },
  {
   "cell_type": "markdown",
   "id": "0fb1c4cb-9eee-421a-8b68-e8e585ea6d52",
   "metadata": {},
   "source": [
    "2154 kinda really looks like an outlier now, so let me just use a boxplot to check using interquartile range if it really is an outlier, and then maybe go back to the histogram."
   ]
  },
  {
   "cell_type": "code",
   "execution_count": 12,
   "id": "c4cc5b55-c5f3-4185-b7a1-0596aee3251b",
   "metadata": {},
   "outputs": [
    {
     "data": {
      "text/plain": [
       "Text(0.5, 1.0, 'txt&weight w/o outliers')"
      ]
     },
     "execution_count": 12,
     "metadata": {},
     "output_type": "execute_result"
    },
    {
     "data": {
      "image/png": "[encoded data removed]",
      "text/plain": [
       "<Figure size 640x480 with 2 Axes>"
      ]
     },
     "metadata": {},
     "output_type": "display_data"
    }
   ],
   "source": [
    "# boxplot(s?)\n",
    "# https://matplotlib.org/stable/gallery/statistics/boxplot_demo.html#sphx-glr-gallery-statistics-boxplot-demo-py\n",
    "fig, axs = plt.subplots(1, 2)\n",
    "\n",
    "# basic plot\n",
    "axs[0].boxplot(masses['txt&paper(g)'])\n",
    "axs[0].set_title('txt&weight w/ outliers')\n",
    "\n",
    "# basic plot w/o outliers\n",
    "axs[1].boxplot(masses['txt&paper(g)'], 0, '')\n",
    "axs[1].set_title('txt&weight w/o outliers')"
   ]
  },
  {
   "cell_type": "code",
   "execution_count": 14,
   "id": "89f71e6a-b3d9-49aa-99ce-6ab6b182fd75",
   "metadata": {},
   "outputs": [
    {
     "data": {
      "text/plain": [
       "(array([1., 0., 0., 0., 0., 0., 0., 0., 0., 0., 0., 0., 0., 0., 0., 0., 0.,\n",
       "        0., 0., 0., 0., 1., 0., 0., 0., 0., 0., 0., 0., 0., 0., 0., 0., 0.,\n",
       "        0., 0., 0., 0., 0., 0., 0., 0., 0., 0., 0., 0., 0., 0., 0., 0., 0.,\n",
       "        0., 2., 1., 0., 0., 0., 0., 0., 0., 0., 0., 0., 0., 0., 0., 0., 0.,\n",
       "        0., 0., 0., 0., 1., 0., 0., 0., 0., 0., 0., 0., 0., 0., 0., 0., 0.,\n",
       "        0., 0., 0., 0., 0., 0., 0., 0., 0., 0., 0., 0., 0., 0., 0., 0., 0.,\n",
       "        0., 0., 0., 1., 0., 0., 0., 0., 0., 0., 0., 0., 0., 0., 0., 0., 1.,\n",
       "        0., 0., 0., 0., 0., 0., 0., 0., 0., 0., 0., 0., 0., 0., 0., 0., 0.,\n",
       "        0., 0., 0., 0., 0., 0., 0., 1.]),\n",
       " array([2280., 2281., 2282., 2283., 2284., 2285., 2286., 2287., 2288.,\n",
       "        2289., 2290., 2291., 2292., 2293., 2294., 2295., 2296., 2297.,\n",
       "        2298., 2299., 2300., 2301., 2302., 2303., 2304., 2305., 2306.,\n",
       "        2307., 2308., 2309., 2310., 2311., 2312., 2313., 2314., 2315.,\n",
       "        2316., 2317., 2318., 2319., 2320., 2321., 2322., 2323., 2324.,\n",
       "        2325., 2326., 2327., 2328., 2329., 2330., 2331., 2332., 2333.,\n",
       "        2334., 2335., 2336., 2337., 2338., 2339., 2340., 2341., 2342.,\n",
       "        2343., 2344., 2345., 2346., 2347., 2348., 2349., 2350., 2351.,\n",
       "        2352., 2353., 2354., 2355., 2356., 2357., 2358., 2359., 2360.,\n",
       "        2361., 2362., 2363., 2364., 2365., 2366., 2367., 2368., 2369.,\n",
       "        2370., 2371., 2372., 2373., 2374., 2375., 2376., 2377., 2378.,\n",
       "        2379., 2380., 2381., 2382., 2383., 2384., 2385., 2386., 2387.,\n",
       "        2388., 2389., 2390., 2391., 2392., 2393., 2394., 2395., 2396.,\n",
       "        2397., 2398., 2399., 2400., 2401., 2402., 2403., 2404., 2405.,\n",
       "        2406., 2407., 2408., 2409., 2410., 2411., 2412., 2413., 2414.,\n",
       "        2415., 2416., 2417., 2418., 2419., 2420., 2421., 2422., 2423.,\n",
       "        2424.]),\n",
       " <BarContainer object of 144 artists>)"
      ]
     },
     "execution_count": 14,
     "metadata": {},
     "output_type": "execute_result"
    },
    {
     "data": {
      "image/png": "[encoded data removed]",
      "text/plain": [
       "<Figure size 640x480 with 1 Axes>"
      ]
     },
     "metadata": {},
     "output_type": "display_data"
    }
   ],
   "source": [
    "fig, ax = plt.subplots()\n",
    "# I just manually removed the outlier\n",
    "ax.hist(masses['txt&paper(g)'], bins=np.arange(2280, masses['txt&paper(g)'].max()+1))"
   ]
  },
  {
   "cell_type": "markdown",
   "id": "5c8bc97e-1d65-4e97-83f1-b7b92b7b3660",
   "metadata": {},
   "source": [
    "no yeah I'm using the boxplot."
   ]
  }
 ],
 "metadata": {
  "kernelspec": {
   "display_name": "Python 3 (ipykernel)",
   "language": "python",
   "name": "python3"
  },
  "language_info": {
   "codemirror_mode": {
    "name": "ipython",
    "version": 3
   },
   "file_extension": ".py",
   "mimetype": "text/x-python",
   "name": "python",
   "nbconvert_exporter": "python",
   "pygments_lexer": "ipython3",
   "version": "3.10.11"
  }
 },
 "nbformat": 4,
 "nbformat_minor": 5
}
