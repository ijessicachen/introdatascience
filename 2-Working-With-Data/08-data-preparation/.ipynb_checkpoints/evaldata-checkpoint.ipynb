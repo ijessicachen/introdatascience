{
 "cells": [
  {
   "cell_type": "markdown",
   "metadata": {},
   "source": [
    "# Assignment: Evaluating Data from a Form\r\n",
    "\r\n",
    "A client has been testing a [small form](index.html) to gather some basic data about their client-base. They have brought their findings to you to validate the data they have gathered. You can open the `index.html` page in a browser to take a look at the form.\r\n",
    "\r\n",
    "You have been provided a [dataset of csv records](../../data/form.csv) that contain entries from the form as well as some basic visualizations.The client pointed out that some of the visualizations look incorrect but they're unsure about how to resolve them. You can explore it in the [assignment notebook](assignment.ipynb).\r\n",
    "\r\n",
    "## Instructions\r\n",
    "\r\n",
    "Use the techniques in this lesson to make recommendations about the form so it captures accurate and consistent information. "
   ]
  },
  {
   "cell_type": "code",
   "execution_count": 1,
   "metadata": {},
   "outputs": [
    {
     "name": "stdout",
     "output_type": "stream",
     "text": [
      "Requirement already satisfied: pandas in /opt/conda/lib/python3.10/site-packages (2.0.1)\n",
      "Requirement already satisfied: python-dateutil>=2.8.2 in /opt/conda/lib/python3.10/site-packages (from pandas) (2.8.2)\n",
      "Requirement already satisfied: pytz>=2020.1 in /opt/conda/lib/python3.10/site-packages (from pandas) (2023.3)\n",
      "Requirement already satisfied: tzdata>=2022.1 in /opt/conda/lib/python3.10/site-packages (from pandas) (2023.3)\n",
      "Requirement already satisfied: numpy>=1.21.0 in /opt/conda/lib/python3.10/site-packages (from pandas) (1.24.3)\n",
      "Requirement already satisfied: six>=1.5 in /opt/conda/lib/python3.10/site-packages (from python-dateutil>=2.8.2->pandas) (1.16.0)\n",
      "Requirement already satisfied: matplotlib in /opt/conda/lib/python3.10/site-packages (3.7.1)\n",
      "Requirement already satisfied: contourpy>=1.0.1 in /opt/conda/lib/python3.10/site-packages (from matplotlib) (1.0.7)\n",
      "Requirement already satisfied: cycler>=0.10 in /opt/conda/lib/python3.10/site-packages (from matplotlib) (0.11.0)\n",
      "Requirement already satisfied: fonttools>=4.22.0 in /opt/conda/lib/python3.10/site-packages (from matplotlib) (4.39.4)\n",
      "Requirement already satisfied: kiwisolver>=1.0.1 in /opt/conda/lib/python3.10/site-packages (from matplotlib) (1.4.4)\n",
      "Requirement already satisfied: numpy>=1.20 in /opt/conda/lib/python3.10/site-packages (from matplotlib) (1.24.3)\n",
      "Requirement already satisfied: packaging>=20.0 in /opt/conda/lib/python3.10/site-packages (from matplotlib) (23.1)\n",
      "Requirement already satisfied: pillow>=6.2.0 in /opt/conda/lib/python3.10/site-packages (from matplotlib) (9.5.0)\n",
      "Requirement already satisfied: pyparsing>=2.3.1 in /opt/conda/lib/python3.10/site-packages (from matplotlib) (3.0.9)\n",
      "Requirement already satisfied: python-dateutil>=2.7 in /opt/conda/lib/python3.10/site-packages (from matplotlib) (2.8.2)\n",
      "Requirement already satisfied: six>=1.5 in /opt/conda/lib/python3.10/site-packages (from python-dateutil>=2.7->matplotlib) (1.16.0)\n"
     ]
    }
   ],
   "source": [
    "!pip install pandas\r\n",
    "!pip install matplotlib"
   ]
  },
  {
   "cell_type": "code",
   "execution_count": 2,
   "metadata": {},
   "outputs": [
    {
     "name": "stdout",
     "output_type": "stream",
     "text": [
      "  birth_month       state   pet\n",
      "0     January         NaN  Cats\n",
      "1         JAN          CA  Cats\n",
      "2        Sept      Hawaii   Dog\n",
      "3     january          AK   Dog\n",
      "4        July          RI  Cats\n",
      "5   September  California  Cats\n",
      "6       April          CA   Dog\n",
      "7     January  California  Cats\n",
      "8    November          FL   Dog\n",
      "9    December     Florida  Cats\n"
     ]
    }
   ],
   "source": [
    "import pandas as pd\r\n",
    "import matplotlib.pyplot as plt\r\n",
    "\r\n",
    "#Loading the dataset\r\n",
    "path = '../../data/form.csv'\r\n",
    "form_df = pd.read_csv(path)\r\n",
    "print(form_df)"
   ]
  },
  {
   "cell_type": "markdown",
   "metadata": {},
   "source": [
    "### Clean data\n",
    "\n",
    "Change the months to datetime format\n",
    "- okay so I actually went down to the bottom and since there is one where it is categorical, I will make another column to display in datetime so that there is one with the readable names and one with useable dates"
   ]
  },
  {
   "cell_type": "code",
   "execution_count": 3,
   "metadata": {},
   "outputs": [
    {
     "data": {
      "text/plain": [
       "dtype('O')"
      ]
     },
     "execution_count": 3,
     "metadata": {},
     "output_type": "execute_result"
    }
   ],
   "source": [
    "form_df['birth_month'].dtype"
   ]
  },
  {
   "cell_type": "code",
   "execution_count": 4,
   "metadata": {},
   "outputs": [
    {
     "data": {
      "text/html": [
       "<div>\n",
       "<style scoped>\n",
       "    .dataframe tbody tr th:only-of-type {\n",
       "        vertical-align: middle;\n",
       "    }\n",
       "\n",
       "    .dataframe tbody tr th {\n",
       "        vertical-align: top;\n",
       "    }\n",
       "\n",
       "    .dataframe thead th {\n",
       "        text-align: right;\n",
       "    }\n",
       "</style>\n",
       "<table border=\"1\" class=\"dataframe\">\n",
       "  <thead>\n",
       "    <tr style=\"text-align: right;\">\n",
       "      <th></th>\n",
       "      <th>birth_month</th>\n",
       "      <th>state</th>\n",
       "      <th>pet</th>\n",
       "    </tr>\n",
       "  </thead>\n",
       "  <tbody>\n",
       "    <tr>\n",
       "      <th>0</th>\n",
       "      <td>January</td>\n",
       "      <td>NaN</td>\n",
       "      <td>Cats</td>\n",
       "    </tr>\n",
       "    <tr>\n",
       "      <th>1</th>\n",
       "      <td>January</td>\n",
       "      <td>CA</td>\n",
       "      <td>Cats</td>\n",
       "    </tr>\n",
       "    <tr>\n",
       "      <th>2</th>\n",
       "      <td>September</td>\n",
       "      <td>Hawaii</td>\n",
       "      <td>Dog</td>\n",
       "    </tr>\n",
       "    <tr>\n",
       "      <th>3</th>\n",
       "      <td>January</td>\n",
       "      <td>AK</td>\n",
       "      <td>Dog</td>\n",
       "    </tr>\n",
       "    <tr>\n",
       "      <th>4</th>\n",
       "      <td>July</td>\n",
       "      <td>RI</td>\n",
       "      <td>Cats</td>\n",
       "    </tr>\n",
       "    <tr>\n",
       "      <th>5</th>\n",
       "      <td>September</td>\n",
       "      <td>California</td>\n",
       "      <td>Cats</td>\n",
       "    </tr>\n",
       "    <tr>\n",
       "      <th>6</th>\n",
       "      <td>April</td>\n",
       "      <td>CA</td>\n",
       "      <td>Dog</td>\n",
       "    </tr>\n",
       "    <tr>\n",
       "      <th>7</th>\n",
       "      <td>January</td>\n",
       "      <td>California</td>\n",
       "      <td>Cats</td>\n",
       "    </tr>\n",
       "    <tr>\n",
       "      <th>8</th>\n",
       "      <td>November</td>\n",
       "      <td>FL</td>\n",
       "      <td>Dog</td>\n",
       "    </tr>\n",
       "    <tr>\n",
       "      <th>9</th>\n",
       "      <td>December</td>\n",
       "      <td>Florida</td>\n",
       "      <td>Cats</td>\n",
       "    </tr>\n",
       "  </tbody>\n",
       "</table>\n",
       "</div>"
      ],
      "text/plain": [
       "  birth_month       state   pet\n",
       "0     January         NaN  Cats\n",
       "1     January          CA  Cats\n",
       "2   September      Hawaii   Dog\n",
       "3     January          AK   Dog\n",
       "4        July          RI  Cats\n",
       "5   September  California  Cats\n",
       "6       April          CA   Dog\n",
       "7     January  California  Cats\n",
       "8    November          FL   Dog\n",
       "9    December     Florida  Cats"
      ]
     },
     "execution_count": 4,
     "metadata": {},
     "output_type": "execute_result"
    }
   ],
   "source": [
    "# okay so the type is object, as expected\n",
    "# let's replace some data so they are all the same format\n",
    "\n",
    "form_df['birth_month'] = form_df['birth_month'].replace(['JAN'], 'January')\n",
    "form_df['birth_month'] = form_df['birth_month'].replace(['Sept'], 'September')\n",
    "form_df['birth_month'] = form_df['birth_month'].replace(['january'], 'January')\n",
    "\n",
    "form_df"
   ]
  },
  {
   "cell_type": "code",
   "execution_count": 5,
   "metadata": {},
   "outputs": [
    {
     "data": {
      "text/html": [
       "<div>\n",
       "<style scoped>\n",
       "    .dataframe tbody tr th:only-of-type {\n",
       "        vertical-align: middle;\n",
       "    }\n",
       "\n",
       "    .dataframe tbody tr th {\n",
       "        vertical-align: top;\n",
       "    }\n",
       "\n",
       "    .dataframe thead th {\n",
       "        text-align: right;\n",
       "    }\n",
       "</style>\n",
       "<table border=\"1\" class=\"dataframe\">\n",
       "  <thead>\n",
       "    <tr style=\"text-align: right;\">\n",
       "      <th></th>\n",
       "      <th>birth_month</th>\n",
       "      <th>birth_month_dt</th>\n",
       "      <th>state</th>\n",
       "      <th>pet</th>\n",
       "    </tr>\n",
       "  </thead>\n",
       "  <tbody>\n",
       "    <tr>\n",
       "      <th>0</th>\n",
       "      <td>January</td>\n",
       "      <td>1900-01-01</td>\n",
       "      <td>NaN</td>\n",
       "      <td>Cats</td>\n",
       "    </tr>\n",
       "    <tr>\n",
       "      <th>1</th>\n",
       "      <td>January</td>\n",
       "      <td>1900-01-01</td>\n",
       "      <td>CA</td>\n",
       "      <td>Cats</td>\n",
       "    </tr>\n",
       "    <tr>\n",
       "      <th>2</th>\n",
       "      <td>September</td>\n",
       "      <td>1900-09-01</td>\n",
       "      <td>Hawaii</td>\n",
       "      <td>Dog</td>\n",
       "    </tr>\n",
       "    <tr>\n",
       "      <th>3</th>\n",
       "      <td>January</td>\n",
       "      <td>1900-01-01</td>\n",
       "      <td>AK</td>\n",
       "      <td>Dog</td>\n",
       "    </tr>\n",
       "    <tr>\n",
       "      <th>4</th>\n",
       "      <td>July</td>\n",
       "      <td>1900-07-01</td>\n",
       "      <td>RI</td>\n",
       "      <td>Cats</td>\n",
       "    </tr>\n",
       "    <tr>\n",
       "      <th>5</th>\n",
       "      <td>September</td>\n",
       "      <td>1900-09-01</td>\n",
       "      <td>California</td>\n",
       "      <td>Cats</td>\n",
       "    </tr>\n",
       "    <tr>\n",
       "      <th>6</th>\n",
       "      <td>April</td>\n",
       "      <td>1900-04-01</td>\n",
       "      <td>CA</td>\n",
       "      <td>Dog</td>\n",
       "    </tr>\n",
       "    <tr>\n",
       "      <th>7</th>\n",
       "      <td>January</td>\n",
       "      <td>1900-01-01</td>\n",
       "      <td>California</td>\n",
       "      <td>Cats</td>\n",
       "    </tr>\n",
       "    <tr>\n",
       "      <th>8</th>\n",
       "      <td>November</td>\n",
       "      <td>1900-11-01</td>\n",
       "      <td>FL</td>\n",
       "      <td>Dog</td>\n",
       "    </tr>\n",
       "    <tr>\n",
       "      <th>9</th>\n",
       "      <td>December</td>\n",
       "      <td>1900-12-01</td>\n",
       "      <td>Florida</td>\n",
       "      <td>Cats</td>\n",
       "    </tr>\n",
       "  </tbody>\n",
       "</table>\n",
       "</div>"
      ],
      "text/plain": [
       "  birth_month birth_month_dt       state   pet\n",
       "0     January     1900-01-01         NaN  Cats\n",
       "1     January     1900-01-01          CA  Cats\n",
       "2   September     1900-09-01      Hawaii   Dog\n",
       "3     January     1900-01-01          AK   Dog\n",
       "4        July     1900-07-01          RI  Cats\n",
       "5   September     1900-09-01  California  Cats\n",
       "6       April     1900-04-01          CA   Dog\n",
       "7     January     1900-01-01  California  Cats\n",
       "8    November     1900-11-01          FL   Dog\n",
       "9    December     1900-12-01     Florida  Cats"
      ]
     },
     "execution_count": 5,
     "metadata": {},
     "output_type": "execute_result"
    }
   ],
   "source": [
    "form_df.insert(1, 'birth_month_dt', pd.to_datetime(form_df['birth_month'], format = \"%B\"))\n",
    "form_df"
   ]
  },
  {
   "cell_type": "code",
   "execution_count": 6,
   "metadata": {},
   "outputs": [
    {
     "data": {
      "text/plain": [
       "dtype('<M8[ns]')"
      ]
     },
     "execution_count": 6,
     "metadata": {},
     "output_type": "execute_result"
    }
   ],
   "source": [
    "form_df['birth_month_dt'].dtype"
   ]
  },
  {
   "cell_type": "markdown",
   "metadata": {},
   "source": [
    "So apparently M means datetime but I do not know what everything else means.<br>\n",
    "\n",
    "Let's do what's suggested and change the NaN in state to the mode of the column, because it is categorical."
   ]
  },
  {
   "cell_type": "code",
   "execution_count": 7,
   "metadata": {},
   "outputs": [
    {
     "data": {
      "text/plain": [
       "state\n",
       "CA            2\n",
       "California    2\n",
       "Hawaii        1\n",
       "AK            1\n",
       "RI            1\n",
       "FL            1\n",
       "Florida       1\n",
       "Name: count, dtype: int64"
      ]
     },
     "execution_count": 7,
     "metadata": {},
     "output_type": "execute_result"
    }
   ],
   "source": [
    "form_df['state'].value_counts()"
   ]
  },
  {
   "cell_type": "markdown",
   "metadata": {},
   "source": [
    "So the mode is obviously California, but also the ```state``` formats are different (whyyy) so let me make them all the same (I'll make them all abbreviations) too."
   ]
  },
  {
   "cell_type": "code",
   "execution_count": 8,
   "metadata": {},
   "outputs": [
    {
     "data": {
      "text/html": [
       "<div>\n",
       "<style scoped>\n",
       "    .dataframe tbody tr th:only-of-type {\n",
       "        vertical-align: middle;\n",
       "    }\n",
       "\n",
       "    .dataframe tbody tr th {\n",
       "        vertical-align: top;\n",
       "    }\n",
       "\n",
       "    .dataframe thead th {\n",
       "        text-align: right;\n",
       "    }\n",
       "</style>\n",
       "<table border=\"1\" class=\"dataframe\">\n",
       "  <thead>\n",
       "    <tr style=\"text-align: right;\">\n",
       "      <th></th>\n",
       "      <th>birth_month</th>\n",
       "      <th>birth_month_dt</th>\n",
       "      <th>state</th>\n",
       "      <th>pet</th>\n",
       "    </tr>\n",
       "  </thead>\n",
       "  <tbody>\n",
       "    <tr>\n",
       "      <th>0</th>\n",
       "      <td>January</td>\n",
       "      <td>1900-01-01</td>\n",
       "      <td>NaN</td>\n",
       "      <td>Cats</td>\n",
       "    </tr>\n",
       "    <tr>\n",
       "      <th>1</th>\n",
       "      <td>January</td>\n",
       "      <td>1900-01-01</td>\n",
       "      <td>CA</td>\n",
       "      <td>Cats</td>\n",
       "    </tr>\n",
       "    <tr>\n",
       "      <th>2</th>\n",
       "      <td>September</td>\n",
       "      <td>1900-09-01</td>\n",
       "      <td>AK</td>\n",
       "      <td>Dog</td>\n",
       "    </tr>\n",
       "    <tr>\n",
       "      <th>3</th>\n",
       "      <td>January</td>\n",
       "      <td>1900-01-01</td>\n",
       "      <td>AK</td>\n",
       "      <td>Dog</td>\n",
       "    </tr>\n",
       "    <tr>\n",
       "      <th>4</th>\n",
       "      <td>July</td>\n",
       "      <td>1900-07-01</td>\n",
       "      <td>RI</td>\n",
       "      <td>Cats</td>\n",
       "    </tr>\n",
       "    <tr>\n",
       "      <th>5</th>\n",
       "      <td>September</td>\n",
       "      <td>1900-09-01</td>\n",
       "      <td>CA</td>\n",
       "      <td>Cats</td>\n",
       "    </tr>\n",
       "    <tr>\n",
       "      <th>6</th>\n",
       "      <td>April</td>\n",
       "      <td>1900-04-01</td>\n",
       "      <td>CA</td>\n",
       "      <td>Dog</td>\n",
       "    </tr>\n",
       "    <tr>\n",
       "      <th>7</th>\n",
       "      <td>January</td>\n",
       "      <td>1900-01-01</td>\n",
       "      <td>CA</td>\n",
       "      <td>Cats</td>\n",
       "    </tr>\n",
       "    <tr>\n",
       "      <th>8</th>\n",
       "      <td>November</td>\n",
       "      <td>1900-11-01</td>\n",
       "      <td>FL</td>\n",
       "      <td>Dog</td>\n",
       "    </tr>\n",
       "    <tr>\n",
       "      <th>9</th>\n",
       "      <td>December</td>\n",
       "      <td>1900-12-01</td>\n",
       "      <td>FL</td>\n",
       "      <td>Cats</td>\n",
       "    </tr>\n",
       "  </tbody>\n",
       "</table>\n",
       "</div>"
      ],
      "text/plain": [
       "  birth_month birth_month_dt state   pet\n",
       "0     January     1900-01-01   NaN  Cats\n",
       "1     January     1900-01-01    CA  Cats\n",
       "2   September     1900-09-01    AK   Dog\n",
       "3     January     1900-01-01    AK   Dog\n",
       "4        July     1900-07-01    RI  Cats\n",
       "5   September     1900-09-01    CA  Cats\n",
       "6       April     1900-04-01    CA   Dog\n",
       "7     January     1900-01-01    CA  Cats\n",
       "8    November     1900-11-01    FL   Dog\n",
       "9    December     1900-12-01    FL  Cats"
      ]
     },
     "execution_count": 8,
     "metadata": {},
     "output_type": "execute_result"
    }
   ],
   "source": [
    "# Apparently Hawaii is often abbreviated to AK???\n",
    "form_df['state'] = form_df['state'].replace(['California'], 'CA')\n",
    "form_df['state'] = form_df['state'].replace(['Hawaii'], 'AK')\n",
    "form_df['state'] = form_df['state'].replace(['Florida'], 'FL')\n",
    "\n",
    "form_df"
   ]
  },
  {
   "cell_type": "code",
   "execution_count": 9,
   "metadata": {},
   "outputs": [
    {
     "data": {
      "text/plain": [
       "state\n",
       "CA    4\n",
       "AK    2\n",
       "FL    2\n",
       "RI    1\n",
       "Name: count, dtype: int64"
      ]
     },
     "execution_count": 9,
     "metadata": {},
     "output_type": "execute_result"
    }
   ],
   "source": [
    "# try the mode thing again\n",
    "form_df['state'].value_counts()"
   ]
  },
  {
   "cell_type": "code",
   "execution_count": 10,
   "metadata": {},
   "outputs": [
    {
     "data": {
      "text/html": [
       "<div>\n",
       "<style scoped>\n",
       "    .dataframe tbody tr th:only-of-type {\n",
       "        vertical-align: middle;\n",
       "    }\n",
       "\n",
       "    .dataframe tbody tr th {\n",
       "        vertical-align: top;\n",
       "    }\n",
       "\n",
       "    .dataframe thead th {\n",
       "        text-align: right;\n",
       "    }\n",
       "</style>\n",
       "<table border=\"1\" class=\"dataframe\">\n",
       "  <thead>\n",
       "    <tr style=\"text-align: right;\">\n",
       "      <th></th>\n",
       "      <th>birth_month</th>\n",
       "      <th>birth_month_dt</th>\n",
       "      <th>state</th>\n",
       "      <th>pet</th>\n",
       "    </tr>\n",
       "  </thead>\n",
       "  <tbody>\n",
       "    <tr>\n",
       "      <th>0</th>\n",
       "      <td>January</td>\n",
       "      <td>1900-01-01</td>\n",
       "      <td>CA</td>\n",
       "      <td>Cats</td>\n",
       "    </tr>\n",
       "    <tr>\n",
       "      <th>1</th>\n",
       "      <td>January</td>\n",
       "      <td>1900-01-01</td>\n",
       "      <td>CA</td>\n",
       "      <td>Cats</td>\n",
       "    </tr>\n",
       "    <tr>\n",
       "      <th>2</th>\n",
       "      <td>September</td>\n",
       "      <td>1900-09-01</td>\n",
       "      <td>AK</td>\n",
       "      <td>Dog</td>\n",
       "    </tr>\n",
       "    <tr>\n",
       "      <th>3</th>\n",
       "      <td>January</td>\n",
       "      <td>1900-01-01</td>\n",
       "      <td>AK</td>\n",
       "      <td>Dog</td>\n",
       "    </tr>\n",
       "    <tr>\n",
       "      <th>4</th>\n",
       "      <td>July</td>\n",
       "      <td>1900-07-01</td>\n",
       "      <td>RI</td>\n",
       "      <td>Cats</td>\n",
       "    </tr>\n",
       "    <tr>\n",
       "      <th>5</th>\n",
       "      <td>September</td>\n",
       "      <td>1900-09-01</td>\n",
       "      <td>CA</td>\n",
       "      <td>Cats</td>\n",
       "    </tr>\n",
       "    <tr>\n",
       "      <th>6</th>\n",
       "      <td>April</td>\n",
       "      <td>1900-04-01</td>\n",
       "      <td>CA</td>\n",
       "      <td>Dog</td>\n",
       "    </tr>\n",
       "    <tr>\n",
       "      <th>7</th>\n",
       "      <td>January</td>\n",
       "      <td>1900-01-01</td>\n",
       "      <td>CA</td>\n",
       "      <td>Cats</td>\n",
       "    </tr>\n",
       "    <tr>\n",
       "      <th>8</th>\n",
       "      <td>November</td>\n",
       "      <td>1900-11-01</td>\n",
       "      <td>FL</td>\n",
       "      <td>Dog</td>\n",
       "    </tr>\n",
       "    <tr>\n",
       "      <th>9</th>\n",
       "      <td>December</td>\n",
       "      <td>1900-12-01</td>\n",
       "      <td>FL</td>\n",
       "      <td>Cats</td>\n",
       "    </tr>\n",
       "  </tbody>\n",
       "</table>\n",
       "</div>"
      ],
      "text/plain": [
       "  birth_month birth_month_dt state   pet\n",
       "0     January     1900-01-01    CA  Cats\n",
       "1     January     1900-01-01    CA  Cats\n",
       "2   September     1900-09-01    AK   Dog\n",
       "3     January     1900-01-01    AK   Dog\n",
       "4        July     1900-07-01    RI  Cats\n",
       "5   September     1900-09-01    CA  Cats\n",
       "6       April     1900-04-01    CA   Dog\n",
       "7     January     1900-01-01    CA  Cats\n",
       "8    November     1900-11-01    FL   Dog\n",
       "9    December     1900-12-01    FL  Cats"
      ]
     },
     "execution_count": 10,
     "metadata": {},
     "output_type": "execute_result"
    }
   ],
   "source": [
    "form_df['state'].fillna(\"CA\", inplace=True)\n",
    "form_df"
   ]
  },
  {
   "cell_type": "markdown",
   "metadata": {},
   "source": [
    "We could also make life easier if we make a new column with ```0```s for ```Cats``` and ```1```s for ```Dog```.\n",
    "   - aha! Apparently this is called Label Encoding, which we already covered."
   ]
  },
  {
   "cell_type": "code",
   "execution_count": 11,
   "metadata": {},
   "outputs": [
    {
     "data": {
      "text/html": [
       "<div>\n",
       "<style scoped>\n",
       "    .dataframe tbody tr th:only-of-type {\n",
       "        vertical-align: middle;\n",
       "    }\n",
       "\n",
       "    .dataframe tbody tr th {\n",
       "        vertical-align: top;\n",
       "    }\n",
       "\n",
       "    .dataframe thead th {\n",
       "        text-align: right;\n",
       "    }\n",
       "</style>\n",
       "<table border=\"1\" class=\"dataframe\">\n",
       "  <thead>\n",
       "    <tr style=\"text-align: right;\">\n",
       "      <th></th>\n",
       "      <th>birth_month</th>\n",
       "      <th>birth_month_dt</th>\n",
       "      <th>state</th>\n",
       "      <th>pet</th>\n",
       "    </tr>\n",
       "  </thead>\n",
       "  <tbody>\n",
       "    <tr>\n",
       "      <th>0</th>\n",
       "      <td>January</td>\n",
       "      <td>1900-01-01</td>\n",
       "      <td>CA</td>\n",
       "      <td>Cat</td>\n",
       "    </tr>\n",
       "    <tr>\n",
       "      <th>1</th>\n",
       "      <td>January</td>\n",
       "      <td>1900-01-01</td>\n",
       "      <td>CA</td>\n",
       "      <td>Cat</td>\n",
       "    </tr>\n",
       "    <tr>\n",
       "      <th>2</th>\n",
       "      <td>September</td>\n",
       "      <td>1900-09-01</td>\n",
       "      <td>AK</td>\n",
       "      <td>Dog</td>\n",
       "    </tr>\n",
       "    <tr>\n",
       "      <th>3</th>\n",
       "      <td>January</td>\n",
       "      <td>1900-01-01</td>\n",
       "      <td>AK</td>\n",
       "      <td>Dog</td>\n",
       "    </tr>\n",
       "    <tr>\n",
       "      <th>4</th>\n",
       "      <td>July</td>\n",
       "      <td>1900-07-01</td>\n",
       "      <td>RI</td>\n",
       "      <td>Cat</td>\n",
       "    </tr>\n",
       "    <tr>\n",
       "      <th>5</th>\n",
       "      <td>September</td>\n",
       "      <td>1900-09-01</td>\n",
       "      <td>CA</td>\n",
       "      <td>Cat</td>\n",
       "    </tr>\n",
       "    <tr>\n",
       "      <th>6</th>\n",
       "      <td>April</td>\n",
       "      <td>1900-04-01</td>\n",
       "      <td>CA</td>\n",
       "      <td>Dog</td>\n",
       "    </tr>\n",
       "    <tr>\n",
       "      <th>7</th>\n",
       "      <td>January</td>\n",
       "      <td>1900-01-01</td>\n",
       "      <td>CA</td>\n",
       "      <td>Cat</td>\n",
       "    </tr>\n",
       "    <tr>\n",
       "      <th>8</th>\n",
       "      <td>November</td>\n",
       "      <td>1900-11-01</td>\n",
       "      <td>FL</td>\n",
       "      <td>Dog</td>\n",
       "    </tr>\n",
       "    <tr>\n",
       "      <th>9</th>\n",
       "      <td>December</td>\n",
       "      <td>1900-12-01</td>\n",
       "      <td>FL</td>\n",
       "      <td>Cat</td>\n",
       "    </tr>\n",
       "  </tbody>\n",
       "</table>\n",
       "</div>"
      ],
      "text/plain": [
       "  birth_month birth_month_dt state  pet\n",
       "0     January     1900-01-01    CA  Cat\n",
       "1     January     1900-01-01    CA  Cat\n",
       "2   September     1900-09-01    AK  Dog\n",
       "3     January     1900-01-01    AK  Dog\n",
       "4        July     1900-07-01    RI  Cat\n",
       "5   September     1900-09-01    CA  Cat\n",
       "6       April     1900-04-01    CA  Dog\n",
       "7     January     1900-01-01    CA  Cat\n",
       "8    November     1900-11-01    FL  Dog\n",
       "9    December     1900-12-01    FL  Cat"
      ]
     },
     "execution_count": 11,
     "metadata": {},
     "output_type": "execute_result"
    }
   ],
   "source": [
    "# It's annoying me how Cats is plural, but Dog isn't, so let me change Cats to singular first\n",
    "form_df['pet'] = form_df['pet'].replace(['Cats'], 'Cat')\n",
    "form_df"
   ]
  },
  {
   "cell_type": "code",
   "execution_count": 12,
   "metadata": {},
   "outputs": [
    {
     "data": {
      "text/html": [
       "<div>\n",
       "<style scoped>\n",
       "    .dataframe tbody tr th:only-of-type {\n",
       "        vertical-align: middle;\n",
       "    }\n",
       "\n",
       "    .dataframe tbody tr th {\n",
       "        vertical-align: top;\n",
       "    }\n",
       "\n",
       "    .dataframe thead th {\n",
       "        text-align: right;\n",
       "    }\n",
       "</style>\n",
       "<table border=\"1\" class=\"dataframe\">\n",
       "  <thead>\n",
       "    <tr style=\"text-align: right;\">\n",
       "      <th></th>\n",
       "      <th>birth_month</th>\n",
       "      <th>birth_month_dt</th>\n",
       "      <th>state</th>\n",
       "      <th>pet</th>\n",
       "      <th>pet_class</th>\n",
       "    </tr>\n",
       "  </thead>\n",
       "  <tbody>\n",
       "    <tr>\n",
       "      <th>0</th>\n",
       "      <td>January</td>\n",
       "      <td>1900-01-01</td>\n",
       "      <td>CA</td>\n",
       "      <td>Cat</td>\n",
       "      <td>0</td>\n",
       "    </tr>\n",
       "    <tr>\n",
       "      <th>1</th>\n",
       "      <td>January</td>\n",
       "      <td>1900-01-01</td>\n",
       "      <td>CA</td>\n",
       "      <td>Cat</td>\n",
       "      <td>0</td>\n",
       "    </tr>\n",
       "    <tr>\n",
       "      <th>2</th>\n",
       "      <td>September</td>\n",
       "      <td>1900-09-01</td>\n",
       "      <td>AK</td>\n",
       "      <td>Dog</td>\n",
       "      <td>1</td>\n",
       "    </tr>\n",
       "    <tr>\n",
       "      <th>3</th>\n",
       "      <td>January</td>\n",
       "      <td>1900-01-01</td>\n",
       "      <td>AK</td>\n",
       "      <td>Dog</td>\n",
       "      <td>1</td>\n",
       "    </tr>\n",
       "    <tr>\n",
       "      <th>4</th>\n",
       "      <td>July</td>\n",
       "      <td>1900-07-01</td>\n",
       "      <td>RI</td>\n",
       "      <td>Cat</td>\n",
       "      <td>0</td>\n",
       "    </tr>\n",
       "    <tr>\n",
       "      <th>5</th>\n",
       "      <td>September</td>\n",
       "      <td>1900-09-01</td>\n",
       "      <td>CA</td>\n",
       "      <td>Cat</td>\n",
       "      <td>0</td>\n",
       "    </tr>\n",
       "    <tr>\n",
       "      <th>6</th>\n",
       "      <td>April</td>\n",
       "      <td>1900-04-01</td>\n",
       "      <td>CA</td>\n",
       "      <td>Dog</td>\n",
       "      <td>1</td>\n",
       "    </tr>\n",
       "    <tr>\n",
       "      <th>7</th>\n",
       "      <td>January</td>\n",
       "      <td>1900-01-01</td>\n",
       "      <td>CA</td>\n",
       "      <td>Cat</td>\n",
       "      <td>0</td>\n",
       "    </tr>\n",
       "    <tr>\n",
       "      <th>8</th>\n",
       "      <td>November</td>\n",
       "      <td>1900-11-01</td>\n",
       "      <td>FL</td>\n",
       "      <td>Dog</td>\n",
       "      <td>1</td>\n",
       "    </tr>\n",
       "    <tr>\n",
       "      <th>9</th>\n",
       "      <td>December</td>\n",
       "      <td>1900-12-01</td>\n",
       "      <td>FL</td>\n",
       "      <td>Cat</td>\n",
       "      <td>0</td>\n",
       "    </tr>\n",
       "  </tbody>\n",
       "</table>\n",
       "</div>"
      ],
      "text/plain": [
       "  birth_month birth_month_dt state  pet  pet_class\n",
       "0     January     1900-01-01    CA  Cat          0\n",
       "1     January     1900-01-01    CA  Cat          0\n",
       "2   September     1900-09-01    AK  Dog          1\n",
       "3     January     1900-01-01    AK  Dog          1\n",
       "4        July     1900-07-01    RI  Cat          0\n",
       "5   September     1900-09-01    CA  Cat          0\n",
       "6       April     1900-04-01    CA  Dog          1\n",
       "7     January     1900-01-01    CA  Cat          0\n",
       "8    November     1900-11-01    FL  Dog          1\n",
       "9    December     1900-12-01    FL  Cat          0"
      ]
     },
     "execution_count": 12,
     "metadata": {},
     "output_type": "execute_result"
    }
   ],
   "source": [
    "class_labels = {'Cat':0, 'Dog':1}\n",
    "form_df['pet_class'] = form_df['pet']\n",
    "form_df['pet_class'] = form_df['pet_class'].replace(class_labels)\n",
    "form_df"
   ]
  },
  {
   "cell_type": "markdown",
   "metadata": {},
   "source": [
    "### Actually start plotting"
   ]
  },
  {
   "cell_type": "code",
   "execution_count": 13,
   "metadata": {},
   "outputs": [
    {
     "data": {
      "image/png": "[encoded data removed]",
      "text/plain": [
       "<Figure size 640x480 with 1 Axes>"
      ]
     },
     "metadata": {},
     "output_type": "display_data"
    }
   ],
   "source": [
    "form_df['state'].value_counts().plot(kind='bar');\r\n",
    "plt.show()"
   ]
  },
  {
   "cell_type": "code",
   "execution_count": 14,
   "metadata": {},
   "outputs": [
    {
     "data": {
      "image/png": "[encoded data removed]",
      "text/plain": [
       "<Figure size 640x480 with 1 Axes>"
      ]
     },
     "metadata": {},
     "output_type": "display_data"
    }
   ],
   "source": [
    "form_df['birth_month'].value_counts().plot(kind='bar');\r\n",
    "plt.show()"
   ]
  },
  {
   "cell_type": "code",
   "execution_count": 15,
   "metadata": {},
   "outputs": [
    {
     "data": {
      "image/png": "[encoded data removed]",
      "text/plain": [
       "<Figure size 640x480 with 1 Axes>"
      ]
     },
     "metadata": {},
     "output_type": "display_data"
    }
   ],
   "source": [
    "form_df['pet'].value_counts().plot(kind='bar');\n",
    "plt.show()"
   ]
  },
  {
   "cell_type": "markdown",
   "metadata": {},
   "source": [
    "Let's go a bit further, plot pet by birth month? I highly doubt there will be correlation, but, you know, practice."
   ]
  },
  {
   "cell_type": "code",
   "execution_count": 16,
   "metadata": {},
   "outputs": [
    {
     "data": {
      "image/png": "[encoded data removed]",
      "text/plain": [
       "<Figure size 640x480 with 1 Axes>"
      ]
     },
     "metadata": {},
     "output_type": "display_data"
    }
   ],
   "source": [
    "# btw I completely forgot how to plot so we are using the docs\n",
    "fig, ax = plt.subplots()\n",
    "ax.scatter(form_df['birth_month_dt'], form_df['pet_class'])\n",
    "plt.show()"
   ]
  },
  {
   "cell_type": "markdown",
   "metadata": {},
   "source": [
    "Okay nvm idk how to plot binomial regression. I guess let me plot number of cats and dogs in each state then.\n",
    "- [this](https://matplotlib.org/stable/gallery/lines_bars_and_markers/barchart.html#sphx-glr-gallery-lines-bars-and-markers-barchart-py) might be useful"
   ]
  },
  {
   "cell_type": "code",
   "execution_count": 17,
   "metadata": {},
   "outputs": [
    {
     "data": {
      "text/html": [
       "<div>\n",
       "<style scoped>\n",
       "    .dataframe tbody tr th:only-of-type {\n",
       "        vertical-align: middle;\n",
       "    }\n",
       "\n",
       "    .dataframe tbody tr th {\n",
       "        vertical-align: top;\n",
       "    }\n",
       "\n",
       "    .dataframe thead th {\n",
       "        text-align: right;\n",
       "    }\n",
       "</style>\n",
       "<table border=\"1\" class=\"dataframe\">\n",
       "  <thead>\n",
       "    <tr style=\"text-align: right;\">\n",
       "      <th></th>\n",
       "      <th>birth_month</th>\n",
       "      <th>birth_month_dt</th>\n",
       "      <th>state</th>\n",
       "      <th>pet</th>\n",
       "      <th>pet_class</th>\n",
       "    </tr>\n",
       "  </thead>\n",
       "  <tbody>\n",
       "    <tr>\n",
       "      <th>0</th>\n",
       "      <td>January</td>\n",
       "      <td>1900-01-01</td>\n",
       "      <td>CA</td>\n",
       "      <td>Cat</td>\n",
       "      <td>0</td>\n",
       "    </tr>\n",
       "    <tr>\n",
       "      <th>1</th>\n",
       "      <td>January</td>\n",
       "      <td>1900-01-01</td>\n",
       "      <td>CA</td>\n",
       "      <td>Cat</td>\n",
       "      <td>0</td>\n",
       "    </tr>\n",
       "    <tr>\n",
       "      <th>2</th>\n",
       "      <td>September</td>\n",
       "      <td>1900-09-01</td>\n",
       "      <td>AK</td>\n",
       "      <td>Dog</td>\n",
       "      <td>1</td>\n",
       "    </tr>\n",
       "    <tr>\n",
       "      <th>3</th>\n",
       "      <td>January</td>\n",
       "      <td>1900-01-01</td>\n",
       "      <td>AK</td>\n",
       "      <td>Dog</td>\n",
       "      <td>1</td>\n",
       "    </tr>\n",
       "    <tr>\n",
       "      <th>4</th>\n",
       "      <td>July</td>\n",
       "      <td>1900-07-01</td>\n",
       "      <td>RI</td>\n",
       "      <td>Cat</td>\n",
       "      <td>0</td>\n",
       "    </tr>\n",
       "    <tr>\n",
       "      <th>5</th>\n",
       "      <td>September</td>\n",
       "      <td>1900-09-01</td>\n",
       "      <td>CA</td>\n",
       "      <td>Cat</td>\n",
       "      <td>0</td>\n",
       "    </tr>\n",
       "    <tr>\n",
       "      <th>6</th>\n",
       "      <td>April</td>\n",
       "      <td>1900-04-01</td>\n",
       "      <td>CA</td>\n",
       "      <td>Dog</td>\n",
       "      <td>1</td>\n",
       "    </tr>\n",
       "    <tr>\n",
       "      <th>7</th>\n",
       "      <td>January</td>\n",
       "      <td>1900-01-01</td>\n",
       "      <td>CA</td>\n",
       "      <td>Cat</td>\n",
       "      <td>0</td>\n",
       "    </tr>\n",
       "    <tr>\n",
       "      <th>8</th>\n",
       "      <td>November</td>\n",
       "      <td>1900-11-01</td>\n",
       "      <td>FL</td>\n",
       "      <td>Dog</td>\n",
       "      <td>1</td>\n",
       "    </tr>\n",
       "    <tr>\n",
       "      <th>9</th>\n",
       "      <td>December</td>\n",
       "      <td>1900-12-01</td>\n",
       "      <td>FL</td>\n",
       "      <td>Cat</td>\n",
       "      <td>0</td>\n",
       "    </tr>\n",
       "  </tbody>\n",
       "</table>\n",
       "</div>"
      ],
      "text/plain": [
       "  birth_month birth_month_dt state  pet  pet_class\n",
       "0     January     1900-01-01    CA  Cat          0\n",
       "1     January     1900-01-01    CA  Cat          0\n",
       "2   September     1900-09-01    AK  Dog          1\n",
       "3     January     1900-01-01    AK  Dog          1\n",
       "4        July     1900-07-01    RI  Cat          0\n",
       "5   September     1900-09-01    CA  Cat          0\n",
       "6       April     1900-04-01    CA  Dog          1\n",
       "7     January     1900-01-01    CA  Cat          0\n",
       "8    November     1900-11-01    FL  Dog          1\n",
       "9    December     1900-12-01    FL  Cat          0"
      ]
     },
     "execution_count": 17,
     "metadata": {},
     "output_type": "execute_result"
    }
   ],
   "source": [
    "form_df"
   ]
  },
  {
   "cell_type": "markdown",
   "metadata": {},
   "source": [
    "Make a new dataframe that will store information with states as columns, and # of cats in one row, # of dogs in the other.<br>\n",
    "\n",
    "first test how to count the # of a ```pet``` for a ```state```"
   ]
  },
  {
   "cell_type": "code",
   "execution_count": 18,
   "metadata": {},
   "outputs": [
    {
     "data": {
      "text/plain": [
       "6"
      ]
     },
     "execution_count": 18,
     "metadata": {},
     "output_type": "execute_result"
    }
   ],
   "source": [
    "form_df['pet'].value_counts()['Cat']"
   ]
  },
  {
   "cell_type": "code",
   "execution_count": 19,
   "metadata": {},
   "outputs": [
    {
     "data": {
      "text/plain": [
       "6"
      ]
     },
     "execution_count": 19,
     "metadata": {},
     "output_type": "execute_result"
    }
   ],
   "source": [
    "#https://www.statology.org/pandas-count-values-in-column-with-condition/\n",
    "len(form_df[form_df['pet']=='Cat'])"
   ]
  },
  {
   "cell_type": "code",
   "execution_count": 20,
   "metadata": {},
   "outputs": [
    {
     "data": {
      "text/plain": [
       "4"
      ]
     },
     "execution_count": 20,
     "metadata": {},
     "output_type": "execute_result"
    }
   ],
   "source": [
    "#https://www.statology.org/pandas-count-values-in-column-with-condition/\n",
    "len(form_df[(form_df['pet']=='Cat') & (form_df['state']==\"CA\")])"
   ]
  },
  {
   "cell_type": "markdown",
   "metadata": {},
   "source": [
    "make the dataframe"
   ]
  },
  {
   "cell_type": "code",
   "execution_count": 21,
   "metadata": {},
   "outputs": [
    {
     "data": {
      "text/plain": [
       "{'CA': [4, 1], 'AK': [0, 2], 'RI': [1, 0], 'FL': [1, 1]}"
      ]
     },
     "execution_count": 21,
     "metadata": {},
     "output_type": "execute_result"
    }
   ],
   "source": [
    "# there is probably a better way to do this, but I don't know that way\n",
    "dict = {\"CA\": [len(form_df[(form_df['pet']=='Cat') & (form_df['state']==\"CA\")]), \n",
    "               len(form_df[(form_df['pet']=='Dog') & (form_df['state']==\"CA\")])],\n",
    "        \"AK\": [len(form_df[(form_df['pet']=='Cat') & (form_df['state']==\"AK\")]), \n",
    "               len(form_df[(form_df['pet']=='Dog') & (form_df['state']==\"AK\")])],\n",
    "        \"RI\": [len(form_df[(form_df['pet']=='Cat') & (form_df['state']==\"RI\")]), \n",
    "               len(form_df[(form_df['pet']=='Dog') & (form_df['state']==\"RI\")])],\n",
    "        \"FL\": [len(form_df[(form_df['pet']=='Cat') & (form_df['state']==\"FL\")]), \n",
    "               len(form_df[(form_df['pet']=='Dog') & (form_df['state']==\"FL\")])]}\n",
    "dict"
   ]
  },
  {
   "cell_type": "code",
   "execution_count": 22,
   "metadata": {},
   "outputs": [
    {
     "data": {
      "text/plain": [
       "{'CA': [4, 1], 'AK': [0, 2], 'RI': [1, 0], 'FL': [1, 1]}"
      ]
     },
     "execution_count": 22,
     "metadata": {},
     "output_type": "execute_result"
    }
   ],
   "source": [
    "# wait I have an idea, I think this is the better way\n",
    "#https://stackoverflow.com/questions/30280856/populating-a-dictionary-using-two-for-loops-in-python\n",
    "#https://stackoverflow.com/questions/32072076/find-the-unique-values-in-a-column-and-then-sort-them\n",
    "d = {}\n",
    "columns = form_df['state'].unique()\n",
    "for i in columns:\n",
    "    d[i] = [len(form_df[(form_df['pet']=='Cat') & (form_df['state']==i)]), \n",
    "            len(form_df[(form_df['pet']=='Dog') & (form_df['state']==i)])]\n",
    "d"
   ]
  },
  {
   "cell_type": "code",
   "execution_count": 23,
   "metadata": {},
   "outputs": [
    {
     "data": {
      "text/html": [
       "<div>\n",
       "<style scoped>\n",
       "    .dataframe tbody tr th:only-of-type {\n",
       "        vertical-align: middle;\n",
       "    }\n",
       "\n",
       "    .dataframe tbody tr th {\n",
       "        vertical-align: top;\n",
       "    }\n",
       "\n",
       "    .dataframe thead th {\n",
       "        text-align: right;\n",
       "    }\n",
       "</style>\n",
       "<table border=\"1\" class=\"dataframe\">\n",
       "  <thead>\n",
       "    <tr style=\"text-align: right;\">\n",
       "      <th></th>\n",
       "      <th>CA</th>\n",
       "      <th>AK</th>\n",
       "      <th>RI</th>\n",
       "      <th>FL</th>\n",
       "    </tr>\n",
       "  </thead>\n",
       "  <tbody>\n",
       "    <tr>\n",
       "      <th>Cats</th>\n",
       "      <td>4</td>\n",
       "      <td>0</td>\n",
       "      <td>1</td>\n",
       "      <td>1</td>\n",
       "    </tr>\n",
       "    <tr>\n",
       "      <th>Dogs</th>\n",
       "      <td>1</td>\n",
       "      <td>2</td>\n",
       "      <td>0</td>\n",
       "      <td>1</td>\n",
       "    </tr>\n",
       "  </tbody>\n",
       "</table>\n",
       "</div>"
      ],
      "text/plain": [
       "      CA  AK  RI  FL\n",
       "Cats   4   0   1   1\n",
       "Dogs   1   2   0   1"
      ]
     },
     "execution_count": 23,
     "metadata": {},
     "output_type": "execute_result"
    }
   ],
   "source": [
    "#https://pandas.pydata.org/docs/reference/api/pandas.DataFrame.html\n",
    "statepet_df = pd.DataFrame(data=d, index=['Cats', 'Dogs'])\n",
    "statepet_df"
   ]
  },
  {
   "cell_type": "markdown",
   "metadata": {},
   "source": [
    "Make the double bar chart."
   ]
  },
  {
   "cell_type": "code",
   "execution_count": 24,
   "metadata": {},
   "outputs": [
    {
     "data": {
      "text/plain": [
       "array([0, 1, 2])"
      ]
     },
     "execution_count": 24,
     "metadata": {},
     "output_type": "execute_result"
    }
   ],
   "source": [
    "# test with the example first\n",
    "#https://matplotlib.org/stable/gallery/lines_bars_and_markers/barchart.html\n",
    "\n",
    "import numpy as np\n",
    "\n",
    "species = (\"Adelie\", \"Chinstrap\", \"Gentoo\")\n",
    "penguin_means = {\n",
    "    'Bill Depth': (18.35, 18.43, 14.98),\n",
    "    'Bill Length': (38.79, 48.83, 47.50),\n",
    "    'Flipper Length': (189.95, 195.82, 217.19),\n",
    "}\n",
    "\n",
    "x = np.arange(len(species))  # the label locations\n",
    "\n",
    "x"
   ]
  },
  {
   "cell_type": "code",
   "execution_count": 25,
   "metadata": {},
   "outputs": [
    {
     "data": {
      "text/plain": [
       "dict_items([('Bill Depth', (18.35, 18.43, 14.98)), ('Bill Length', (38.79, 48.83, 47.5)), ('Flipper Length', (189.95, 195.82, 217.19))])"
      ]
     },
     "execution_count": 25,
     "metadata": {},
     "output_type": "execute_result"
    }
   ],
   "source": [
    "penguin_means = {\n",
    "    'Bill Depth': (18.35, 18.43, 14.98),\n",
    "    'Bill Length': (38.79, 48.83, 47.50),\n",
    "    'Flipper Length': (189.95, 195.82, 217.19),\n",
    "}\n",
    "\n",
    "penguin_means.items()"
   ]
  },
  {
   "cell_type": "code",
   "execution_count": 77,
   "metadata": {},
   "outputs": [
    {
     "name": "stdout",
     "output_type": "stream",
     "text": [
      "Bill Depth\n",
      "(18.35, 18.43, 14.98)\n",
      "Bill Length\n",
      "(38.79, 48.83, 47.5)\n",
      "Flipper Length\n",
      "(189.95, 195.82, 217.19)\n"
     ]
    },
    {
     "data": {
      "image/png": "[encoded data removed]",
      "text/plain": [
       "<Figure size 640x480 with 1 Axes>"
      ]
     },
     "metadata": {},
     "output_type": "display_data"
    }
   ],
   "source": [
    "species = (\"Adelie\", \"Chinstrap\", \"Gentoo\")\n",
    "penguin_means = {\n",
    "    'Bill Depth': (18.35, 18.43, 14.98),\n",
    "    'Bill Length': (38.79, 48.83, 47.50),\n",
    "    'Flipper Length': (189.95, 195.82, 217.19),\n",
    "}\n",
    "\n",
    "x = np.arange(len(species))  # the label locations\n",
    "width = 0.25  # the width of the bars\n",
    "multiplier = 0\n",
    "\n",
    "fig, ax = plt.subplots(layout='constrained')\n",
    "\n",
    "for attribute, measurement in penguin_means.items():\n",
    "    offset = width * multiplier\n",
    "    rects = ax.bar(x + offset, measurement, width, label=attribute)\n",
    "    ax.bar_label(rects, padding=3)\n",
    "    multiplier += 1\n",
    "    print(attribute)\n",
    "    print(measurement)\n",
    "\n",
    "# Add some text for labels, title and custom x-axis tick labels, etc.\n",
    "ax.set_ylabel('Length (mm)')\n",
    "ax.set_title('Penguin attributes by species')\n",
    "ax.set_xticks(x + width, species)\n",
    "ax.legend(loc='upper left', ncols=3)\n",
    "ax.set_ylim(0, 250)\n",
    "\n",
    "plt.show()"
   ]
  },
  {
   "cell_type": "code",
   "execution_count": 27,
   "metadata": {},
   "outputs": [
    {
     "data": {
      "text/plain": [
       "{'CA': Cats    4\n",
       " Dogs    1\n",
       " Name: CA, dtype: int64,\n",
       " 'AK': Cats    0\n",
       " Dogs    2\n",
       " Name: AK, dtype: int64,\n",
       " 'RI': Cats    1\n",
       " Dogs    0\n",
       " Name: RI, dtype: int64,\n",
       " 'FL': Cats    1\n",
       " Dogs    1\n",
       " Name: FL, dtype: int64}"
      ]
     },
     "execution_count": 27,
     "metadata": {},
     "output_type": "execute_result"
    }
   ],
   "source": [
    "#https://pandas.pydata.org/docs/reference/api/pandas.DataFrame.to_dict.html\n",
    "statepet_df.to_dict('series')\n",
    "# cool but not what I need"
   ]
  },
  {
   "cell_type": "code",
   "execution_count": 28,
   "metadata": {},
   "outputs": [
    {
     "data": {
      "text/plain": [
       "dict_items([('CA', Cats    4\n",
       "Dogs    1\n",
       "Name: CA, dtype: int64), ('AK', Cats    0\n",
       "Dogs    2\n",
       "Name: AK, dtype: int64), ('RI', Cats    1\n",
       "Dogs    0\n",
       "Name: RI, dtype: int64), ('FL', Cats    1\n",
       "Dogs    1\n",
       "Name: FL, dtype: int64)])"
      ]
     },
     "execution_count": 28,
     "metadata": {},
     "output_type": "execute_result"
    }
   ],
   "source": [
    "# wait try items() like they are using\n",
    "statepet_df.to_dict('series').items()"
   ]
  },
  {
   "cell_type": "code",
   "execution_count": 34,
   "metadata": {},
   "outputs": [
    {
     "data": {
      "text/plain": [
       "dict_items([('Cats', {'CA': 4, 'AK': 0, 'RI': 1, 'FL': 1}), ('Dogs', {'CA': 1, 'AK': 2, 'RI': 0, 'FL': 1})])"
      ]
     },
     "execution_count": 34,
     "metadata": {},
     "output_type": "execute_result"
    }
   ],
   "source": [
    "# wait actually the other way is the right way?\n",
    "statepet_df.to_dict('index').items()"
   ]
  },
  {
   "cell_type": "code",
   "execution_count": 48,
   "metadata": {},
   "outputs": [
    {
     "data": {
      "text/html": [
       "<div>\n",
       "<style scoped>\n",
       "    .dataframe tbody tr th:only-of-type {\n",
       "        vertical-align: middle;\n",
       "    }\n",
       "\n",
       "    .dataframe tbody tr th {\n",
       "        vertical-align: top;\n",
       "    }\n",
       "\n",
       "    .dataframe thead th {\n",
       "        text-align: right;\n",
       "    }\n",
       "</style>\n",
       "<table border=\"1\" class=\"dataframe\">\n",
       "  <thead>\n",
       "    <tr style=\"text-align: right;\">\n",
       "      <th></th>\n",
       "      <th>CA</th>\n",
       "      <th>AK</th>\n",
       "      <th>RI</th>\n",
       "      <th>FL</th>\n",
       "    </tr>\n",
       "  </thead>\n",
       "  <tbody>\n",
       "    <tr>\n",
       "      <th>Cats</th>\n",
       "      <td>4</td>\n",
       "      <td>0</td>\n",
       "      <td>1</td>\n",
       "      <td>1</td>\n",
       "    </tr>\n",
       "    <tr>\n",
       "      <th>Dogs</th>\n",
       "      <td>1</td>\n",
       "      <td>2</td>\n",
       "      <td>0</td>\n",
       "      <td>1</td>\n",
       "    </tr>\n",
       "  </tbody>\n",
       "</table>\n",
       "</div>"
      ],
      "text/plain": [
       "      CA  AK  RI  FL\n",
       "Cats   4   0   1   1\n",
       "Dogs   1   2   0   1"
      ]
     },
     "execution_count": 48,
     "metadata": {},
     "output_type": "execute_result"
    }
   ],
   "source": [
    "statepet_df.loc[statepet_df['FL'] == 1]"
   ]
  },
  {
   "cell_type": "code",
   "execution_count": 54,
   "metadata": {},
   "outputs": [
    {
     "data": {
      "text/plain": [
       "{'index': ['Cats', 'Dogs'],\n",
       " 'columns': ['CA', 'AK', 'RI', 'FL'],\n",
       " 'data': [[4, 0, 1, 1], [1, 2, 0, 1]]}"
      ]
     },
     "execution_count": 54,
     "metadata": {},
     "output_type": "execute_result"
    }
   ],
   "source": [
    "statepet_df.to_dict('split')"
   ]
  },
  {
   "cell_type": "code",
   "execution_count": 52,
   "metadata": {},
   "outputs": [
    {
     "data": {
      "text/plain": [
       "['Cats', 'Dogs']"
      ]
     },
     "execution_count": 52,
     "metadata": {},
     "output_type": "execute_result"
    }
   ],
   "source": [
    "test = statepet_df.to_dict('split')\n",
    "test['index']"
   ]
  },
  {
   "cell_type": "code",
   "execution_count": 53,
   "metadata": {},
   "outputs": [
    {
     "data": {
      "text/plain": [
       "dict_items([('index', ['Cats', 'Dogs']), ('columns', ['CA', 'AK', 'RI', 'FL']), ('data', [[4, 0, 1, 1], [1, 2, 0, 1]])])"
      ]
     },
     "execution_count": 53,
     "metadata": {},
     "output_type": "execute_result"
    }
   ],
   "source": [
    "statepet_df.to_dict('split').items()"
   ]
  },
  {
   "cell_type": "code",
   "execution_count": 38,
   "metadata": {},
   "outputs": [
    {
     "data": {
      "text/plain": [
       "Index(['CA', 'AK', 'RI', 'FL'], dtype='object')"
      ]
     },
     "execution_count": 38,
     "metadata": {},
     "output_type": "execute_result"
    }
   ],
   "source": [
    "# need to check columns, I'll just represent them kinda like species\n",
    "test = statepet_df.columns\n",
    "test"
   ]
  },
  {
   "cell_type": "code",
   "execution_count": 30,
   "metadata": {},
   "outputs": [
    {
     "name": "stdout",
     "output_type": "stream",
     "text": [
      "4\n",
      "0\n",
      "1\n",
      "1\n",
      "1\n",
      "2\n",
      "0\n",
      "1\n"
     ]
    }
   ],
   "source": [
    "# to list then?\n",
    "#https://datatofish.com/convert-pandas-dataframe-to-list/\n",
    "statepet_df.values.tolist()\n",
    "\n",
    "for one in statepet_df.values.tolist():\n",
    "    for i in range(0, 4):\n",
    "        print(one[i])\n",
    "\n",
    "# wait wait I'm dumb this is the wrong way, I need lists by column."
   ]
  },
  {
   "cell_type": "code",
   "execution_count": 31,
   "metadata": {},
   "outputs": [
    {
     "name": "stdout",
     "output_type": "stream",
     "text": [
      "4\n",
      "1\n",
      "next\n",
      "0\n",
      "2\n",
      "next\n",
      "1\n",
      "0\n",
      "next\n",
      "1\n",
      "1\n",
      "next\n"
     ]
    }
   ],
   "source": [
    "for c in statepet_df.columns:\n",
    "    for i in range (0, 2):\n",
    "        print(statepet_df[c][i])\n",
    "    print(\"next\")"
   ]
  },
  {
   "cell_type": "code",
   "execution_count": 32,
   "metadata": {},
   "outputs": [
    {
     "data": {
      "text/plain": [
       "array([0, 1, 2, 3])"
      ]
     },
     "execution_count": 32,
     "metadata": {},
     "output_type": "execute_result"
    }
   ],
   "source": [
    "# test this thing\n",
    "np.arange(len(statepet_df.columns))"
   ]
  },
  {
   "cell_type": "code",
   "execution_count": 43,
   "metadata": {},
   "outputs": [
    {
     "data": {
      "text/plain": [
       "['Cats', 'Dogs']"
      ]
     },
     "execution_count": 43,
     "metadata": {},
     "output_type": "execute_result"
    }
   ],
   "source": [
    "list(statepet_df.index)"
   ]
  },
  {
   "cell_type": "code",
   "execution_count": 59,
   "metadata": {},
   "outputs": [
    {
     "data": {
      "text/plain": [
       "[4, 0, 1, 1, 1, 2, 0, 1]"
      ]
     },
     "execution_count": 59,
     "metadata": {},
     "output_type": "execute_result"
    }
   ],
   "source": [
    "statepet_df.to_dict('split')['data'][0] + statepet_df.to_dict('split')['data'][1]"
   ]
  },
  {
   "cell_type": "code",
   "execution_count": 85,
   "metadata": {},
   "outputs": [
    {
     "data": {
      "text/plain": [
       "{'Cats': [4, 0, 1, 1], 'Dogs': [1, 2, 0, 1]}"
      ]
     },
     "execution_count": 85,
     "metadata": {},
     "output_type": "execute_result"
    }
   ],
   "source": [
    "statepet_dict = statepet_df.to_dict('split')\n",
    "pet_counts = dict.fromkeys(statepet_dict['index'])\n",
    "i = 0\n",
    "for key in pet_counts:\n",
    "    pet_counts[key] = statepet_dict['data'][i]\n",
    "    i += 1\n",
    "pet_counts"
   ]
  },
  {
   "cell_type": "code",
   "execution_count": 87,
   "metadata": {},
   "outputs": [
    {
     "name": "stdout",
     "output_type": "stream",
     "text": [
      "Cats\n",
      "[4, 0, 1, 1]\n",
      "Dogs\n",
      "[1, 2, 0, 1]\n"
     ]
    },
    {
     "data": {
      "image/png": "[encoded data removed]",
      "text/plain": [
       "<Figure size 640x480 with 1 Axes>"
      ]
     },
     "metadata": {},
     "output_type": "display_data"
    }
   ],
   "source": [
    "# species is our states\n",
    "states = list(statepet_df.columns)\n",
    "# penguin_means is our pet counts, kinda\n",
    "pet_counts = dict.fromkeys(statepet_dict['index'])\n",
    "i = 0\n",
    "for key in pet_counts:\n",
    "    pet_counts[key] = statepet_dict['data'][i]\n",
    "    i += 1\n",
    "\n",
    "x = np.arange(len(states))  # the label locations, based on how many groups there are\n",
    "width = 0.25  # the width of the bars\n",
    "multiplier = .5 # this is what changes depending on number of bars to centre bars\n",
    "\n",
    "fig, ax = plt.subplots(layout='constrained')\n",
    "\n",
    "for pet, counts, in pet_counts.items():\n",
    "    offset = width * multiplier\n",
    "    rects = ax.bar(x + offset, counts, width, label=pet)\n",
    "    ax.bar_label(rects, padding=3)\n",
    "    multiplier += 1\n",
    "    print(pet)\n",
    "    print(counts)\n",
    "\n",
    "# Add some text for labels, title and custom x-axis tick labels, etc.\n",
    "ax.set_ylabel('# of pets')\n",
    "ax.set_xlabel('state')\n",
    "ax.set_title('Number of Pets by State')\n",
    "ax.set_xticks(x + width, states)\n",
    "ax.legend(loc='upper left', ncols=4)\n",
    "\n",
    "# find limits of data\n",
    "statepet_values = statepet_df.to_dict('split')['data'][0] + statepet_df.to_dict('split')['data'][1]\n",
    "ax.set_ylim(min(statepet_values), max(statepet_values)+1)\n",
    "\n",
    "plt.show()"
   ]
  }
 ],
 "metadata": {
  "interpreter": {
   "hash": "6b9b57232c4b57163d057191678da2030059e733b8becc68f245de5a75abe84e"
  },
  "kernelspec": {
   "display_name": "Python 3 (ipykernel)",
   "language": "python",
   "name": "python3"
  },
  "language_info": {
   "codemirror_mode": {
    "name": "ipython",
    "version": 3
   },
   "file_extension": ".py",
   "mimetype": "text/x-python",
   "name": "python",
   "nbconvert_exporter": "python",
   "pygments_lexer": "ipython3",
   "version": "3.10.11"
  }
 },
 "nbformat": 4,
 "nbformat_minor": 4
}
