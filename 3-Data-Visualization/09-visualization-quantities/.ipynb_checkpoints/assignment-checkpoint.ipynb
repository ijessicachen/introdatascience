{
 "cells": [
  {
   "cell_type": "markdown",
   "id": "b6477465-6062-4fd7-854f-a515f7a7d495",
   "metadata": {},
   "source": [
    "# Lines, Scatters and Bars\n",
    "\n",
    "## Instructions\n",
    "\n",
    "In this lesson, you worked with line charts, scatterplots, and bar charts to show interesting facts about this dataset. In this assignment, dig deeper into the dataset to discover a fact about a given type of bird. For example, create a notebook visualizing all the interesting data you can uncover about Snow Geese. Use the three plots mentioned above to tell a story in your notebook.\n",
    "\n",
    "## Rubric\n",
    "\n",
    "Exemplary | Adequate | Needs Improvement\n",
    "--- | --- | -- |\n",
    "A notebook is presented with good annotations, solid storytelling, and attractive graphs | The notebook is missing one of these elements | The notebook is missing two of these elements"
   ]
  },
  {
   "cell_type": "code",
   "execution_count": 54,
   "id": "7f02bafb-d074-4a80-9434-66d488646e0b",
   "metadata": {},
   "outputs": [
    {
     "data": {
      "text/html": [
       "<div>\n",
       "<style scoped>\n",
       "    .dataframe tbody tr th:only-of-type {\n",
       "        vertical-align: middle;\n",
       "    }\n",
       "\n",
       "    .dataframe tbody tr th {\n",
       "        vertical-align: top;\n",
       "    }\n",
       "\n",
       "    .dataframe thead th {\n",
       "        text-align: right;\n",
       "    }\n",
       "</style>\n",
       "<table border=\"1\" class=\"dataframe\">\n",
       "  <thead>\n",
       "    <tr style=\"text-align: right;\">\n",
       "      <th></th>\n",
       "      <th>Name</th>\n",
       "      <th>ScientificName</th>\n",
       "      <th>Category</th>\n",
       "      <th>Order</th>\n",
       "      <th>Family</th>\n",
       "      <th>Genus</th>\n",
       "      <th>ConservationStatus</th>\n",
       "      <th>MinLength</th>\n",
       "      <th>MaxLength</th>\n",
       "      <th>MinBodyMass</th>\n",
       "      <th>MaxBodyMass</th>\n",
       "      <th>MinWingspan</th>\n",
       "      <th>MaxWingspan</th>\n",
       "    </tr>\n",
       "  </thead>\n",
       "  <tbody>\n",
       "    <tr>\n",
       "      <th>347</th>\n",
       "      <td>Smith's longspur</td>\n",
       "      <td>Calcarius pictus</td>\n",
       "      <td>Longspurs/Snow buntings</td>\n",
       "      <td>Passeriformes</td>\n",
       "      <td>Calcariidae</td>\n",
       "      <td>Calcarius</td>\n",
       "      <td>LC</td>\n",
       "      <td>15.0</td>\n",
       "      <td>17.0</td>\n",
       "      <td>20.0</td>\n",
       "      <td>32.0</td>\n",
       "      <td>25.0</td>\n",
       "      <td>25.0</td>\n",
       "    </tr>\n",
       "    <tr>\n",
       "      <th>407</th>\n",
       "      <td>Hooded warbler</td>\n",
       "      <td>Setophaga citrina</td>\n",
       "      <td>New World warblers</td>\n",
       "      <td>Passeriformes</td>\n",
       "      <td>Parulidae</td>\n",
       "      <td>Setophaga</td>\n",
       "      <td>LC</td>\n",
       "      <td>13.0</td>\n",
       "      <td>13.0</td>\n",
       "      <td>9.0</td>\n",
       "      <td>12.0</td>\n",
       "      <td>17.5</td>\n",
       "      <td>17.5</td>\n",
       "    </tr>\n",
       "    <tr>\n",
       "      <th>432</th>\n",
       "      <td>Summer tanager</td>\n",
       "      <td>Piranga rubra</td>\n",
       "      <td>Cardinals/Allies</td>\n",
       "      <td>Passeriformes</td>\n",
       "      <td>Cardinalidae</td>\n",
       "      <td>Piranga</td>\n",
       "      <td>LC</td>\n",
       "      <td>17.0</td>\n",
       "      <td>17.0</td>\n",
       "      <td>29.0</td>\n",
       "      <td>29.0</td>\n",
       "      <td>28.0</td>\n",
       "      <td>30.0</td>\n",
       "    </tr>\n",
       "    <tr>\n",
       "      <th>188</th>\n",
       "      <td>Snowy egret</td>\n",
       "      <td>Egretta thula</td>\n",
       "      <td>Herons/Egrets/Bitterns</td>\n",
       "      <td>Pelecaniformes</td>\n",
       "      <td>Ardeidae</td>\n",
       "      <td>Egretta</td>\n",
       "      <td>LC</td>\n",
       "      <td>56.0</td>\n",
       "      <td>66.0</td>\n",
       "      <td>370.0</td>\n",
       "      <td>370.0</td>\n",
       "      <td>100.0</td>\n",
       "      <td>100.0</td>\n",
       "    </tr>\n",
       "    <tr>\n",
       "      <th>2</th>\n",
       "      <td>Snow goose</td>\n",
       "      <td>Anser caerulescens</td>\n",
       "      <td>Ducks/Geese/Waterfowl</td>\n",
       "      <td>Anseriformes</td>\n",
       "      <td>Anatidae</td>\n",
       "      <td>Anser</td>\n",
       "      <td>LC</td>\n",
       "      <td>64.0</td>\n",
       "      <td>79.0</td>\n",
       "      <td>2050.0</td>\n",
       "      <td>4050.0</td>\n",
       "      <td>135.0</td>\n",
       "      <td>165.0</td>\n",
       "    </tr>\n",
       "  </tbody>\n",
       "</table>\n",
       "</div>"
      ],
      "text/plain": [
       "                 Name      ScientificName                 Category   \n",
       "347  Smith's longspur    Calcarius pictus  Longspurs/Snow buntings  \\\n",
       "407    Hooded warbler   Setophaga citrina       New World warblers   \n",
       "432    Summer tanager       Piranga rubra         Cardinals/Allies   \n",
       "188       Snowy egret       Egretta thula   Herons/Egrets/Bitterns   \n",
       "2          Snow goose  Anser caerulescens    Ducks/Geese/Waterfowl   \n",
       "\n",
       "              Order        Family      Genus ConservationStatus  MinLength   \n",
       "347   Passeriformes   Calcariidae  Calcarius                 LC       15.0  \\\n",
       "407   Passeriformes     Parulidae  Setophaga                 LC       13.0   \n",
       "432   Passeriformes  Cardinalidae    Piranga                 LC       17.0   \n",
       "188  Pelecaniformes      Ardeidae    Egretta                 LC       56.0   \n",
       "2      Anseriformes      Anatidae      Anser                 LC       64.0   \n",
       "\n",
       "     MaxLength  MinBodyMass  MaxBodyMass  MinWingspan  MaxWingspan  \n",
       "347       17.0         20.0         32.0         25.0         25.0  \n",
       "407       13.0          9.0         12.0         17.5         17.5  \n",
       "432       17.0         29.0         29.0         28.0         30.0  \n",
       "188       66.0        370.0        370.0        100.0        100.0  \n",
       "2         79.0       2050.0       4050.0        135.0        165.0  "
      ]
     },
     "execution_count": 54,
     "metadata": {},
     "output_type": "execute_result"
    }
   ],
   "source": [
    "import pandas as pd\n",
    "import matplotlib.pyplot as plt\n",
    "import numpy as np\n",
    "birds = pd.read_csv('../../data/birds.csv')\n",
    "birds.sample(5)"
   ]
  },
  {
   "cell_type": "code",
   "execution_count": 55,
   "id": "f55b8615-5fec-4257-8580-8bc0f7d08ce7",
   "metadata": {},
   "outputs": [
    {
     "name": "stdout",
     "output_type": "stream",
     "text": [
      "           Name            ScientificName      Category            Order   \n",
      "209  Bald eagle  Haliaeetus leucocephalus  Hawks/Eagles  Accipitriformes  \\\n",
      "\n",
      "           Family       Genus ConservationStatus  MinLength  MaxLength   \n",
      "209  Accipitridae  Haliaeetus                 LC       70.0      102.0  \\\n",
      "\n",
      "     MinBodyMass  MaxBodyMass  MinWingspan  MaxWingspan  \n",
      "209       3000.0       6300.0       1800.0       2300.0  \n",
      "               Name   ScientificName            Category         Order   \n",
      "247  Prairie falcon  Falco mexicanus  Falcons /Caracaras  Falconformes  \\\n",
      "\n",
      "         Family  Genus ConservationStatus  MinLength  MaxLength  MinBodyMass   \n",
      "247  Falconidae  Falco                 LC       37.0       45.0        500.0  \\\n",
      "\n",
      "     MaxBodyMass  MinWingspan  MaxWingspan  \n",
      "247        970.0       1100.0       1100.0  \n",
      "           Name            ScientificName      Category            Order   \n",
      "209  Bald eagle  Haliaeetus leucocephalus  Hawks/Eagles  Accipitriformes  \\\n",
      "\n",
      "           Family       Genus ConservationStatus  MinLength  MaxLength   \n",
      "209  Accipitridae  Haliaeetus                 LC       70.0      102.0  \\\n",
      "\n",
      "     MinBodyMass  MaxBodyMass  MinWingspan  MaxWingspan  \n",
      "209       3000.0       6300.0        180.0        230.0  \n",
      "               Name   ScientificName            Category         Order   \n",
      "247  Prairie falcon  Falco mexicanus  Falcons /Caracaras  Falconformes  \\\n",
      "\n",
      "         Family  Genus ConservationStatus  MinLength  MaxLength  MinBodyMass   \n",
      "247  Falconidae  Falco                 LC       37.0       45.0        500.0  \\\n",
      "\n",
      "     MaxBodyMass  MinWingspan  MaxWingspan  \n",
      "247        970.0        110.0        110.0  \n"
     ]
    },
    {
     "name": "stderr",
     "output_type": "stream",
     "text": [
      "/tmp/ipykernel_131/4070454546.py:4: SettingWithCopyWarning:\n",
      "\n",
      "\n",
      "A value is trying to be set on a copy of a slice from a DataFrame\n",
      "\n",
      "See the caveats in the documentation: https://pandas.pydata.org/pandas-docs/stable/user_guide/indexing.html#returning-a-view-versus-a-copy\n",
      "\n",
      "/tmp/ipykernel_131/4070454546.py:5: SettingWithCopyWarning:\n",
      "\n",
      "\n",
      "A value is trying to be set on a copy of a slice from a DataFrame\n",
      "\n",
      "See the caveats in the documentation: https://pandas.pydata.org/pandas-docs/stable/user_guide/indexing.html#returning-a-view-versus-a-copy\n",
      "\n",
      "/tmp/ipykernel_131/4070454546.py:6: SettingWithCopyWarning:\n",
      "\n",
      "\n",
      "A value is trying to be set on a copy of a slice from a DataFrame\n",
      "\n",
      "See the caveats in the documentation: https://pandas.pydata.org/pandas-docs/stable/user_guide/indexing.html#returning-a-view-versus-a-copy\n",
      "\n",
      "/tmp/ipykernel_131/4070454546.py:7: SettingWithCopyWarning:\n",
      "\n",
      "\n",
      "A value is trying to be set on a copy of a slice from a DataFrame\n",
      "\n",
      "See the caveats in the documentation: https://pandas.pydata.org/pandas-docs/stable/user_guide/indexing.html#returning-a-view-versus-a-copy\n",
      "\n"
     ]
    }
   ],
   "source": [
    "# fix those 2 or 4 outliers\n",
    "print(birds.loc[[209]])\n",
    "print(birds.loc[[247]])\n",
    "birds['MaxWingspan'][209] = birds['MaxWingspan'][209]/10\n",
    "birds['MinWingspan'][209] = birds['MinWingspan'][209]/10\n",
    "birds['MaxWingspan'][247] = birds['MaxWingspan'][247]/10\n",
    "birds['MinWingspan'][247] = birds['MinWingspan'][247]/10\n",
    "print(birds.loc[[209]])\n",
    "print(birds.loc[[247]])"
   ]
  },
  {
   "cell_type": "code",
   "execution_count": 56,
   "id": "a140a602-49c5-4a72-994e-9aab6bf5d8cf",
   "metadata": {},
   "outputs": [
    {
     "data": {
      "text/html": [
       "<div>\n",
       "<style scoped>\n",
       "    .dataframe tbody tr th:only-of-type {\n",
       "        vertical-align: middle;\n",
       "    }\n",
       "\n",
       "    .dataframe tbody tr th {\n",
       "        vertical-align: top;\n",
       "    }\n",
       "\n",
       "    .dataframe thead th {\n",
       "        text-align: right;\n",
       "    }\n",
       "</style>\n",
       "<table border=\"1\" class=\"dataframe\">\n",
       "  <thead>\n",
       "    <tr style=\"text-align: right;\">\n",
       "      <th></th>\n",
       "      <th>Name</th>\n",
       "      <th>ScientificName</th>\n",
       "      <th>Category</th>\n",
       "      <th>Order</th>\n",
       "      <th>Family</th>\n",
       "      <th>Genus</th>\n",
       "      <th>ConservationStatus</th>\n",
       "      <th>MinLength</th>\n",
       "      <th>MaxLength</th>\n",
       "      <th>MinBodyMass</th>\n",
       "      <th>MaxBodyMass</th>\n",
       "      <th>MinWingspan</th>\n",
       "      <th>MaxWingspan</th>\n",
       "    </tr>\n",
       "  </thead>\n",
       "  <tbody>\n",
       "    <tr>\n",
       "      <th>365</th>\n",
       "      <td>Vesper sparrow</td>\n",
       "      <td>Pooecetes gramineus</td>\n",
       "      <td>New World sparrows</td>\n",
       "      <td>Passeriformes</td>\n",
       "      <td>Passerellidae</td>\n",
       "      <td>Pooecetes</td>\n",
       "      <td>LC</td>\n",
       "      <td>13.0</td>\n",
       "      <td>16.0</td>\n",
       "      <td>20.0</td>\n",
       "      <td>28.0</td>\n",
       "      <td>24.0</td>\n",
       "      <td>24.0</td>\n",
       "    </tr>\n",
       "  </tbody>\n",
       "</table>\n",
       "</div>"
      ],
      "text/plain": [
       "               Name       ScientificName            Category          Order   \n",
       "365  Vesper sparrow  Pooecetes gramineus  New World sparrows  Passeriformes  \\\n",
       "\n",
       "            Family      Genus ConservationStatus  MinLength  MaxLength   \n",
       "365  Passerellidae  Pooecetes                 LC       13.0       16.0  \\\n",
       "\n",
       "     MinBodyMass  MaxBodyMass  MinWingspan  MaxWingspan  \n",
       "365         20.0         28.0         24.0         24.0  "
      ]
     },
     "execution_count": 56,
     "metadata": {},
     "output_type": "execute_result"
    }
   ],
   "source": [
    "# okay let's learn about the Vesper sparrow, row 365\n",
    "birds.loc[[365]]"
   ]
  },
  {
   "cell_type": "markdown",
   "id": "0eb8ad77-48c4-4a76-8acf-739964883f81",
   "metadata": {},
   "source": [
    "## Quantitative Values\n",
    "first, let's compare the it's length, body mass, and wingspan with the mean and median of those values for all the birds.<br>\n",
    "\n",
    "I will find said value and place them in some arrays (series? lists?)."
   ]
  },
  {
   "cell_type": "code",
   "execution_count": 57,
   "id": "325878be-8ea4-43cf-9fa3-e330343ec273",
   "metadata": {},
   "outputs": [
    {
     "data": {
      "text/plain": [
       "['MinLength',\n",
       " 'MaxLength',\n",
       " 'MinBodyMass',\n",
       " 'MaxBodyMass',\n",
       " 'MinWingspan',\n",
       " 'MaxWingspan']"
      ]
     },
     "execution_count": 57,
     "metadata": {},
     "output_type": "execute_result"
    }
   ],
   "source": [
    "atts = birds.columns.tolist()\n",
    "del atts[0:7]\n",
    "atts"
   ]
  },
  {
   "cell_type": "markdown",
   "id": "9d8d7882-6920-489b-b1db-f0e4d5e92a47",
   "metadata": {},
   "source": [
    "#### Figure out how to find mean and median"
   ]
  },
  {
   "cell_type": "code",
   "execution_count": 58,
   "id": "351a6596-1a53-469d-9d50-4fe40bc433a9",
   "metadata": {},
   "outputs": [
    {
     "data": {
      "text/plain": [
       "[28.53668171557562,\n",
       " 35.44198645598194,\n",
       " 327.9382618510158,\n",
       " 667.0097516930023,\n",
       " 52.66625282167043,\n",
       " 60.61704288939052]"
      ]
     },
     "execution_count": 58,
     "metadata": {},
     "output_type": "execute_result"
    }
   ],
   "source": [
    "means = []\n",
    "for item in atts:\n",
    "    means.append(birds.loc[:, item].mean())\n",
    "means"
   ]
  },
  {
   "cell_type": "code",
   "execution_count": 59,
   "id": "65bcc8a8-3497-4f8d-b5af-08ae43d59caa",
   "metadata": {},
   "outputs": [
    {
     "data": {
      "text/plain": [
       "[20.5, 25.0, 55.0, 89.0, 38.0, 42.0]"
      ]
     },
     "execution_count": 59,
     "metadata": {},
     "output_type": "execute_result"
    }
   ],
   "source": [
    "medians = []\n",
    "for item in atts:\n",
    "    medians.append(birds.loc[:, item].median())\n",
    "medians"
   ]
  },
  {
   "cell_type": "markdown",
   "id": "46a7db62-a170-4bb1-bb19-ab8670db375a",
   "metadata": {},
   "source": [
    "might as well just make a list for these Vesper sparrow attributes too."
   ]
  },
  {
   "cell_type": "code",
   "execution_count": 60,
   "id": "4e97f8d4-dda2-47af-b62d-7a669e0b6f5d",
   "metadata": {},
   "outputs": [
    {
     "data": {
      "text/plain": [
       "[13.0, 16.0, 20.0, 28.0, 24.0, 24.0]"
      ]
     },
     "execution_count": 60,
     "metadata": {},
     "output_type": "execute_result"
    }
   ],
   "source": [
    "VesSpar = []\n",
    "for item in atts:\n",
    "    VesSpar.append(birds.loc[365, item])\n",
    "VesSpar"
   ]
  },
  {
   "cell_type": "markdown",
   "id": "f345df78-ce79-49a2-8eb1-6b764b709917",
   "metadata": {},
   "source": [
    "#### Combine all that information into a dict"
   ]
  },
  {
   "cell_type": "code",
   "execution_count": 61,
   "id": "312cd711-5351-4859-b33f-6a40307afae4",
   "metadata": {},
   "outputs": [
    {
     "data": {
      "text/plain": [
       "{'mean': [28.53668171557562,\n",
       "  35.44198645598194,\n",
       "  327.9382618510158,\n",
       "  667.0097516930023,\n",
       "  52.66625282167043,\n",
       "  60.61704288939052],\n",
       " 'vs': [13.0, 16.0, 20.0, 28.0, 24.0, 24.0],\n",
       " 'median': [20.5, 25.0, 55.0, 89.0, 38.0, 42.0]}"
      ]
     },
     "execution_count": 61,
     "metadata": {},
     "output_type": "execute_result"
    }
   ],
   "source": [
    "attvals = dict({'mean': means, 'vs': VesSpar, 'median': medians})\n",
    "attvals"
   ]
  },
  {
   "cell_type": "markdown",
   "id": "c953d5bb-d07d-496d-a94f-f76b871b52d9",
   "metadata": {},
   "source": [
    "#### plot!"
   ]
  },
  {
   "cell_type": "code",
   "execution_count": 62,
   "id": "8be104a8-a763-4990-b0bd-9313e11f5c8d",
   "metadata": {},
   "outputs": [
    {
     "data": {
      "image/png": "[encoded data removed]",
      "text/plain": [
       "<Figure size 640x480 with 1 Axes>"
      ]
     },
     "metadata": {},
     "output_type": "display_data"
    }
   ],
   "source": [
    "# all from here: https://matplotlib.org/stable/gallery/lines_bars_and_markers/barchart.html\n",
    "\n",
    "x = np.arange(len(atts))  # the label locations\n",
    "width = 0.25  # the width of the bars\n",
    "multiplier = 0\n",
    "\n",
    "fig, ax = plt.subplots(layout='constrained')\n",
    "\n",
    "for attribute, measurement in attvals.items():\n",
    "    offset = width * multiplier\n",
    "    rects = ax.bar(x + offset, measurement, width, label=attribute)\n",
    "    #ax.bar_label(rects, padding=3) #labels make it too cluttered\n",
    "    multiplier += 1\n",
    "\n",
    "# Add some text for labels, title and custom x-axis tick labels, etc.\n",
    "ax.set_ylabel('Value')\n",
    "ax.set_title('Vesper Sparrow (vs) attributes compared to other birds')\n",
    "ax.set_xticks(x + width, atts)\n",
    "plt.xticks(rotation=45)\n",
    "ax.legend(loc='upper left', ncols=3)\n",
    "#ax.set_ylim(0, 55)\n",
    "\n",
    "plt.show()"
   ]
  },
  {
   "cell_type": "markdown",
   "id": "fab3cfa4-ad83-4b8b-b166-b4b2655bfbe2",
   "metadata": {},
   "source": [
    "### Cool! How about just its category?\n",
    "It's clear it is below average, sometimes drastically below average. So maybe clearer results can be obtained by using only the birds in the ```New World sparrows```."
   ]
  },
  {
   "cell_type": "code",
   "execution_count": 63,
   "id": "c42f8343-145b-4e8b-8c1f-47ea5d644846",
   "metadata": {},
   "outputs": [
    {
     "data": {
      "text/html": [
       "<div>\n",
       "<style scoped>\n",
       "    .dataframe tbody tr th:only-of-type {\n",
       "        vertical-align: middle;\n",
       "    }\n",
       "\n",
       "    .dataframe tbody tr th {\n",
       "        vertical-align: top;\n",
       "    }\n",
       "\n",
       "    .dataframe thead th {\n",
       "        text-align: right;\n",
       "    }\n",
       "</style>\n",
       "<table border=\"1\" class=\"dataframe\">\n",
       "  <thead>\n",
       "    <tr style=\"text-align: right;\">\n",
       "      <th></th>\n",
       "      <th>Name</th>\n",
       "      <th>Category</th>\n",
       "      <th>MinLength</th>\n",
       "      <th>MaxLength</th>\n",
       "      <th>MinBodyMass</th>\n",
       "      <th>MaxBodyMass</th>\n",
       "      <th>MinWingspan</th>\n",
       "      <th>MaxWingspan</th>\n",
       "    </tr>\n",
       "  </thead>\n",
       "  <tbody>\n",
       "    <tr>\n",
       "      <th>182</th>\n",
       "      <td>American white pelican</td>\n",
       "      <td>Pelicans</td>\n",
       "      <td>130.0</td>\n",
       "      <td>180.0</td>\n",
       "      <td>3500.0</td>\n",
       "      <td>13600.0</td>\n",
       "      <td>240.0</td>\n",
       "      <td>300.0</td>\n",
       "    </tr>\n",
       "    <tr>\n",
       "      <th>416</th>\n",
       "      <td>Yellow warbler</td>\n",
       "      <td>New World warblers</td>\n",
       "      <td>10.0</td>\n",
       "      <td>18.0</td>\n",
       "      <td>7.0</td>\n",
       "      <td>25.0</td>\n",
       "      <td>16.0</td>\n",
       "      <td>22.0</td>\n",
       "    </tr>\n",
       "    <tr>\n",
       "      <th>425</th>\n",
       "      <td>Black-throated gray warbler</td>\n",
       "      <td>New World warblers</td>\n",
       "      <td>13.0</td>\n",
       "      <td>13.0</td>\n",
       "      <td>8.4</td>\n",
       "      <td>8.4</td>\n",
       "      <td>19.0</td>\n",
       "      <td>19.7</td>\n",
       "    </tr>\n",
       "    <tr>\n",
       "      <th>127</th>\n",
       "      <td>Long-billed dowitcher</td>\n",
       "      <td>Sandpipers/Allies</td>\n",
       "      <td>29.0</td>\n",
       "      <td>29.0</td>\n",
       "      <td>88.0</td>\n",
       "      <td>131.0</td>\n",
       "      <td>47.0</td>\n",
       "      <td>49.0</td>\n",
       "    </tr>\n",
       "    <tr>\n",
       "      <th>256</th>\n",
       "      <td>Olive-sided flycatcher</td>\n",
       "      <td>Tyrant flycatchers</td>\n",
       "      <td>18.0</td>\n",
       "      <td>20.0</td>\n",
       "      <td>28.0</td>\n",
       "      <td>40.4</td>\n",
       "      <td>31.5</td>\n",
       "      <td>34.5</td>\n",
       "    </tr>\n",
       "  </tbody>\n",
       "</table>\n",
       "</div>"
      ],
      "text/plain": [
       "                            Name            Category  MinLength  MaxLength   \n",
       "182       American white pelican            Pelicans      130.0      180.0  \\\n",
       "416               Yellow warbler  New World warblers       10.0       18.0   \n",
       "425  Black-throated gray warbler  New World warblers       13.0       13.0   \n",
       "127        Long-billed dowitcher   Sandpipers/Allies       29.0       29.0   \n",
       "256       Olive-sided flycatcher  Tyrant flycatchers       18.0       20.0   \n",
       "\n",
       "     MinBodyMass  MaxBodyMass  MinWingspan  MaxWingspan  \n",
       "182       3500.0      13600.0        240.0        300.0  \n",
       "416          7.0         25.0         16.0         22.0  \n",
       "425          8.4          8.4         19.0         19.7  \n",
       "127         88.0        131.0         47.0         49.0  \n",
       "256         28.0         40.4         31.5         34.5  "
      ]
     },
     "execution_count": 63,
     "metadata": {},
     "output_type": "execute_result"
    }
   ],
   "source": [
    "# Since we're creating a new df anyways, let's delete the columns we are not using\n",
    "birds_qn = birds.drop(birds.columns[[1, 3, 4, 5, 6]], axis=1)\n",
    "birds_qn.sample(5)"
   ]
  },
  {
   "cell_type": "code",
   "execution_count": 64,
   "id": "74fb9def-64c7-4d2c-af39-b2bc1e13a865",
   "metadata": {},
   "outputs": [
    {
     "data": {
      "text/plain": [
       "[['Grasshopper sparrow',\n",
       "  'New World sparrows',\n",
       "  10.0,\n",
       "  14.0,\n",
       "  13.8,\n",
       "  28.4,\n",
       "  17.5,\n",
       "  17.5],\n",
       " ['Black-throated sparrow',\n",
       "  'New World sparrows',\n",
       "  12.0,\n",
       "  14.0,\n",
       "  11.0,\n",
       "  15.0,\n",
       "  19.5,\n",
       "  19.5],\n",
       " ['Lark sparrow', 'New World sparrows', 15.0, 17.0, 24.0, 33.0, 28.0, 28.0],\n",
       " ['Lark bunting', 'New World sparrows', 14.0, 18.0, 35.3, 41.3, 25.0, 28.0],\n",
       " ['Chipping sparrow',\n",
       "  'New World sparrows',\n",
       "  12.0,\n",
       "  15.0,\n",
       "  11.0,\n",
       "  16.0,\n",
       "  21.0,\n",
       "  21.0]]"
      ]
     },
     "execution_count": 64,
     "metadata": {},
     "output_type": "execute_result"
    }
   ],
   "source": [
    "# so let's create a new dataframe with only birds in New World sparrows, from here\n",
    "#https://stackoverflow.com/questions/13784192/creating-an-empty-pandas-dataframe-and-then-filling-it\n",
    "# we're creating a list first\n",
    "nwspar_list = []\n",
    "for index, row in birds_qn.iterrows():\n",
    "    if (row['Category'] == 'New World sparrows'):\n",
    "        nwspar_list.append(birds_qn.loc[[index]].values.flatten().tolist())\n",
    "nwspar_list[:5]"
   ]
  },
  {
   "cell_type": "code",
   "execution_count": 65,
   "id": "fca94aa5-fc89-4711-b539-2b54876db836",
   "metadata": {},
   "outputs": [
    {
     "name": "stdout",
     "output_type": "stream",
     "text": [
      "Category\n",
      "Ducks/Geese/Waterfowl              45\n",
      "New World warblers                 41\n",
      "Sandpipers/Allies                  34\n",
      "Gulls/Terns/Skimmers               28\n",
      "New World sparrows                 26\n",
      "Tyrant flycatchers                 19\n",
      "Hawks/Eagles                       15\n",
      "Troupials/Allies                   14\n",
      "Finches/Euphonias/Allies           13\n",
      "Woodpeckers                        12\n",
      "Thrushes/Allies                    11\n",
      "Owls                               11\n",
      "Herons/Egrets/Bitterns             11\n",
      "Cardinals/Allies                   11\n",
      "Pheasants/Grouse/Allies             9\n",
      "Pigeons/Doves                       8\n",
      "Rails/Gallinules/Coots              8\n",
      "Hummingbirds                        7\n",
      "Plovers/Lapwings                    7\n",
      "Wrens                               7\n",
      "Swallows                            7\n",
      "Vireos/Shrike-babblers/Erpornis     7\n",
      "Grebes                              6\n",
      "Crows/Jays/Magpies                  6\n",
      "Falcons /Caracaras                  6\n",
      "Longspurs/Snow buntings             5\n",
      "Mockingbirds/Thrashers              5\n",
      "Auks/Murres/Puffins                 4\n",
      "Nightjars/Allies                    4\n",
      "Ibises/Spoonbills                   4\n",
      "Loons                               4\n",
      "Skuas and jaegers                   3\n",
      "Tits/Chickadees/Titmice             3\n",
      "Nuthatches                          3\n",
      "Cuckoos                             3\n",
      "Kinglets                            2\n",
      "Waxwings                            2\n",
      "Old World sparrows                  2\n",
      "Wagtails/Pitpits                    2\n",
      "Cranes                              2\n",
      "Cormorants/Shags                    2\n",
      "Pelicans                            2\n",
      "Stilts and avocets                  2\n",
      "Shrikes                             2\n",
      "Swifts                              2\n",
      "New World vultures                  2\n",
      "Starlings                           1\n",
      "Yellow-breasted chat                1\n",
      "Larks                               1\n",
      "Old World flycatchers               1\n",
      "Dippers                             1\n",
      "Gnatcatchers                        1\n",
      "Treecreepers                        1\n",
      "New World quail                     1\n",
      "Barn-owls                           1\n",
      "Osprey                              1\n",
      "Frigatebirds                        1\n",
      "Storks                              1\n",
      "Shearwaters and petrels             1\n",
      "Kingfishers                         1\n",
      "Name: count, dtype: int64\n",
      "Category\n",
      "Ducks/Geese/Waterfowl              45\n",
      "New World warblers                 41\n",
      "Sandpipers/Allies                  34\n",
      "Gulls/Terns/Skimmers               28\n",
      "New World sparrows                 26\n",
      "Tyrant flycatchers                 19\n",
      "Hawks/Eagles                       15\n",
      "Troupials/Allies                   14\n",
      "Finches/Euphonias/Allies           13\n",
      "Woodpeckers                        12\n",
      "Thrushes/Allies                    11\n",
      "Owls                               11\n",
      "Herons/Egrets/Bitterns             11\n",
      "Cardinals/Allies                   11\n",
      "Pheasants/Grouse/Allies             9\n",
      "Pigeons/Doves                       8\n",
      "Rails/Gallinules/Coots              8\n",
      "Hummingbirds                        7\n",
      "Plovers/Lapwings                    7\n",
      "Wrens                               7\n",
      "Swallows                            7\n",
      "Vireos/Shrike-babblers/Erpornis     7\n",
      "Grebes                              6\n",
      "Crows/Jays/Magpies                  6\n",
      "Falcons /Caracaras                  6\n",
      "Longspurs/Snow buntings             5\n",
      "Mockingbirds/Thrashers              5\n",
      "Auks/Murres/Puffins                 4\n",
      "Nightjars/Allies                    4\n",
      "Ibises/Spoonbills                   4\n",
      "Loons                               4\n",
      "Skuas and jaegers                   3\n",
      "Tits/Chickadees/Titmice             3\n",
      "Nuthatches                          3\n",
      "Cuckoos                             3\n",
      "Kinglets                            2\n",
      "Waxwings                            2\n",
      "Old World sparrows                  2\n",
      "Wagtails/Pitpits                    2\n",
      "Cranes                              2\n",
      "Cormorants/Shags                    2\n",
      "Pelicans                            2\n",
      "Stilts and avocets                  2\n",
      "Shrikes                             2\n",
      "Swifts                              2\n",
      "New World vultures                  2\n",
      "Starlings                           1\n",
      "Yellow-breasted chat                1\n",
      "Larks                               1\n",
      "Old World flycatchers               1\n",
      "Dippers                             1\n",
      "Gnatcatchers                        1\n",
      "Treecreepers                        1\n",
      "New World quail                     1\n",
      "Barn-owls                           1\n",
      "Osprey                              1\n",
      "Frigatebirds                        1\n",
      "Storks                              1\n",
      "Shearwaters and petrels             1\n",
      "Kingfishers                         1\n",
      "Name: count, dtype: int64\n"
     ]
    },
    {
     "data": {
      "text/plain": [
       "26"
      ]
     },
     "execution_count": 65,
     "metadata": {},
     "output_type": "execute_result"
    }
   ],
   "source": [
    "# check if I did it right\n",
    "print(birds['Category'].value_counts())\n",
    "print(birds_qn['Category'].value_counts())\n",
    "len(nwspar_list)"
   ]
  },
  {
   "cell_type": "code",
   "execution_count": 66,
   "id": "bf31122e-2a3a-47c6-b8e5-30a5f3890d67",
   "metadata": {},
   "outputs": [
    {
     "data": {
      "text/html": [
       "<div>\n",
       "<style scoped>\n",
       "    .dataframe tbody tr th:only-of-type {\n",
       "        vertical-align: middle;\n",
       "    }\n",
       "\n",
       "    .dataframe tbody tr th {\n",
       "        vertical-align: top;\n",
       "    }\n",
       "\n",
       "    .dataframe thead th {\n",
       "        text-align: right;\n",
       "    }\n",
       "</style>\n",
       "<table border=\"1\" class=\"dataframe\">\n",
       "  <thead>\n",
       "    <tr style=\"text-align: right;\">\n",
       "      <th></th>\n",
       "      <th>Name</th>\n",
       "      <th>Category</th>\n",
       "      <th>MinLength</th>\n",
       "      <th>MaxLength</th>\n",
       "      <th>MinBodyMass</th>\n",
       "      <th>MaxBodyMass</th>\n",
       "      <th>MinWingspan</th>\n",
       "      <th>MaxWingspan</th>\n",
       "    </tr>\n",
       "  </thead>\n",
       "  <tbody>\n",
       "    <tr>\n",
       "      <th>0</th>\n",
       "      <td>Grasshopper sparrow</td>\n",
       "      <td>New World sparrows</td>\n",
       "      <td>10.0</td>\n",
       "      <td>14.0</td>\n",
       "      <td>13.8</td>\n",
       "      <td>28.4</td>\n",
       "      <td>17.5</td>\n",
       "      <td>17.5</td>\n",
       "    </tr>\n",
       "    <tr>\n",
       "      <th>1</th>\n",
       "      <td>Black-throated sparrow</td>\n",
       "      <td>New World sparrows</td>\n",
       "      <td>12.0</td>\n",
       "      <td>14.0</td>\n",
       "      <td>11.0</td>\n",
       "      <td>15.0</td>\n",
       "      <td>19.5</td>\n",
       "      <td>19.5</td>\n",
       "    </tr>\n",
       "    <tr>\n",
       "      <th>2</th>\n",
       "      <td>Lark sparrow</td>\n",
       "      <td>New World sparrows</td>\n",
       "      <td>15.0</td>\n",
       "      <td>17.0</td>\n",
       "      <td>24.0</td>\n",
       "      <td>33.0</td>\n",
       "      <td>28.0</td>\n",
       "      <td>28.0</td>\n",
       "    </tr>\n",
       "    <tr>\n",
       "      <th>3</th>\n",
       "      <td>Lark bunting</td>\n",
       "      <td>New World sparrows</td>\n",
       "      <td>14.0</td>\n",
       "      <td>18.0</td>\n",
       "      <td>35.3</td>\n",
       "      <td>41.3</td>\n",
       "      <td>25.0</td>\n",
       "      <td>28.0</td>\n",
       "    </tr>\n",
       "    <tr>\n",
       "      <th>4</th>\n",
       "      <td>Chipping sparrow</td>\n",
       "      <td>New World sparrows</td>\n",
       "      <td>12.0</td>\n",
       "      <td>15.0</td>\n",
       "      <td>11.0</td>\n",
       "      <td>16.0</td>\n",
       "      <td>21.0</td>\n",
       "      <td>21.0</td>\n",
       "    </tr>\n",
       "  </tbody>\n",
       "</table>\n",
       "</div>"
      ],
      "text/plain": [
       "                     Name            Category  MinLength  MaxLength   \n",
       "0     Grasshopper sparrow  New World sparrows       10.0       14.0  \\\n",
       "1  Black-throated sparrow  New World sparrows       12.0       14.0   \n",
       "2            Lark sparrow  New World sparrows       15.0       17.0   \n",
       "3            Lark bunting  New World sparrows       14.0       18.0   \n",
       "4        Chipping sparrow  New World sparrows       12.0       15.0   \n",
       "\n",
       "   MinBodyMass  MaxBodyMass  MinWingspan  MaxWingspan  \n",
       "0         13.8         28.4         17.5         17.5  \n",
       "1         11.0         15.0         19.5         19.5  \n",
       "2         24.0         33.0         28.0         28.0  \n",
       "3         35.3         41.3         25.0         28.0  \n",
       "4         11.0         16.0         21.0         21.0  "
      ]
     },
     "execution_count": 66,
     "metadata": {},
     "output_type": "execute_result"
    }
   ],
   "source": [
    "# All 26! Okay let's create the df\n",
    "nwspar = pd.DataFrame(nwspar_list)\n",
    "nwspar.columns = birds_qn.columns #rename columns (they are just basic numbers rn)\n",
    "nwspar.head()"
   ]
  },
  {
   "cell_type": "markdown",
   "id": "21f86e98-3715-47df-afb7-fc6eeaedd4ae",
   "metadata": {},
   "source": [
    "#### Before comparing with average, let's just look at it raw compared to the other birds in the category.\n",
    "\n",
    "I will make scatter plots and line charts comparing min and max of Length, BodyMass, and Wingspan."
   ]
  },
  {
   "cell_type": "code",
   "execution_count": 162,
   "id": "0f01225b-4d35-48bd-960f-1031dc6d83c7",
   "metadata": {},
   "outputs": [
    {
     "data": {
      "text/plain": [
       "[<matplotlib.lines.Line2D at 0xffff4263df90>]"
      ]
     },
     "execution_count": 162,
     "metadata": {},
     "output_type": "execute_result"
    },
    {
     "data": {
      "image/png": "[encoded data removed]",
      "text/plain": [
       "<Figure size 640x480 with 2 Axes>"
      ]
     },
     "metadata": {},
     "output_type": "display_data"
    }
   ],
   "source": [
    "# LENGTH\n",
    "\n",
    "fig, axs = plt.subplots(2, 1, sharex=True)\n",
    "x = nwspar['Name'] \n",
    "y1 = nwspar['MaxLength']\n",
    "y2 = nwspar['MinLength']\n",
    "\n",
    "# make space between subplots zero (same data anyways)\n",
    "fig.subplots_adjust(hspace=0)\n",
    "# shared elements\n",
    "fig.suptitle('Minimum and Maximum Length of New World Sparrows')\n",
    "fig.autofmt_xdate() # pretty sure I'm not using this as intended, but this is \n",
    "                    #where I found it: https://matplotlib.org/stable/gallery/lines_bars_and_markers/fill_between_alpha.html#sphx-glr-gallery-lines-bars-and-markers-fill-between-alpha-py\n",
    "axs[1].set_xlabel('Names')\n",
    "\n",
    "# scatterplot\n",
    "axs[0].set_ylabel('Length (cm)')\n",
    "\n",
    "axs[0].plot(x, y1, 'bo')\n",
    "axs[0].plot(x, y2, 'ro')\n",
    "\n",
    "# line chart\n",
    "axs[1].set_ylabel('Length (cm)')\n",
    "\n",
    "axs[1].plot(x, y1, 'blue')\n",
    "axs[1].plot(x, y2, 'red')\n"
   ]
  },
  {
   "cell_type": "markdown",
   "id": "5bc0a3bf-a4e6-4e77-8e9d-2ac1589246fc",
   "metadata": {},
   "source": [
    "TODO:\n",
    "- emphasize vesper sparrow data in length plot\n",
    "- plot bodymass and wingspan plots"
   ]
  },
  {
   "cell_type": "markdown",
   "id": "5f07eee5-1206-4986-b862-a575625becf3",
   "metadata": {},
   "source": [
    "#### mean, median, and other info\n",
    "Back to the bar chart, now only this category!"
   ]
  },
  {
   "cell_type": "code",
   "execution_count": 67,
   "id": "9eda0401-6f8e-4007-b6ee-4999f1cad752",
   "metadata": {},
   "outputs": [
    {
     "data": {
      "text/plain": [
       "['MinLength',\n",
       " 'MaxLength',\n",
       " 'MinBodyMass',\n",
       " 'MaxBodyMass',\n",
       " 'MinWingspan',\n",
       " 'MaxWingspan']"
      ]
     },
     "execution_count": 67,
     "metadata": {},
     "output_type": "execute_result"
    }
   ],
   "source": [
    "# groups\n",
    "atts = nwspar.columns.tolist()\n",
    "del atts[0:2]\n",
    "atts\n",
    "# I am aware there is no change of this from last time, but let me just practice"
   ]
  },
  {
   "cell_type": "code",
   "execution_count": 68,
   "id": "becc2033-6a3b-4bed-83c0-abc19b6fe8f8",
   "metadata": {},
   "outputs": [
    {
     "data": {
      "text/plain": [
       "[13.28076923076923,\n",
       " 16.21153846153846,\n",
       " 18.057692307692307,\n",
       " 28.676923076923078,\n",
       " 21.190384615384616,\n",
       " 23.236538461538462]"
      ]
     },
     "execution_count": 68,
     "metadata": {},
     "output_type": "execute_result"
    }
   ],
   "source": [
    "# mean\n",
    "means = []\n",
    "for item in atts:\n",
    "    means.append(nwspar.loc[:, item].mean())\n",
    "means"
   ]
  },
  {
   "cell_type": "code",
   "execution_count": 69,
   "id": "15608fc0-8820-4358-bb8a-affe4a79d7ae",
   "metadata": {},
   "outputs": [
    {
     "data": {
      "text/plain": [
       "[13.0, 15.5, 17.0, 28.0, 20.0, 23.5]"
      ]
     },
     "execution_count": 69,
     "metadata": {},
     "output_type": "execute_result"
    }
   ],
   "source": [
    "# median\n",
    "medians = []\n",
    "for item in atts:\n",
    "    medians.append(nwspar.loc[:, item].median())\n",
    "medians"
   ]
  },
  {
   "cell_type": "markdown",
   "id": "3ebbdca6-f9ef-4024-8afe-458a7434c846",
   "metadata": {},
   "source": [
    "Not gonna find vesper sparrow attributes again because that really is the exact same code, and any changes will just be big unecessary extra work. \n",
    "\n",
    "#### Combine all information into a dict"
   ]
  },
  {
   "cell_type": "code",
   "execution_count": 70,
   "id": "8e1e39bd-d173-46d3-bdc1-09ef2a7b394a",
   "metadata": {},
   "outputs": [
    {
     "data": {
      "text/plain": [
       "{'mean': [13.28076923076923,\n",
       "  16.21153846153846,\n",
       "  18.057692307692307,\n",
       "  28.676923076923078,\n",
       "  21.190384615384616,\n",
       "  23.236538461538462],\n",
       " 'vs': [13.0, 16.0, 20.0, 28.0, 24.0, 24.0],\n",
       " 'median': [13.0, 15.5, 17.0, 28.0, 20.0, 23.5]}"
      ]
     },
     "execution_count": 70,
     "metadata": {},
     "output_type": "execute_result"
    }
   ],
   "source": [
    "attvals = dict({'mean': means, 'vs': VesSpar, 'median': medians})\n",
    "attvals"
   ]
  },
  {
   "cell_type": "markdown",
   "id": "6e9ead88-3e33-4317-bc8a-4cbdf95e3732",
   "metadata": {},
   "source": [
    "#### plot!"
   ]
  },
  {
   "cell_type": "code",
   "execution_count": 71,
   "id": "484b6711-076b-4563-a591-b02c7bcc9111",
   "metadata": {},
   "outputs": [
    {
     "data": {
      "image/png": "[encoded data removed]",
      "text/plain": [
       "<Figure size 640x480 with 1 Axes>"
      ]
     },
     "metadata": {},
     "output_type": "display_data"
    }
   ],
   "source": [
    "# all from here: https://matplotlib.org/stable/gallery/lines_bars_and_markers/barchart.html\n",
    "\n",
    "x = np.arange(len(atts))  # the label locations\n",
    "width = 0.25  # the width of the bars\n",
    "multiplier = 0\n",
    "\n",
    "fig, ax = plt.subplots(layout='constrained')\n",
    "\n",
    "for attribute, measurement in attvals.items():\n",
    "    offset = width * multiplier\n",
    "    rects = ax.bar(x + offset, measurement, width, label=attribute)\n",
    "    #ax.bar_label(rects, padding=3) # removed labels bc too cluttered\n",
    "    multiplier += 1\n",
    "\n",
    "# Add some text for labels, title and custom x-axis tick labels, etc.\n",
    "ax.set_ylabel('Value')\n",
    "ax.set_title('Vesper sparrow (vs) attributes compared to other New World sparrows')\n",
    "ax.set_xticks(x + width, atts)\n",
    "plt.xticks(rotation=45)\n",
    "ax.legend(loc='upper left', ncols=3)\n",
    "ax.set_ylim(0, 35)\n",
    "\n",
    "plt.show()"
   ]
  },
  {
   "cell_type": "markdown",
   "id": "f56e6587-4ec1-4a19-a2c7-c6e98722ece4",
   "metadata": {},
   "source": [
    "conclusions: It seems their length is pretty average, though a bit on the smaller side, while body mass is also kinda average, but a bit on the larger size. Wingspans is the only area with conclusive results, with it being larger than the category's on average. "
   ]
  },
  {
   "cell_type": "markdown",
   "id": "ee0bfd73-78a6-4c19-bc2f-44a2f70a61e2",
   "metadata": {},
   "source": [
    "## Qualitative Values"
   ]
  },
  {
   "cell_type": "code",
   "execution_count": 72,
   "id": "f2eaa3e4-28bc-4c4c-b009-d8feda39e31a",
   "metadata": {},
   "outputs": [
    {
     "data": {
      "text/html": [
       "<div>\n",
       "<style scoped>\n",
       "    .dataframe tbody tr th:only-of-type {\n",
       "        vertical-align: middle;\n",
       "    }\n",
       "\n",
       "    .dataframe tbody tr th {\n",
       "        vertical-align: top;\n",
       "    }\n",
       "\n",
       "    .dataframe thead th {\n",
       "        text-align: right;\n",
       "    }\n",
       "</style>\n",
       "<table border=\"1\" class=\"dataframe\">\n",
       "  <thead>\n",
       "    <tr style=\"text-align: right;\">\n",
       "      <th></th>\n",
       "      <th>Name</th>\n",
       "      <th>ScientificName</th>\n",
       "      <th>Category</th>\n",
       "      <th>Order</th>\n",
       "      <th>Family</th>\n",
       "      <th>Genus</th>\n",
       "      <th>ConservationStatus</th>\n",
       "      <th>MinLength</th>\n",
       "      <th>MaxLength</th>\n",
       "      <th>MinBodyMass</th>\n",
       "      <th>MaxBodyMass</th>\n",
       "      <th>MinWingspan</th>\n",
       "      <th>MaxWingspan</th>\n",
       "    </tr>\n",
       "  </thead>\n",
       "  <tbody>\n",
       "    <tr>\n",
       "      <th>108</th>\n",
       "      <td>Hudsonian godwit</td>\n",
       "      <td>Limosa haemastica</td>\n",
       "      <td>Sandpipers/Allies</td>\n",
       "      <td>Charadriiformes</td>\n",
       "      <td>Scolopacidae</td>\n",
       "      <td>Limosa</td>\n",
       "      <td>LC</td>\n",
       "      <td>37.0</td>\n",
       "      <td>42.0</td>\n",
       "      <td>300.0</td>\n",
       "      <td>300.0</td>\n",
       "      <td>74.0</td>\n",
       "      <td>74.0</td>\n",
       "    </tr>\n",
       "    <tr>\n",
       "      <th>28</th>\n",
       "      <td>Greater scaup</td>\n",
       "      <td>Aythya marila</td>\n",
       "      <td>Ducks/Geese/Waterfowl</td>\n",
       "      <td>Anseriformes</td>\n",
       "      <td>Anatidae</td>\n",
       "      <td>Aythya</td>\n",
       "      <td>LC</td>\n",
       "      <td>39.0</td>\n",
       "      <td>56.0</td>\n",
       "      <td>726.0</td>\n",
       "      <td>1360.0</td>\n",
       "      <td>71.0</td>\n",
       "      <td>84.0</td>\n",
       "    </tr>\n",
       "    <tr>\n",
       "      <th>282</th>\n",
       "      <td>Horned lark</td>\n",
       "      <td>Eremophila alpestris</td>\n",
       "      <td>Larks</td>\n",
       "      <td>Passeriformes</td>\n",
       "      <td>Alaudidae</td>\n",
       "      <td>Eremophila</td>\n",
       "      <td>LC</td>\n",
       "      <td>16.0</td>\n",
       "      <td>20.0</td>\n",
       "      <td>28.0</td>\n",
       "      <td>48.0</td>\n",
       "      <td>30.0</td>\n",
       "      <td>34.0</td>\n",
       "    </tr>\n",
       "    <tr>\n",
       "      <th>283</th>\n",
       "      <td>Bank swallow</td>\n",
       "      <td>Riparia riparia</td>\n",
       "      <td>Swallows</td>\n",
       "      <td>Passeriformes</td>\n",
       "      <td>Hirundinidae</td>\n",
       "      <td>Riparia</td>\n",
       "      <td>LC</td>\n",
       "      <td>12.0</td>\n",
       "      <td>14.0</td>\n",
       "      <td>10.2</td>\n",
       "      <td>18.8</td>\n",
       "      <td>25.0</td>\n",
       "      <td>33.0</td>\n",
       "    </tr>\n",
       "    <tr>\n",
       "      <th>398</th>\n",
       "      <td>Prothonotary warbler</td>\n",
       "      <td>Protonotaria citrea</td>\n",
       "      <td>New World warblers</td>\n",
       "      <td>Passeriformes</td>\n",
       "      <td>Parulidae</td>\n",
       "      <td>Protonotaria</td>\n",
       "      <td>LC</td>\n",
       "      <td>13.0</td>\n",
       "      <td>13.0</td>\n",
       "      <td>12.5</td>\n",
       "      <td>12.5</td>\n",
       "      <td>22.0</td>\n",
       "      <td>22.0</td>\n",
       "    </tr>\n",
       "  </tbody>\n",
       "</table>\n",
       "</div>"
      ],
      "text/plain": [
       "                     Name        ScientificName               Category   \n",
       "108      Hudsonian godwit     Limosa haemastica      Sandpipers/Allies  \\\n",
       "28          Greater scaup         Aythya marila  Ducks/Geese/Waterfowl   \n",
       "282           Horned lark  Eremophila alpestris                  Larks   \n",
       "283          Bank swallow       Riparia riparia               Swallows   \n",
       "398  Prothonotary warbler   Protonotaria citrea     New World warblers   \n",
       "\n",
       "               Order        Family         Genus ConservationStatus   \n",
       "108  Charadriiformes  Scolopacidae        Limosa                 LC  \\\n",
       "28      Anseriformes      Anatidae        Aythya                 LC   \n",
       "282    Passeriformes     Alaudidae    Eremophila                 LC   \n",
       "283    Passeriformes  Hirundinidae       Riparia                 LC   \n",
       "398    Passeriformes     Parulidae  Protonotaria                 LC   \n",
       "\n",
       "     MinLength  MaxLength  MinBodyMass  MaxBodyMass  MinWingspan  MaxWingspan  \n",
       "108       37.0       42.0        300.0        300.0         74.0         74.0  \n",
       "28        39.0       56.0        726.0       1360.0         71.0         84.0  \n",
       "282       16.0       20.0         28.0         48.0         30.0         34.0  \n",
       "283       12.0       14.0         10.2         18.8         25.0         33.0  \n",
       "398       13.0       13.0         12.5         12.5         22.0         22.0  "
      ]
     },
     "execution_count": 72,
     "metadata": {},
     "output_type": "execute_result"
    }
   ],
   "source": [
    "# let's take a look at the dataframe again\n",
    "birds.sample(5)"
   ]
  },
  {
   "cell_type": "code",
   "execution_count": 73,
   "id": "cecf7ab1-c8f8-4a56-a393-9680e7d5b554",
   "metadata": {},
   "outputs": [
    {
     "data": {
      "text/html": [
       "<div>\n",
       "<style scoped>\n",
       "    .dataframe tbody tr th:only-of-type {\n",
       "        vertical-align: middle;\n",
       "    }\n",
       "\n",
       "    .dataframe tbody tr th {\n",
       "        vertical-align: top;\n",
       "    }\n",
       "\n",
       "    .dataframe thead th {\n",
       "        text-align: right;\n",
       "    }\n",
       "</style>\n",
       "<table border=\"1\" class=\"dataframe\">\n",
       "  <thead>\n",
       "    <tr style=\"text-align: right;\">\n",
       "      <th></th>\n",
       "      <th>Name</th>\n",
       "      <th>ScientificName</th>\n",
       "      <th>Category</th>\n",
       "      <th>Order</th>\n",
       "      <th>Family</th>\n",
       "      <th>Genus</th>\n",
       "      <th>ConservationStatus</th>\n",
       "      <th>MinLength</th>\n",
       "      <th>MaxLength</th>\n",
       "      <th>MinBodyMass</th>\n",
       "      <th>MaxBodyMass</th>\n",
       "      <th>MinWingspan</th>\n",
       "      <th>MaxWingspan</th>\n",
       "    </tr>\n",
       "  </thead>\n",
       "  <tbody>\n",
       "    <tr>\n",
       "      <th>365</th>\n",
       "      <td>Vesper sparrow</td>\n",
       "      <td>Pooecetes gramineus</td>\n",
       "      <td>New World sparrows</td>\n",
       "      <td>Passeriformes</td>\n",
       "      <td>Passerellidae</td>\n",
       "      <td>Pooecetes</td>\n",
       "      <td>LC</td>\n",
       "      <td>13.0</td>\n",
       "      <td>16.0</td>\n",
       "      <td>20.0</td>\n",
       "      <td>28.0</td>\n",
       "      <td>24.0</td>\n",
       "      <td>24.0</td>\n",
       "    </tr>\n",
       "  </tbody>\n",
       "</table>\n",
       "</div>"
      ],
      "text/plain": [
       "               Name       ScientificName            Category          Order   \n",
       "365  Vesper sparrow  Pooecetes gramineus  New World sparrows  Passeriformes  \\\n",
       "\n",
       "            Family      Genus ConservationStatus  MinLength  MaxLength   \n",
       "365  Passerellidae  Pooecetes                 LC       13.0       16.0  \\\n",
       "\n",
       "     MinBodyMass  MaxBodyMass  MinWingspan  MaxWingspan  \n",
       "365         20.0         28.0         24.0         24.0  "
      ]
     },
     "execution_count": 73,
     "metadata": {},
     "output_type": "execute_result"
    }
   ],
   "source": [
    "# and the vesper sparrow, because we are still focused on that\n",
    "birds.loc[[365]]"
   ]
  },
  {
   "cell_type": "markdown",
   "id": "c3c21832-f07c-4592-9d11-f939acc9c940",
   "metadata": {},
   "source": [
    "Okay, so there is a vague idea of doing some kind of nomenclature thing where there can be a flow chart from order of family down to species (fun time data cleaning scientific name!) or genus, so we can see how closely \"related\" the Vesper sparrow is to other birds. "
   ]
  },
  {
   "cell_type": "code",
   "execution_count": 74,
   "id": "9feb7710-b379-49d9-a821-cb0227ac7b5a",
   "metadata": {},
   "outputs": [
    {
     "data": {
      "text/plain": [
       "Order\n",
       "Passeriformes        195\n",
       "Charadriiformes       78\n",
       "Anseriformes          45\n",
       "Pelecaniformes        17\n",
       "Accipitriformes       16\n",
       "Piciformes            12\n",
       "Strigiformes          12\n",
       "Gruiformes            10\n",
       "Galliformes           10\n",
       "Apodiformes            9\n",
       "Columbiformes          8\n",
       "Podicipediformes       6\n",
       "Falconformes           6\n",
       "Caprimulgiformes       4\n",
       "Gaviiformes            4\n",
       "Suliformes             3\n",
       "Cuculiformes           3\n",
       "Cathartiformes         2\n",
       "Coraciiformes          1\n",
       "Ciconiiformes          1\n",
       "Procellariiformes      1\n",
       "Name: count, dtype: int64"
      ]
     },
     "execution_count": 74,
     "metadata": {},
     "output_type": "execute_result"
    }
   ],
   "source": [
    "birds['Order'].value_counts()"
   ]
  },
  {
   "cell_type": "markdown",
   "id": "06d29b94-d9d9-4fa5-963f-6a000b276930",
   "metadata": {},
   "source": [
    "Okay 195 of order ```Passeriformes``` isn't bad, create a new dataframe to hold just that Order to see if I can go all the way to genus or stop at family (195 is still a lot). Also because if we're only working with ```Passeriformes```, then why not."
   ]
  },
  {
   "cell_type": "code",
   "execution_count": 75,
   "id": "4cf423fd-e318-450f-a0e1-55ff2b89ac29",
   "metadata": {},
   "outputs": [
    {
     "data": {
      "text/html": [
       "<div>\n",
       "<style scoped>\n",
       "    .dataframe tbody tr th:only-of-type {\n",
       "        vertical-align: middle;\n",
       "    }\n",
       "\n",
       "    .dataframe tbody tr th {\n",
       "        vertical-align: top;\n",
       "    }\n",
       "\n",
       "    .dataframe thead th {\n",
       "        text-align: right;\n",
       "    }\n",
       "</style>\n",
       "<table border=\"1\" class=\"dataframe\">\n",
       "  <thead>\n",
       "    <tr style=\"text-align: right;\">\n",
       "      <th></th>\n",
       "      <th>Name</th>\n",
       "      <th>ScientificName</th>\n",
       "      <th>Order</th>\n",
       "      <th>Family</th>\n",
       "      <th>Genus</th>\n",
       "    </tr>\n",
       "  </thead>\n",
       "  <tbody>\n",
       "    <tr>\n",
       "      <th>434</th>\n",
       "      <td>Western tanager</td>\n",
       "      <td>Piranga ludoviciana</td>\n",
       "      <td>Passeriformes</td>\n",
       "      <td>Cardinalidae</td>\n",
       "      <td>Piranga</td>\n",
       "    </tr>\n",
       "    <tr>\n",
       "      <th>282</th>\n",
       "      <td>Horned lark</td>\n",
       "      <td>Eremophila alpestris</td>\n",
       "      <td>Passeriformes</td>\n",
       "      <td>Alaudidae</td>\n",
       "      <td>Eremophila</td>\n",
       "    </tr>\n",
       "    <tr>\n",
       "      <th>284</th>\n",
       "      <td>Tree swallow</td>\n",
       "      <td>Tachycineta bicolor</td>\n",
       "      <td>Passeriformes</td>\n",
       "      <td>Hirundinidae</td>\n",
       "      <td>Tachycineta</td>\n",
       "    </tr>\n",
       "    <tr>\n",
       "      <th>423</th>\n",
       "      <td>Yellow-throated warbler</td>\n",
       "      <td>Setophaga dominica</td>\n",
       "      <td>Passeriformes</td>\n",
       "      <td>Parulidae</td>\n",
       "      <td>Setophaga</td>\n",
       "    </tr>\n",
       "    <tr>\n",
       "      <th>317</th>\n",
       "      <td>Fieldfare</td>\n",
       "      <td>Turdus pilaris</td>\n",
       "      <td>Passeriformes</td>\n",
       "      <td>Turdidae</td>\n",
       "      <td>Turdus</td>\n",
       "    </tr>\n",
       "  </tbody>\n",
       "</table>\n",
       "</div>"
      ],
      "text/plain": [
       "                        Name        ScientificName          Order   \n",
       "434          Western tanager   Piranga ludoviciana  Passeriformes  \\\n",
       "282              Horned lark  Eremophila alpestris  Passeriformes   \n",
       "284             Tree swallow   Tachycineta bicolor  Passeriformes   \n",
       "423  Yellow-throated warbler    Setophaga dominica  Passeriformes   \n",
       "317                Fieldfare        Turdus pilaris  Passeriformes   \n",
       "\n",
       "           Family        Genus  \n",
       "434  Cardinalidae      Piranga  \n",
       "282     Alaudidae   Eremophila  \n",
       "284  Hirundinidae  Tachycineta  \n",
       "423     Parulidae    Setophaga  \n",
       "317      Turdidae       Turdus  "
      ]
     },
     "execution_count": 75,
     "metadata": {},
     "output_type": "execute_result"
    }
   ],
   "source": [
    "#https://stackoverflow.com/questions/18172851/deleting-dataframe-row-in-pandas-based-on-column-value\n",
    "Passeriformes = birds[birds.Order == 'Passeriformes']\n",
    "\n",
    "# delete unecessary columns\n",
    "Passeriformes = Passeriformes.drop(Passeriformes.columns[[2, 6, 7, 8, 9, 10, 11, 12]], axis=1)\n",
    "\n",
    "Passeriformes.sample(5)"
   ]
  },
  {
   "cell_type": "code",
   "execution_count": 76,
   "id": "41f4ee61-522e-4ad8-a84a-0baf1ee0591a",
   "metadata": {},
   "outputs": [
    {
     "data": {
      "text/plain": [
       "Family\n",
       "Parulidae        41\n",
       "Passerellidae    26\n",
       "Tyrannidae       19\n",
       "Icteridae        15\n",
       "Fringillidae     13\n",
       "Turdidae         11\n",
       "Cardinalidae     11\n",
       "Troglodytidae     7\n",
       "Vireonidae        7\n",
       "Hirundinidae      7\n",
       "Corvidae          6\n",
       "Calcariidae       5\n",
       "Mimidae           5\n",
       "Sittidae          3\n",
       "Paridae           3\n",
       "Regulidae         2\n",
       "Laniidae          2\n",
       "Bombycillidae     2\n",
       "Passeridae        2\n",
       "Motacillidae      2\n",
       "Alaudidae         1\n",
       "Sturnidae         1\n",
       "Certhiidae        1\n",
       "Cinclidae         1\n",
       "Polioptilidae     1\n",
       "Muscicapidae      1\n",
       "Name: count, dtype: int64"
      ]
     },
     "execution_count": 76,
     "metadata": {},
     "output_type": "execute_result"
    }
   ],
   "source": [
    "Passeriformes['Family'].value_counts()"
   ]
  },
  {
   "cell_type": "markdown",
   "id": "a3e225a3-e1e8-4e07-a418-e39d47db809f",
   "metadata": {},
   "source": [
    "find Vesper sparrow"
   ]
  },
  {
   "cell_type": "code",
   "execution_count": 77,
   "id": "c8e85349-eb41-4643-adc2-4033bf7f0f96",
   "metadata": {},
   "outputs": [
    {
     "data": {
      "text/html": [
       "<div>\n",
       "<style scoped>\n",
       "    .dataframe tbody tr th:only-of-type {\n",
       "        vertical-align: middle;\n",
       "    }\n",
       "\n",
       "    .dataframe tbody tr th {\n",
       "        vertical-align: top;\n",
       "    }\n",
       "\n",
       "    .dataframe thead th {\n",
       "        text-align: right;\n",
       "    }\n",
       "</style>\n",
       "<table border=\"1\" class=\"dataframe\">\n",
       "  <thead>\n",
       "    <tr style=\"text-align: right;\">\n",
       "      <th></th>\n",
       "      <th>Name</th>\n",
       "      <th>ScientificName</th>\n",
       "      <th>Order</th>\n",
       "      <th>Family</th>\n",
       "      <th>Genus</th>\n",
       "    </tr>\n",
       "  </thead>\n",
       "  <tbody>\n",
       "    <tr>\n",
       "      <th>365</th>\n",
       "      <td>Vesper sparrow</td>\n",
       "      <td>Pooecetes gramineus</td>\n",
       "      <td>Passeriformes</td>\n",
       "      <td>Passerellidae</td>\n",
       "      <td>Pooecetes</td>\n",
       "    </tr>\n",
       "  </tbody>\n",
       "</table>\n",
       "</div>"
      ],
      "text/plain": [
       "               Name       ScientificName          Order         Family   \n",
       "365  Vesper sparrow  Pooecetes gramineus  Passeriformes  Passerellidae  \\\n",
       "\n",
       "         Genus  \n",
       "365  Pooecetes  "
      ]
     },
     "execution_count": 77,
     "metadata": {},
     "output_type": "execute_result"
    }
   ],
   "source": [
    "Passeriformes.loc[Passeriformes['Name'].str.contains('Vesper')]"
   ]
  },
  {
   "cell_type": "markdown",
   "id": "86b98d6a-bca7-477e-9022-f92c5f269e29",
   "metadata": {},
   "source": [
    "I will try making a Sankey diagram with just ```Order``` to ```Family```. It has to be with plotly then.\n",
    "Remember to install it first:\n",
    "```bash\n",
    "pip install plotly==5.20.0\n",
    "```"
   ]
  },
  {
   "cell_type": "code",
   "execution_count": 78,
   "id": "2a3cb428-df78-4a9c-8f47-2a0d696981d3",
   "metadata": {},
   "outputs": [],
   "source": [
    "import plotly.express as px"
   ]
  },
  {
   "cell_type": "markdown",
   "id": "96916732-8290-4bc3-ab33-cdbaf785e950",
   "metadata": {},
   "source": [
    "test with the sample code to see if I can do the html trick"
   ]
  },
  {
   "cell_type": "code",
   "execution_count": 79,
   "id": "0b93d938-bd97-42a4-bf36-db2239cb909d",
   "metadata": {},
   "outputs": [],
   "source": [
    "import plotly.graph_objects as go\n",
    "\n",
    "fig = go.Figure(data=[go.Sankey(\n",
    "    node = dict(\n",
    "      pad = 15,\n",
    "      thickness = 20,\n",
    "      line = dict(color = \"black\", width = 0.5),\n",
    "      label = [\"A1\", \"A2\", \"B1\", \"B2\", \"C1\", \"C2\"],\n",
    "      color = \"blue\"\n",
    "    ),\n",
    "    link = dict(\n",
    "      source = [0, 1, 0, 2, 3, 3], # indices correspond to labels, eg A1, A2, A1, B1, ...\n",
    "      target = [2, 3, 3, 4, 4, 5],\n",
    "      value = [8, 4, 2, 8, 4, 2]\n",
    "  ))])\n",
    "\n",
    "fig.update_layout(title_text=\"Basic Sankey Diagram\", font_size=10)\n",
    "fig.write_html('egSankey.html', auto_open=True)"
   ]
  },
  {
   "cell_type": "markdown",
   "id": "8919d9dd-14eb-4cc4-9ea1-e393fc33c571",
   "metadata": {},
   "source": [
    "yes! it worked. Okay, on to arranging the data"
   ]
  },
  {
   "cell_type": "code",
   "execution_count": 80,
   "id": "92d11183-120c-42cc-afcc-91d359e382ee",
   "metadata": {},
   "outputs": [
    {
     "data": {
      "text/plain": [
       "['Passeriformes',\n",
       " 'Tyrannidae',\n",
       " 'Laniidae',\n",
       " 'Vireonidae',\n",
       " 'Corvidae',\n",
       " 'Alaudidae',\n",
       " 'Hirundinidae',\n",
       " 'Paridae',\n",
       " 'Sittidae',\n",
       " 'Certhiidae',\n",
       " 'Troglodytidae',\n",
       " 'Polioptilidae',\n",
       " 'Cinclidae',\n",
       " 'Regulidae',\n",
       " 'Muscicapidae',\n",
       " 'Turdidae',\n",
       " 'Mimidae',\n",
       " 'Sturnidae',\n",
       " 'Bombycillidae',\n",
       " 'Passeridae',\n",
       " 'Motacillidae',\n",
       " 'Fringillidae',\n",
       " 'Calcariidae',\n",
       " 'Passerellidae',\n",
       " 'Icteridae',\n",
       " 'Parulidae',\n",
       " 'Cardinalidae']"
      ]
     },
     "execution_count": 80,
     "metadata": {},
     "output_type": "execute_result"
    }
   ],
   "source": [
    "# LABEL\n",
    "\n",
    "# Order\n",
    "labels = [\"Passeriformes\"]\n",
    "labels\n",
    "\n",
    "# Family\n",
    "families = Passeriformes['Family'].unique()\n",
    "families\n",
    "\n",
    "labels.extend(families)\n",
    "labels"
   ]
  },
  {
   "cell_type": "code",
   "execution_count": 81,
   "id": "d3c007ef-9a9a-467c-8361-93c8caed248d",
   "metadata": {},
   "outputs": [
    {
     "data": {
      "text/plain": [
       "Family\n",
       "Tyrannidae       19\n",
       "Laniidae          2\n",
       "Vireonidae        7\n",
       "Corvidae          6\n",
       "Alaudidae         1\n",
       "Hirundinidae      7\n",
       "Paridae           3\n",
       "Sittidae          3\n",
       "Certhiidae        1\n",
       "Troglodytidae     7\n",
       "Polioptilidae     1\n",
       "Cinclidae         1\n",
       "Regulidae         2\n",
       "Muscicapidae      1\n",
       "Turdidae         11\n",
       "Mimidae           5\n",
       "Sturnidae         1\n",
       "Bombycillidae     2\n",
       "Passeridae        2\n",
       "Motacillidae      2\n",
       "Fringillidae     13\n",
       "Calcariidae       5\n",
       "Passerellidae    26\n",
       "Icteridae        15\n",
       "Parulidae        41\n",
       "Cardinalidae     11\n",
       "Name: count, dtype: int64"
      ]
     },
     "execution_count": 81,
     "metadata": {},
     "output_type": "execute_result"
    }
   ],
   "source": [
    "# INTERLUDE\n",
    "# figure out if I can get value_counts to match up with this Family order\n",
    "Passeriformes['Family'].value_counts(sort=False)\n",
    "# YESSSSS"
   ]
  },
  {
   "cell_type": "code",
   "execution_count": 82,
   "id": "f06e3851-5c70-491d-8217-0e037ec25d94",
   "metadata": {},
   "outputs": [
    {
     "data": {
      "text/plain": [
       "[0, 0, 0, 0, 0, 0, 0, 0, 0, 0, 0, 0, 0, 0, 0, 0, 0, 0, 0, 0, 0, 0, 0, 0, 0, 0]"
      ]
     },
     "execution_count": 82,
     "metadata": {},
     "output_type": "execute_result"
    }
   ],
   "source": [
    "# SOURCE\n",
    "\n",
    "# find length of families array to figure out # of families bc that's basically # of links\n",
    "len(families) # = 26\n",
    "\n",
    "# all start from Passeriformes, first item in the labels list, so zero index\n",
    "# https://note.nkmk.me/en/python-list-initialize/\n",
    "sources = [0] * len(families)\n",
    "sources"
   ]
  },
  {
   "cell_type": "code",
   "execution_count": 83,
   "id": "2f1cdfb0-c5ae-417f-9e45-0bb74757c134",
   "metadata": {},
   "outputs": [
    {
     "data": {
      "text/plain": [
       "[1,\n",
       " 2,\n",
       " 3,\n",
       " 4,\n",
       " 5,\n",
       " 6,\n",
       " 7,\n",
       " 8,\n",
       " 9,\n",
       " 10,\n",
       " 11,\n",
       " 12,\n",
       " 13,\n",
       " 14,\n",
       " 15,\n",
       " 16,\n",
       " 17,\n",
       " 18,\n",
       " 19,\n",
       " 20,\n",
       " 21,\n",
       " 22,\n",
       " 23,\n",
       " 24,\n",
       " 25,\n",
       " 26]"
      ]
     },
     "execution_count": 83,
     "metadata": {},
     "output_type": "execute_result"
    }
   ],
   "source": [
    "# TARGET\n",
    "\n",
    "# one each Family\n",
    "targets = [1]\n",
    "for i in range (2, 27):\n",
    "    targets.append(i)\n",
    "targets"
   ]
  },
  {
   "cell_type": "code",
   "execution_count": 84,
   "id": "2c260592-b542-41c5-8bdb-d2bfe135ad59",
   "metadata": {},
   "outputs": [
    {
     "data": {
      "text/plain": [
       "[19,\n",
       " 2,\n",
       " 7,\n",
       " 6,\n",
       " 1,\n",
       " 7,\n",
       " 3,\n",
       " 3,\n",
       " 1,\n",
       " 7,\n",
       " 1,\n",
       " 1,\n",
       " 2,\n",
       " 1,\n",
       " 11,\n",
       " 5,\n",
       " 1,\n",
       " 2,\n",
       " 2,\n",
       " 2,\n",
       " 13,\n",
       " 5,\n",
       " 26,\n",
       " 15,\n",
       " 41,\n",
       " 11]"
      ]
     },
     "execution_count": 84,
     "metadata": {},
     "output_type": "execute_result"
    }
   ],
   "source": [
    "# VALUE\n",
    "\n",
    "# these are the value_counts, remember to coordinate order!\n",
    "values = Passeriformes['Family'].value_counts(sort=False).tolist()\n",
    "values"
   ]
  },
  {
   "cell_type": "markdown",
   "id": "a71ed6f9-2f3d-4547-afd3-bc597dc4701c",
   "metadata": {},
   "source": [
    "plot!"
   ]
  },
  {
   "cell_type": "code",
   "execution_count": 85,
   "id": "a72ca806-23c6-4fca-99af-2a708f1ccf3e",
   "metadata": {},
   "outputs": [],
   "source": [
    "fig = go.Figure(data=[go.Sankey(\n",
    "    node = dict(\n",
    "      pad = 15,\n",
    "      thickness = 20,\n",
    "      line = dict(color = \"black\", width = 0.5),\n",
    "      label = labels,\n",
    "      color = \"blue\"\n",
    "    ),\n",
    "    link = dict(\n",
    "      source = sources, # indices correspond to labels, eg A1, A2, A1, B1, ...\n",
    "      target = targets,\n",
    "      value = values\n",
    "  ))])\n",
    "\n",
    "fig.update_layout(title_text=\"Passeriformes to various Families\", font_size=10)\n",
    "fig.write_html('PasseriformesFamilies.html', auto_open=True)"
   ]
  },
  {
   "cell_type": "markdown",
   "id": "e1872604-11d5-4964-b47b-cb75b9834a47",
   "metadata": {},
   "source": [
    "That wasn't too bad! I think I can add genus to this!"
   ]
  },
  {
   "cell_type": "code",
   "execution_count": 86,
   "id": "5d2097ef-e33b-4837-a3db-112e6f4291d3",
   "metadata": {},
   "outputs": [
    {
     "data": {
      "text/html": [
       "<div>\n",
       "<style scoped>\n",
       "    .dataframe tbody tr th:only-of-type {\n",
       "        vertical-align: middle;\n",
       "    }\n",
       "\n",
       "    .dataframe tbody tr th {\n",
       "        vertical-align: top;\n",
       "    }\n",
       "\n",
       "    .dataframe thead th {\n",
       "        text-align: right;\n",
       "    }\n",
       "</style>\n",
       "<table border=\"1\" class=\"dataframe\">\n",
       "  <thead>\n",
       "    <tr style=\"text-align: right;\">\n",
       "      <th></th>\n",
       "      <th>Name</th>\n",
       "      <th>ScientificName</th>\n",
       "      <th>Order</th>\n",
       "      <th>Family</th>\n",
       "      <th>Genus</th>\n",
       "    </tr>\n",
       "  </thead>\n",
       "  <tbody>\n",
       "    <tr>\n",
       "      <th>365</th>\n",
       "      <td>Vesper sparrow</td>\n",
       "      <td>Pooecetes gramineus</td>\n",
       "      <td>Passeriformes</td>\n",
       "      <td>Passerellidae</td>\n",
       "      <td>Pooecetes</td>\n",
       "    </tr>\n",
       "  </tbody>\n",
       "</table>\n",
       "</div>"
      ],
      "text/plain": [
       "               Name       ScientificName          Order         Family   \n",
       "365  Vesper sparrow  Pooecetes gramineus  Passeriformes  Passerellidae  \\\n",
       "\n",
       "         Genus  \n",
       "365  Pooecetes  "
      ]
     },
     "execution_count": 86,
     "metadata": {},
     "output_type": "execute_result"
    }
   ],
   "source": [
    "Passeriformes.loc[[365]]"
   ]
  },
  {
   "cell_type": "markdown",
   "id": "a06b2bcd-e15a-47a2-a82c-53e7e5d123fc",
   "metadata": {},
   "source": [
    "Okay so the plan is to make this map specific to the ```Vesper sparrow```, that just means I will display all the genus for the Family ```Passeredllidae```, but not for any other Family. This means less work, yes, but there are also so many genus it will just make it easier to look at and follow."
   ]
  },
  {
   "cell_type": "code",
   "execution_count": 87,
   "id": "097125a7-8850-4355-b52f-6d2f46311e65",
   "metadata": {},
   "outputs": [
    {
     "data": {
      "text/html": [
       "<div>\n",
       "<style scoped>\n",
       "    .dataframe tbody tr th:only-of-type {\n",
       "        vertical-align: middle;\n",
       "    }\n",
       "\n",
       "    .dataframe tbody tr th {\n",
       "        vertical-align: top;\n",
       "    }\n",
       "\n",
       "    .dataframe thead th {\n",
       "        text-align: right;\n",
       "    }\n",
       "</style>\n",
       "<table border=\"1\" class=\"dataframe\">\n",
       "  <thead>\n",
       "    <tr style=\"text-align: right;\">\n",
       "      <th></th>\n",
       "      <th>Name</th>\n",
       "      <th>ScientificName</th>\n",
       "      <th>Order</th>\n",
       "      <th>Family</th>\n",
       "      <th>Genus</th>\n",
       "    </tr>\n",
       "  </thead>\n",
       "  <tbody>\n",
       "    <tr>\n",
       "      <th>350</th>\n",
       "      <td>Grasshopper sparrow</td>\n",
       "      <td>Ammodramus savannarum</td>\n",
       "      <td>Passeriformes</td>\n",
       "      <td>Passerellidae</td>\n",
       "      <td>Ammodramus</td>\n",
       "    </tr>\n",
       "    <tr>\n",
       "      <th>357</th>\n",
       "      <td>Brewer's sparrow</td>\n",
       "      <td>Spizella breweri</td>\n",
       "      <td>Passeriformes</td>\n",
       "      <td>Passerellidae</td>\n",
       "      <td>Spizella</td>\n",
       "    </tr>\n",
       "    <tr>\n",
       "      <th>361</th>\n",
       "      <td>White-crowned sparrow</td>\n",
       "      <td>Zonotrichia leucophrys</td>\n",
       "      <td>Passeriformes</td>\n",
       "      <td>Passerellidae</td>\n",
       "      <td>Zonotrichia</td>\n",
       "    </tr>\n",
       "    <tr>\n",
       "      <th>358</th>\n",
       "      <td>Fox sparrow</td>\n",
       "      <td>Passerella iliaca</td>\n",
       "      <td>Passeriformes</td>\n",
       "      <td>Passerellidae</td>\n",
       "      <td>Passerella</td>\n",
       "    </tr>\n",
       "    <tr>\n",
       "      <th>369</th>\n",
       "      <td>Henslow's sparrow</td>\n",
       "      <td>Centronyx henslowii</td>\n",
       "      <td>Passeriformes</td>\n",
       "      <td>Passerellidae</td>\n",
       "      <td>Centronyx</td>\n",
       "    </tr>\n",
       "  </tbody>\n",
       "</table>\n",
       "</div>"
      ],
      "text/plain": [
       "                      Name          ScientificName          Order   \n",
       "350    Grasshopper sparrow   Ammodramus savannarum  Passeriformes  \\\n",
       "357       Brewer's sparrow        Spizella breweri  Passeriformes   \n",
       "361  White-crowned sparrow  Zonotrichia leucophrys  Passeriformes   \n",
       "358            Fox sparrow       Passerella iliaca  Passeriformes   \n",
       "369      Henslow's sparrow     Centronyx henslowii  Passeriformes   \n",
       "\n",
       "            Family        Genus  \n",
       "350  Passerellidae   Ammodramus  \n",
       "357  Passerellidae     Spizella  \n",
       "361  Passerellidae  Zonotrichia  \n",
       "358  Passerellidae   Passerella  \n",
       "369  Passerellidae    Centronyx  "
      ]
     },
     "execution_count": 87,
     "metadata": {},
     "output_type": "execute_result"
    }
   ],
   "source": [
    "# make new df\n",
    "Passerellidae = Passeriformes[Passeriformes.Family == 'Passerellidae']\n",
    "Passerellidae.sample(5)"
   ]
  },
  {
   "cell_type": "code",
   "execution_count": 104,
   "id": "0026fc07-e12e-4135-932a-362a4c328c65",
   "metadata": {},
   "outputs": [
    {
     "data": {
      "text/plain": [
       "Genus\n",
       "Ammodramus      1\n",
       "Amphispiza      1\n",
       "Chondestes      1\n",
       "Calamospiza     1\n",
       "Spizella        4\n",
       "Passerella      1\n",
       "Spizelloides    1\n",
       "Junco           1\n",
       "Zonotrichia     4\n",
       "Pooecetes       1\n",
       "Ammospiza       2\n",
       "Centronyx       2\n",
       "Passerculus     1\n",
       "Melospiza       3\n",
       "Pipilo          2\n",
       "Name: count, dtype: int64"
      ]
     },
     "execution_count": 104,
     "metadata": {},
     "output_type": "execute_result"
    }
   ],
   "source": [
    "# see all genus\n",
    "Passerellidae['Genus'].value_counts(sort=False)"
   ]
  },
  {
   "cell_type": "markdown",
   "id": "f53e1e99-5984-4252-9e70-23aab91efb5e",
   "metadata": {},
   "source": [
    "The vesper sparrow is of genus, ```Pooecetes```, and the only bird of that genus in this dataset.\n",
    "- still, I think it'd be beneficial to make another layer to just show its scientific name. But back to that another time. <br>\n",
    "\n",
    "So, on to arranging data!"
   ]
  },
  {
   "cell_type": "code",
   "execution_count": 105,
   "id": "5860e81c-5513-4e28-a670-59001513b7a4",
   "metadata": {},
   "outputs": [
    {
     "data": {
      "text/plain": [
       "['Passeriformes',\n",
       " 'Tyrannidae',\n",
       " 'Laniidae',\n",
       " 'Vireonidae',\n",
       " 'Corvidae',\n",
       " 'Alaudidae',\n",
       " 'Hirundinidae',\n",
       " 'Paridae',\n",
       " 'Sittidae',\n",
       " 'Certhiidae',\n",
       " 'Troglodytidae',\n",
       " 'Polioptilidae',\n",
       " 'Cinclidae',\n",
       " 'Regulidae',\n",
       " 'Muscicapidae',\n",
       " 'Turdidae',\n",
       " 'Mimidae',\n",
       " 'Sturnidae',\n",
       " 'Bombycillidae',\n",
       " 'Passeridae',\n",
       " 'Motacillidae',\n",
       " 'Fringillidae',\n",
       " 'Calcariidae',\n",
       " 'Passerellidae',\n",
       " 'Icteridae',\n",
       " 'Parulidae',\n",
       " 'Cardinalidae',\n",
       " 'Ammodramus',\n",
       " 'Amphispiza',\n",
       " 'Chondestes',\n",
       " 'Calamospiza',\n",
       " 'Spizella',\n",
       " 'Passerella',\n",
       " 'Spizelloides',\n",
       " 'Junco',\n",
       " 'Zonotrichia',\n",
       " 'Pooecetes',\n",
       " 'Ammospiza',\n",
       " 'Centronyx',\n",
       " 'Passerculus',\n",
       " 'Melospiza',\n",
       " 'Pipilo']"
      ]
     },
     "execution_count": 105,
     "metadata": {},
     "output_type": "execute_result"
    }
   ],
   "source": [
    "# LABEL\n",
    "\n",
    "# Order\n",
    "labels = [\"Passeriformes\"]\n",
    "\n",
    "# Family\n",
    "families = Passeriformes['Family'].unique()\n",
    "\n",
    "# Genus\n",
    "genus = Passerellidae['Genus'].unique()\n",
    "\n",
    "labels.extend(families)\n",
    "labels.extend(genus)\n",
    "labels"
   ]
  },
  {
   "cell_type": "code",
   "execution_count": 106,
   "id": "2125ade7-2844-4cac-8445-c66f1b4760bb",
   "metadata": {},
   "outputs": [
    {
     "data": {
      "text/plain": [
       "[0,\n",
       " 0,\n",
       " 0,\n",
       " 0,\n",
       " 0,\n",
       " 0,\n",
       " 0,\n",
       " 0,\n",
       " 0,\n",
       " 0,\n",
       " 0,\n",
       " 0,\n",
       " 0,\n",
       " 0,\n",
       " 0,\n",
       " 0,\n",
       " 0,\n",
       " 0,\n",
       " 0,\n",
       " 0,\n",
       " 0,\n",
       " 0,\n",
       " 0,\n",
       " 0,\n",
       " 0,\n",
       " 0,\n",
       " 23,\n",
       " 23,\n",
       " 23,\n",
       " 23,\n",
       " 23,\n",
       " 23,\n",
       " 23,\n",
       " 23,\n",
       " 23,\n",
       " 23,\n",
       " 23,\n",
       " 23,\n",
       " 23,\n",
       " 23,\n",
       " 23]"
      ]
     },
     "execution_count": 106,
     "metadata": {},
     "output_type": "execute_result"
    }
   ],
   "source": [
    "# SOURCE\n",
    "\n",
    "# FIRST SET\n",
    "# find length of families array to figure out # of families bc that's basically # of links\n",
    "len(families) # = 26\n",
    "\n",
    "# all start from Passeriformes, first item in the labels list, so zero index\n",
    "# https://note.nkmk.me/en/python-list-initialize/\n",
    "sources = [0] * len(families)\n",
    "sources\n",
    "\n",
    "# SECOND SET\n",
    "# find which node Passerellidae is\n",
    "labels.index('Passerellidae') # = 23\n",
    "\n",
    "# find lenght of genus to find # of families to find # of links\n",
    "len(genus) # = 15\n",
    "\n",
    "# make 15 with start source at 23\n",
    "sources2 = [labels.index('Passerellidae')] * len(genus)\n",
    "\n",
    "# add to sources\n",
    "sources.extend(sources2)\n",
    "sources"
   ]
  },
  {
   "cell_type": "code",
   "execution_count": 107,
   "id": "28eb0f37-a03a-4245-baf5-e9e48e4394fa",
   "metadata": {},
   "outputs": [
    {
     "data": {
      "text/plain": [
       "[1,\n",
       " 2,\n",
       " 3,\n",
       " 4,\n",
       " 5,\n",
       " 6,\n",
       " 7,\n",
       " 8,\n",
       " 9,\n",
       " 10,\n",
       " 11,\n",
       " 12,\n",
       " 13,\n",
       " 14,\n",
       " 15,\n",
       " 16,\n",
       " 17,\n",
       " 18,\n",
       " 19,\n",
       " 20,\n",
       " 21,\n",
       " 22,\n",
       " 23,\n",
       " 24,\n",
       " 25,\n",
       " 26,\n",
       " 27,\n",
       " 28,\n",
       " 29,\n",
       " 30,\n",
       " 31,\n",
       " 32,\n",
       " 33,\n",
       " 34,\n",
       " 35,\n",
       " 36,\n",
       " 37,\n",
       " 38,\n",
       " 39,\n",
       " 40,\n",
       " 41]"
      ]
     },
     "execution_count": 107,
     "metadata": {},
     "output_type": "execute_result"
    }
   ],
   "source": [
    "# TARGET\n",
    "\n",
    "# one each Family\n",
    "targets = [1]\n",
    "for i in range (2, 27):\n",
    "    targets.append(i)\n",
    "targets\n",
    "\n",
    "# one each genus\n",
    "for i in range (27, 27+len(genus)):\n",
    "    targets.append(i)\n",
    "targets"
   ]
  },
  {
   "cell_type": "code",
   "execution_count": 108,
   "id": "eed84617-42b7-4afa-b4f3-12691880d65b",
   "metadata": {},
   "outputs": [
    {
     "data": {
      "text/plain": [
       "[19,\n",
       " 2,\n",
       " 7,\n",
       " 6,\n",
       " 1,\n",
       " 7,\n",
       " 3,\n",
       " 3,\n",
       " 1,\n",
       " 7,\n",
       " 1,\n",
       " 1,\n",
       " 2,\n",
       " 1,\n",
       " 11,\n",
       " 5,\n",
       " 1,\n",
       " 2,\n",
       " 2,\n",
       " 2,\n",
       " 13,\n",
       " 5,\n",
       " 26,\n",
       " 15,\n",
       " 41,\n",
       " 11,\n",
       " 1,\n",
       " 1,\n",
       " 1,\n",
       " 1,\n",
       " 4,\n",
       " 1,\n",
       " 1,\n",
       " 1,\n",
       " 4,\n",
       " 1,\n",
       " 2,\n",
       " 2,\n",
       " 1,\n",
       " 3,\n",
       " 2]"
      ]
     },
     "execution_count": 108,
     "metadata": {},
     "output_type": "execute_result"
    }
   ],
   "source": [
    "# VALUE\n",
    "# these are the value_counts, remember to coordinate order!\n",
    "\n",
    "# families: \n",
    "values = Passeriformes['Family'].value_counts(sort=False).tolist()\n",
    "values\n",
    "\n",
    "# genus:\n",
    "values2 = Passerellidae['Genus'].value_counts(sort=False).tolist()\n",
    "values2\n",
    "\n",
    "# combine:\n",
    "values.extend(values2)\n",
    "values"
   ]
  },
  {
   "cell_type": "code",
   "execution_count": 110,
   "id": "219957d1-d1c5-4e4b-9d3c-18cdae4930e9",
   "metadata": {},
   "outputs": [],
   "source": [
    "# PLOT\n",
    "\n",
    "fig = go.Figure(data=[go.Sankey(\n",
    "    node = dict(\n",
    "      pad = 15,\n",
    "      thickness = 20,\n",
    "      line = dict(color = \"black\", width = 0.5),\n",
    "      label = labels,\n",
    "      color = \"green\"\n",
    "    ),\n",
    "    link = dict(\n",
    "      source = sources, # indices correspond to labels, eg A1, A2, A1, B1, ...\n",
    "      target = targets,\n",
    "      value = values\n",
    "  ))])\n",
    "\n",
    "fig.update_layout(title_text=\"Passeriformes to Passerellidae and other families. Passerellidae to various genus\", font_size=10)\n",
    "fig.write_html('PasseriformesPasserellidaeGenus.html', auto_open=True)"
   ]
  },
  {
   "cell_type": "markdown",
   "id": "3ef2eb95-8a1a-4bf2-899c-1792e8408908",
   "metadata": {},
   "source": [
    "Looking good! And it *does* make ```Passerellidae``` stick out a bit, which is actually good because then I can leave colour to deal with another day. Lastly, let me just add the scientific name!\n",
    "- It is a bit confusing where it looks as though the other Families are on the same \"level\" as the Genus, but I hope the title clarifies."
   ]
  },
  {
   "cell_type": "code",
   "execution_count": 111,
   "id": "b8f2c0b8-f0fd-40be-b3ed-44ff4ac94dcc",
   "metadata": {},
   "outputs": [
    {
     "data": {
      "text/html": [
       "<div>\n",
       "<style scoped>\n",
       "    .dataframe tbody tr th:only-of-type {\n",
       "        vertical-align: middle;\n",
       "    }\n",
       "\n",
       "    .dataframe tbody tr th {\n",
       "        vertical-align: top;\n",
       "    }\n",
       "\n",
       "    .dataframe thead th {\n",
       "        text-align: right;\n",
       "    }\n",
       "</style>\n",
       "<table border=\"1\" class=\"dataframe\">\n",
       "  <thead>\n",
       "    <tr style=\"text-align: right;\">\n",
       "      <th></th>\n",
       "      <th>Name</th>\n",
       "      <th>ScientificName</th>\n",
       "      <th>Order</th>\n",
       "      <th>Family</th>\n",
       "      <th>Genus</th>\n",
       "    </tr>\n",
       "  </thead>\n",
       "  <tbody>\n",
       "    <tr>\n",
       "      <th>365</th>\n",
       "      <td>Vesper sparrow</td>\n",
       "      <td>Pooecetes gramineus</td>\n",
       "      <td>Passeriformes</td>\n",
       "      <td>Passerellidae</td>\n",
       "      <td>Pooecetes</td>\n",
       "    </tr>\n",
       "  </tbody>\n",
       "</table>\n",
       "</div>"
      ],
      "text/plain": [
       "               Name       ScientificName          Order         Family   \n",
       "365  Vesper sparrow  Pooecetes gramineus  Passeriformes  Passerellidae  \\\n",
       "\n",
       "         Genus  \n",
       "365  Pooecetes  "
      ]
     },
     "execution_count": 111,
     "metadata": {},
     "output_type": "execute_result"
    }
   ],
   "source": [
    "Passerellidae.loc[[365]]"
   ]
  },
  {
   "cell_type": "code",
   "execution_count": 117,
   "id": "f43097bf-55e6-4425-b69d-6ecac28e2ab7",
   "metadata": {},
   "outputs": [
    {
     "data": {
      "text/plain": [
       "[19,\n",
       " 2,\n",
       " 7,\n",
       " 6,\n",
       " 1,\n",
       " 7,\n",
       " 3,\n",
       " 3,\n",
       " 1,\n",
       " 7,\n",
       " 1,\n",
       " 1,\n",
       " 2,\n",
       " 1,\n",
       " 11,\n",
       " 5,\n",
       " 1,\n",
       " 2,\n",
       " 2,\n",
       " 2,\n",
       " 13,\n",
       " 5,\n",
       " 26,\n",
       " 15,\n",
       " 41,\n",
       " 11,\n",
       " 1,\n",
       " 1,\n",
       " 1,\n",
       " 1,\n",
       " 4,\n",
       " 1,\n",
       " 1,\n",
       " 1,\n",
       " 4,\n",
       " 1,\n",
       " 2,\n",
       " 2,\n",
       " 1,\n",
       " 3,\n",
       " 2,\n",
       " 1]"
      ]
     },
     "execution_count": 117,
     "metadata": {},
     "output_type": "execute_result"
    }
   ],
   "source": [
    "# LABEL\n",
    "\n",
    "# Scientific Name\n",
    "sciname = [\"Pooecetes gramineus\"]\n",
    "\n",
    "labels.extend(sciname)\n",
    "labels\n",
    "\n",
    "# SOURCE\n",
    "\n",
    "# THIRD SET\n",
    "# find which node Pooecetes is\n",
    "labels.index('Pooecetes') # = 36\n",
    "\n",
    "# make just the one with source at 36\n",
    "sources3 = [labels.index('Pooecetes')]\n",
    "\n",
    "sources.extend(sources3)\n",
    "sources\n",
    "\n",
    "# TARGET\n",
    "\n",
    "targets.append(42)\n",
    "targets\n",
    "\n",
    "# VALUES\n",
    "\n",
    "values3 = [1]\n",
    "\n",
    "# combine:\n",
    "values.extend(values3)\n",
    "values"
   ]
  },
  {
   "cell_type": "code",
   "execution_count": 122,
   "id": "29bdeed0-9e01-4a39-8068-2b8d5e28ec74",
   "metadata": {},
   "outputs": [],
   "source": [
    "# PLOT\n",
    "\n",
    "fig = go.Figure(data=[go.Sankey(\n",
    "    node = dict(\n",
    "      pad = 15,\n",
    "      thickness = 20,\n",
    "      line = dict(color = \"black\", width = 0.5),\n",
    "      label = labels,\n",
    "      color = \"red\"\n",
    "    ),\n",
    "    link = dict(\n",
    "      source = sources, # indices correspond to labels, eg A1, A2, A1, B1, ...\n",
    "      target = targets,\n",
    "      value = values\n",
    "  ))])\n",
    "\n",
    "fig.update_layout(title_text=\"Nomenclature of Pooecetes gramineus (vesper sparrow) from Order to Scientific Name.\", font_size=10)\n",
    "fig.write_html('PasseriformesPasserellidaeGenus.html', auto_open=True)"
   ]
  },
  {
   "cell_type": "markdown",
   "id": "b1763c53-6e9d-4c86-b1d0-668c24aa1cca",
   "metadata": {},
   "source": [
    "And that's all about vesper sparrows!"
   ]
  },
  {
   "cell_type": "markdown",
   "id": "bd48c2bd-1a58-47ec-89ca-35721679f8cd",
   "metadata": {},
   "source": [
    "TODO (extension)\n",
    "- highlight (with a diff colour) the Vesper Sparrow path"
   ]
  }
 ],
 "metadata": {
  "kernelspec": {
   "display_name": "Python 3 (ipykernel)",
   "language": "python",
   "name": "python3"
  },
  "language_info": {
   "codemirror_mode": {
    "name": "ipython",
    "version": 3
   },
   "file_extension": ".py",
   "mimetype": "text/x-python",
   "name": "python",
   "nbconvert_exporter": "python",
   "pygments_lexer": "ipython3",
   "version": "3.10.11"
  }
 },
 "nbformat": 4,
 "nbformat_minor": 5
}
