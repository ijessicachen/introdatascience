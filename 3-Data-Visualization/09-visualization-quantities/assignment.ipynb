{
 "cells": [
  {
   "cell_type": "markdown",
   "id": "b6477465-6062-4fd7-854f-a515f7a7d495",
   "metadata": {},
   "source": [
    "# Lines, Scatters and Bars\n",
    "\n",
    "## Instructions\n",
    "\n",
    "In this lesson, you worked with line charts, scatterplots, and bar charts to show interesting facts about this dataset. In this assignment, dig deeper into the dataset to discover a fact about a given type of bird. For example, create a notebook visualizing all the interesting data you can uncover about Snow Geese. Use the three plots mentioned above to tell a story in your notebook.\n",
    "\n",
    "## Rubric\n",
    "\n",
    "Exemplary | Adequate | Needs Improvement\n",
    "--- | --- | -- |\n",
    "A notebook is presented with good annotations, solid storytelling, and attractive graphs | The notebook is missing one of these elements | The notebook is missing two of these elements"
   ]
  },
  {
   "cell_type": "code",
   "execution_count": 1,
   "id": "7f02bafb-d074-4a80-9434-66d488646e0b",
   "metadata": {},
   "outputs": [
    {
     "data": {
      "text/html": [
       "<div>\n",
       "<style scoped>\n",
       "    .dataframe tbody tr th:only-of-type {\n",
       "        vertical-align: middle;\n",
       "    }\n",
       "\n",
       "    .dataframe tbody tr th {\n",
       "        vertical-align: top;\n",
       "    }\n",
       "\n",
       "    .dataframe thead th {\n",
       "        text-align: right;\n",
       "    }\n",
       "</style>\n",
       "<table border=\"1\" class=\"dataframe\">\n",
       "  <thead>\n",
       "    <tr style=\"text-align: right;\">\n",
       "      <th></th>\n",
       "      <th>Name</th>\n",
       "      <th>ScientificName</th>\n",
       "      <th>Category</th>\n",
       "      <th>Order</th>\n",
       "      <th>Family</th>\n",
       "      <th>Genus</th>\n",
       "      <th>ConservationStatus</th>\n",
       "      <th>MinLength</th>\n",
       "      <th>MaxLength</th>\n",
       "      <th>MinBodyMass</th>\n",
       "      <th>MaxBodyMass</th>\n",
       "      <th>MinWingspan</th>\n",
       "      <th>MaxWingspan</th>\n",
       "    </tr>\n",
       "  </thead>\n",
       "  <tbody>\n",
       "    <tr>\n",
       "      <th>111</th>\n",
       "      <td>Red knot</td>\n",
       "      <td>Calidris canutus</td>\n",
       "      <td>Sandpipers/Allies</td>\n",
       "      <td>Charadriiformes</td>\n",
       "      <td>Scolopacidae</td>\n",
       "      <td>Calidris</td>\n",
       "      <td>NT</td>\n",
       "      <td>23.0</td>\n",
       "      <td>26.0</td>\n",
       "      <td>100.0</td>\n",
       "      <td>200.0</td>\n",
       "      <td>47.0</td>\n",
       "      <td>53.0</td>\n",
       "    </tr>\n",
       "    <tr>\n",
       "      <th>85</th>\n",
       "      <td>King rail</td>\n",
       "      <td>Rallus elegans</td>\n",
       "      <td>Rails/Gallinules/Coots</td>\n",
       "      <td>Gruiformes</td>\n",
       "      <td>Rallidae</td>\n",
       "      <td>Rallus</td>\n",
       "      <td>NT</td>\n",
       "      <td>15.5</td>\n",
       "      <td>19.0</td>\n",
       "      <td>290.0</td>\n",
       "      <td>290.0</td>\n",
       "      <td>48.0</td>\n",
       "      <td>48.0</td>\n",
       "    </tr>\n",
       "    <tr>\n",
       "      <th>142</th>\n",
       "      <td>Black guillemot</td>\n",
       "      <td>Cepphus grylle</td>\n",
       "      <td>Auks/Murres/Puffins</td>\n",
       "      <td>Charadriiformes</td>\n",
       "      <td>Alcidae</td>\n",
       "      <td>Cepphus</td>\n",
       "      <td>LC</td>\n",
       "      <td>30.0</td>\n",
       "      <td>32.0</td>\n",
       "      <td>300.0</td>\n",
       "      <td>460.0</td>\n",
       "      <td>52.0</td>\n",
       "      <td>58.0</td>\n",
       "    </tr>\n",
       "    <tr>\n",
       "      <th>379</th>\n",
       "      <td>Eastern meadowlark</td>\n",
       "      <td>Sturnella magna</td>\n",
       "      <td>Troupials/Allies</td>\n",
       "      <td>Passeriformes</td>\n",
       "      <td>Icteridae</td>\n",
       "      <td>Sturnella</td>\n",
       "      <td>NT</td>\n",
       "      <td>19.0</td>\n",
       "      <td>28.0</td>\n",
       "      <td>76.0</td>\n",
       "      <td>150.0</td>\n",
       "      <td>35.0</td>\n",
       "      <td>40.0</td>\n",
       "    </tr>\n",
       "    <tr>\n",
       "      <th>423</th>\n",
       "      <td>Yellow-throated warbler</td>\n",
       "      <td>Setophaga dominica</td>\n",
       "      <td>New World warblers</td>\n",
       "      <td>Passeriformes</td>\n",
       "      <td>Parulidae</td>\n",
       "      <td>Setophaga</td>\n",
       "      <td>LC</td>\n",
       "      <td>13.0</td>\n",
       "      <td>14.0</td>\n",
       "      <td>9.0</td>\n",
       "      <td>11.0</td>\n",
       "      <td>21.0</td>\n",
       "      <td>21.0</td>\n",
       "    </tr>\n",
       "  </tbody>\n",
       "</table>\n",
       "</div>"
      ],
      "text/plain": [
       "                        Name      ScientificName                Category   \n",
       "111                 Red knot    Calidris canutus       Sandpipers/Allies  \\\n",
       "85                 King rail      Rallus elegans  Rails/Gallinules/Coots   \n",
       "142          Black guillemot      Cepphus grylle     Auks/Murres/Puffins   \n",
       "379       Eastern meadowlark     Sturnella magna        Troupials/Allies   \n",
       "423  Yellow-throated warbler  Setophaga dominica      New World warblers   \n",
       "\n",
       "               Order        Family      Genus ConservationStatus  MinLength   \n",
       "111  Charadriiformes  Scolopacidae   Calidris                 NT       23.0  \\\n",
       "85        Gruiformes      Rallidae     Rallus                 NT       15.5   \n",
       "142  Charadriiformes       Alcidae    Cepphus                 LC       30.0   \n",
       "379    Passeriformes     Icteridae  Sturnella                 NT       19.0   \n",
       "423    Passeriformes     Parulidae  Setophaga                 LC       13.0   \n",
       "\n",
       "     MaxLength  MinBodyMass  MaxBodyMass  MinWingspan  MaxWingspan  \n",
       "111       26.0        100.0        200.0         47.0         53.0  \n",
       "85        19.0        290.0        290.0         48.0         48.0  \n",
       "142       32.0        300.0        460.0         52.0         58.0  \n",
       "379       28.0         76.0        150.0         35.0         40.0  \n",
       "423       14.0          9.0         11.0         21.0         21.0  "
      ]
     },
     "execution_count": 1,
     "metadata": {},
     "output_type": "execute_result"
    }
   ],
   "source": [
    "import pandas as pd\n",
    "import matplotlib.pyplot as plt\n",
    "import numpy as np\n",
    "birds = pd.read_csv('../../data/birds.csv')\n",
    "birds.sample(5)"
   ]
  },
  {
   "cell_type": "code",
   "execution_count": 2,
   "id": "f55b8615-5fec-4257-8580-8bc0f7d08ce7",
   "metadata": {},
   "outputs": [
    {
     "name": "stdout",
     "output_type": "stream",
     "text": [
      "           Name            ScientificName      Category            Order   \n",
      "209  Bald eagle  Haliaeetus leucocephalus  Hawks/Eagles  Accipitriformes  \\\n",
      "\n",
      "           Family       Genus ConservationStatus  MinLength  MaxLength   \n",
      "209  Accipitridae  Haliaeetus                 LC       70.0      102.0  \\\n",
      "\n",
      "     MinBodyMass  MaxBodyMass  MinWingspan  MaxWingspan  \n",
      "209       3000.0       6300.0       1800.0       2300.0  \n",
      "               Name   ScientificName            Category         Order   \n",
      "247  Prairie falcon  Falco mexicanus  Falcons /Caracaras  Falconformes  \\\n",
      "\n",
      "         Family  Genus ConservationStatus  MinLength  MaxLength  MinBodyMass   \n",
      "247  Falconidae  Falco                 LC       37.0       45.0        500.0  \\\n",
      "\n",
      "     MaxBodyMass  MinWingspan  MaxWingspan  \n",
      "247        970.0       1100.0       1100.0  \n",
      "           Name            ScientificName      Category            Order   \n",
      "209  Bald eagle  Haliaeetus leucocephalus  Hawks/Eagles  Accipitriformes  \\\n",
      "\n",
      "           Family       Genus ConservationStatus  MinLength  MaxLength   \n",
      "209  Accipitridae  Haliaeetus                 LC       70.0      102.0  \\\n",
      "\n",
      "     MinBodyMass  MaxBodyMass  MinWingspan  MaxWingspan  \n",
      "209       3000.0       6300.0        180.0        230.0  \n",
      "               Name   ScientificName            Category         Order   \n",
      "247  Prairie falcon  Falco mexicanus  Falcons /Caracaras  Falconformes  \\\n",
      "\n",
      "         Family  Genus ConservationStatus  MinLength  MaxLength  MinBodyMass   \n",
      "247  Falconidae  Falco                 LC       37.0       45.0        500.0  \\\n",
      "\n",
      "     MaxBodyMass  MinWingspan  MaxWingspan  \n",
      "247        970.0        110.0        110.0  \n"
     ]
    },
    {
     "name": "stderr",
     "output_type": "stream",
     "text": [
      "/tmp/ipykernel_124/4070454546.py:4: SettingWithCopyWarning: \n",
      "A value is trying to be set on a copy of a slice from a DataFrame\n",
      "\n",
      "See the caveats in the documentation: https://pandas.pydata.org/pandas-docs/stable/user_guide/indexing.html#returning-a-view-versus-a-copy\n",
      "  birds['MaxWingspan'][209] = birds['MaxWingspan'][209]/10\n",
      "/tmp/ipykernel_124/4070454546.py:5: SettingWithCopyWarning: \n",
      "A value is trying to be set on a copy of a slice from a DataFrame\n",
      "\n",
      "See the caveats in the documentation: https://pandas.pydata.org/pandas-docs/stable/user_guide/indexing.html#returning-a-view-versus-a-copy\n",
      "  birds['MinWingspan'][209] = birds['MinWingspan'][209]/10\n",
      "/tmp/ipykernel_124/4070454546.py:6: SettingWithCopyWarning: \n",
      "A value is trying to be set on a copy of a slice from a DataFrame\n",
      "\n",
      "See the caveats in the documentation: https://pandas.pydata.org/pandas-docs/stable/user_guide/indexing.html#returning-a-view-versus-a-copy\n",
      "  birds['MaxWingspan'][247] = birds['MaxWingspan'][247]/10\n",
      "/tmp/ipykernel_124/4070454546.py:7: SettingWithCopyWarning: \n",
      "A value is trying to be set on a copy of a slice from a DataFrame\n",
      "\n",
      "See the caveats in the documentation: https://pandas.pydata.org/pandas-docs/stable/user_guide/indexing.html#returning-a-view-versus-a-copy\n",
      "  birds['MinWingspan'][247] = birds['MinWingspan'][247]/10\n"
     ]
    }
   ],
   "source": [
    "# fix those 2 or 4 outliers\n",
    "print(birds.loc[[209]])\n",
    "print(birds.loc[[247]])\n",
    "birds['MaxWingspan'][209] = birds['MaxWingspan'][209]/10\n",
    "birds['MinWingspan'][209] = birds['MinWingspan'][209]/10\n",
    "birds['MaxWingspan'][247] = birds['MaxWingspan'][247]/10\n",
    "birds['MinWingspan'][247] = birds['MinWingspan'][247]/10\n",
    "print(birds.loc[[209]])\n",
    "print(birds.loc[[247]])"
   ]
  },
  {
   "cell_type": "code",
   "execution_count": 3,
   "id": "a140a602-49c5-4a72-994e-9aab6bf5d8cf",
   "metadata": {},
   "outputs": [
    {
     "data": {
      "text/html": [
       "<div>\n",
       "<style scoped>\n",
       "    .dataframe tbody tr th:only-of-type {\n",
       "        vertical-align: middle;\n",
       "    }\n",
       "\n",
       "    .dataframe tbody tr th {\n",
       "        vertical-align: top;\n",
       "    }\n",
       "\n",
       "    .dataframe thead th {\n",
       "        text-align: right;\n",
       "    }\n",
       "</style>\n",
       "<table border=\"1\" class=\"dataframe\">\n",
       "  <thead>\n",
       "    <tr style=\"text-align: right;\">\n",
       "      <th></th>\n",
       "      <th>Name</th>\n",
       "      <th>ScientificName</th>\n",
       "      <th>Category</th>\n",
       "      <th>Order</th>\n",
       "      <th>Family</th>\n",
       "      <th>Genus</th>\n",
       "      <th>ConservationStatus</th>\n",
       "      <th>MinLength</th>\n",
       "      <th>MaxLength</th>\n",
       "      <th>MinBodyMass</th>\n",
       "      <th>MaxBodyMass</th>\n",
       "      <th>MinWingspan</th>\n",
       "      <th>MaxWingspan</th>\n",
       "    </tr>\n",
       "  </thead>\n",
       "  <tbody>\n",
       "    <tr>\n",
       "      <th>365</th>\n",
       "      <td>Vesper sparrow</td>\n",
       "      <td>Pooecetes gramineus</td>\n",
       "      <td>New World sparrows</td>\n",
       "      <td>Passeriformes</td>\n",
       "      <td>Passerellidae</td>\n",
       "      <td>Pooecetes</td>\n",
       "      <td>LC</td>\n",
       "      <td>13.0</td>\n",
       "      <td>16.0</td>\n",
       "      <td>20.0</td>\n",
       "      <td>28.0</td>\n",
       "      <td>24.0</td>\n",
       "      <td>24.0</td>\n",
       "    </tr>\n",
       "  </tbody>\n",
       "</table>\n",
       "</div>"
      ],
      "text/plain": [
       "               Name       ScientificName            Category          Order   \n",
       "365  Vesper sparrow  Pooecetes gramineus  New World sparrows  Passeriformes  \\\n",
       "\n",
       "            Family      Genus ConservationStatus  MinLength  MaxLength   \n",
       "365  Passerellidae  Pooecetes                 LC       13.0       16.0  \\\n",
       "\n",
       "     MinBodyMass  MaxBodyMass  MinWingspan  MaxWingspan  \n",
       "365         20.0         28.0         24.0         24.0  "
      ]
     },
     "execution_count": 3,
     "metadata": {},
     "output_type": "execute_result"
    }
   ],
   "source": [
    "# okay let's learn about the Vesper sparrow, row 365\n",
    "birds.loc[[365]]"
   ]
  },
  {
   "cell_type": "markdown",
   "id": "0eb8ad77-48c4-4a76-8acf-739964883f81",
   "metadata": {},
   "source": [
    "## Quantitative Values\n",
    "first, let's compare the it's length, body mass, and wingspan with the mean and median of those values for all the birds.<br>\n",
    "\n",
    "I will find said value and place them in some arrays (series? lists?)."
   ]
  },
  {
   "cell_type": "code",
   "execution_count": 4,
   "id": "325878be-8ea4-43cf-9fa3-e330343ec273",
   "metadata": {},
   "outputs": [
    {
     "data": {
      "text/plain": [
       "['MinLength',\n",
       " 'MaxLength',\n",
       " 'MinBodyMass',\n",
       " 'MaxBodyMass',\n",
       " 'MinWingspan',\n",
       " 'MaxWingspan']"
      ]
     },
     "execution_count": 4,
     "metadata": {},
     "output_type": "execute_result"
    }
   ],
   "source": [
    "atts = birds.columns.tolist()\n",
    "del atts[0:7]\n",
    "atts"
   ]
  },
  {
   "cell_type": "markdown",
   "id": "9d8d7882-6920-489b-b1db-f0e4d5e92a47",
   "metadata": {},
   "source": [
    "#### Figure out how to find mean and median"
   ]
  },
  {
   "cell_type": "code",
   "execution_count": 5,
   "id": "351a6596-1a53-469d-9d50-4fe40bc433a9",
   "metadata": {},
   "outputs": [
    {
     "data": {
      "text/plain": [
       "[28.53668171557562,\n",
       " 35.44198645598194,\n",
       " 327.9382618510158,\n",
       " 667.0097516930023,\n",
       " 52.66625282167043,\n",
       " 60.61704288939052]"
      ]
     },
     "execution_count": 5,
     "metadata": {},
     "output_type": "execute_result"
    }
   ],
   "source": [
    "means = []\n",
    "for item in atts:\n",
    "    means.append(birds.loc[:, item].mean())\n",
    "means"
   ]
  },
  {
   "cell_type": "code",
   "execution_count": 6,
   "id": "65bcc8a8-3497-4f8d-b5af-08ae43d59caa",
   "metadata": {},
   "outputs": [
    {
     "data": {
      "text/plain": [
       "[20.5, 25.0, 55.0, 89.0, 38.0, 42.0]"
      ]
     },
     "execution_count": 6,
     "metadata": {},
     "output_type": "execute_result"
    }
   ],
   "source": [
    "medians = []\n",
    "for item in atts:\n",
    "    medians.append(birds.loc[:, item].median())\n",
    "medians"
   ]
  },
  {
   "cell_type": "markdown",
   "id": "46a7db62-a170-4bb1-bb19-ab8670db375a",
   "metadata": {},
   "source": [
    "might as well just make a list for these Vesper sparrow attributes too."
   ]
  },
  {
   "cell_type": "code",
   "execution_count": 7,
   "id": "4e97f8d4-dda2-47af-b62d-7a669e0b6f5d",
   "metadata": {},
   "outputs": [
    {
     "data": {
      "text/plain": [
       "[13.0, 16.0, 20.0, 28.0, 24.0, 24.0]"
      ]
     },
     "execution_count": 7,
     "metadata": {},
     "output_type": "execute_result"
    }
   ],
   "source": [
    "VesSpar = []\n",
    "for item in atts:\n",
    "    VesSpar.append(birds.loc[365, item])\n",
    "VesSpar"
   ]
  },
  {
   "cell_type": "markdown",
   "id": "f345df78-ce79-49a2-8eb1-6b764b709917",
   "metadata": {},
   "source": [
    "#### Combine all that information into a dict"
   ]
  },
  {
   "cell_type": "code",
   "execution_count": 8,
   "id": "312cd711-5351-4859-b33f-6a40307afae4",
   "metadata": {},
   "outputs": [
    {
     "data": {
      "text/plain": [
       "{'mean': [28.53668171557562,\n",
       "  35.44198645598194,\n",
       "  327.9382618510158,\n",
       "  667.0097516930023,\n",
       "  52.66625282167043,\n",
       "  60.61704288939052],\n",
       " 'vs': [13.0, 16.0, 20.0, 28.0, 24.0, 24.0],\n",
       " 'median': [20.5, 25.0, 55.0, 89.0, 38.0, 42.0]}"
      ]
     },
     "execution_count": 8,
     "metadata": {},
     "output_type": "execute_result"
    }
   ],
   "source": [
    "attvals = dict({'mean': means, 'vs': VesSpar, 'median': medians})\n",
    "attvals"
   ]
  },
  {
   "cell_type": "markdown",
   "id": "c953d5bb-d07d-496d-a94f-f76b871b52d9",
   "metadata": {},
   "source": [
    "#### plot!"
   ]
  },
  {
   "cell_type": "code",
   "execution_count": 9,
   "id": "8be104a8-a763-4990-b0bd-9313e11f5c8d",
   "metadata": {},
   "outputs": [
    {
     "data": {
      "image/png": "[encoded data removed]",
      "text/plain": [
       "<Figure size 640x480 with 1 Axes>"
      ]
     },
     "metadata": {},
     "output_type": "display_data"
    }
   ],
   "source": [
    "# all from here: https://matplotlib.org/stable/gallery/lines_bars_and_markers/barchart.html\n",
    "\n",
    "x = np.arange(len(atts))  # the label locations\n",
    "width = 0.25  # the width of the bars\n",
    "multiplier = 0\n",
    "\n",
    "fig, ax = plt.subplots(layout='constrained')\n",
    "\n",
    "for attribute, measurement in attvals.items():\n",
    "    offset = width * multiplier\n",
    "    rects = ax.bar(x + offset, measurement, width, label=attribute)\n",
    "    ax.bar_label(rects, padding=3)\n",
    "    multiplier += 1\n",
    "\n",
    "# Add some text for labels, title and custom x-axis tick labels, etc.\n",
    "ax.set_ylabel('Value')\n",
    "ax.set_title('Vesper Sparrow (vs) attributes compared to other birds')\n",
    "ax.set_xticks(x + width, atts)\n",
    "plt.xticks(rotation=45)\n",
    "ax.legend(loc='upper left', ncols=3)\n",
    "#ax.set_ylim(0, 250)\n",
    "\n",
    "plt.show()"
   ]
  },
  {
   "cell_type": "markdown",
   "id": "fab3cfa4-ad83-4b8b-b166-b4b2655bfbe2",
   "metadata": {},
   "source": [
    "### Cool! How about just its category?\n",
    "so the birds in the ```New World sparrows```."
   ]
  },
  {
   "cell_type": "code",
   "execution_count": 10,
   "id": "c42f8343-145b-4e8b-8c1f-47ea5d644846",
   "metadata": {},
   "outputs": [
    {
     "data": {
      "text/html": [
       "<div>\n",
       "<style scoped>\n",
       "    .dataframe tbody tr th:only-of-type {\n",
       "        vertical-align: middle;\n",
       "    }\n",
       "\n",
       "    .dataframe tbody tr th {\n",
       "        vertical-align: top;\n",
       "    }\n",
       "\n",
       "    .dataframe thead th {\n",
       "        text-align: right;\n",
       "    }\n",
       "</style>\n",
       "<table border=\"1\" class=\"dataframe\">\n",
       "  <thead>\n",
       "    <tr style=\"text-align: right;\">\n",
       "      <th></th>\n",
       "      <th>Name</th>\n",
       "      <th>Category</th>\n",
       "      <th>MinLength</th>\n",
       "      <th>MaxLength</th>\n",
       "      <th>MinBodyMass</th>\n",
       "      <th>MaxBodyMass</th>\n",
       "      <th>MinWingspan</th>\n",
       "      <th>MaxWingspan</th>\n",
       "    </tr>\n",
       "  </thead>\n",
       "  <tbody>\n",
       "    <tr>\n",
       "      <th>86</th>\n",
       "      <td>Virginia rail</td>\n",
       "      <td>Rails/Gallinules/Coots</td>\n",
       "      <td>20.0</td>\n",
       "      <td>27.0</td>\n",
       "      <td>65.0</td>\n",
       "      <td>95.0</td>\n",
       "      <td>32.0</td>\n",
       "      <td>38.0</td>\n",
       "    </tr>\n",
       "    <tr>\n",
       "      <th>167</th>\n",
       "      <td>Black tern</td>\n",
       "      <td>Gulls/Terns/Skimmers</td>\n",
       "      <td>25.0</td>\n",
       "      <td>25.0</td>\n",
       "      <td>62.0</td>\n",
       "      <td>62.0</td>\n",
       "      <td>61.0</td>\n",
       "      <td>61.0</td>\n",
       "    </tr>\n",
       "    <tr>\n",
       "      <th>382</th>\n",
       "      <td>Bullock's oriole</td>\n",
       "      <td>Troupials/Allies</td>\n",
       "      <td>17.0</td>\n",
       "      <td>19.0</td>\n",
       "      <td>29.0</td>\n",
       "      <td>43.0</td>\n",
       "      <td>31.0</td>\n",
       "      <td>31.0</td>\n",
       "    </tr>\n",
       "    <tr>\n",
       "      <th>163</th>\n",
       "      <td>Great black-backed gull</td>\n",
       "      <td>Gulls/Terns/Skimmers</td>\n",
       "      <td>64.0</td>\n",
       "      <td>79.0</td>\n",
       "      <td>750.0</td>\n",
       "      <td>2300.0</td>\n",
       "      <td>150.0</td>\n",
       "      <td>170.0</td>\n",
       "    </tr>\n",
       "    <tr>\n",
       "      <th>324</th>\n",
       "      <td>Northern mockingbird</td>\n",
       "      <td>Mockingbirds/Thrashers</td>\n",
       "      <td>20.5</td>\n",
       "      <td>28.0</td>\n",
       "      <td>40.0</td>\n",
       "      <td>58.0</td>\n",
       "      <td>31.0</td>\n",
       "      <td>38.0</td>\n",
       "    </tr>\n",
       "  </tbody>\n",
       "</table>\n",
       "</div>"
      ],
      "text/plain": [
       "                        Name                Category  MinLength  MaxLength   \n",
       "86             Virginia rail  Rails/Gallinules/Coots       20.0       27.0  \\\n",
       "167               Black tern    Gulls/Terns/Skimmers       25.0       25.0   \n",
       "382         Bullock's oriole        Troupials/Allies       17.0       19.0   \n",
       "163  Great black-backed gull    Gulls/Terns/Skimmers       64.0       79.0   \n",
       "324     Northern mockingbird  Mockingbirds/Thrashers       20.5       28.0   \n",
       "\n",
       "     MinBodyMass  MaxBodyMass  MinWingspan  MaxWingspan  \n",
       "86          65.0         95.0         32.0         38.0  \n",
       "167         62.0         62.0         61.0         61.0  \n",
       "382         29.0         43.0         31.0         31.0  \n",
       "163        750.0       2300.0        150.0        170.0  \n",
       "324         40.0         58.0         31.0         38.0  "
      ]
     },
     "execution_count": 10,
     "metadata": {},
     "output_type": "execute_result"
    }
   ],
   "source": [
    "# Since we're creating a new df anyways, let's delete the columns we are not using\n",
    "birds_qn = birds.drop(birds.columns[[1, 3, 4, 5, 6]], axis=1)\n",
    "birds_qn.sample(5)"
   ]
  },
  {
   "cell_type": "code",
   "execution_count": 11,
   "id": "74fb9def-64c7-4d2c-af39-b2bc1e13a865",
   "metadata": {},
   "outputs": [
    {
     "data": {
      "text/plain": [
       "[['Grasshopper sparrow',\n",
       "  'New World sparrows',\n",
       "  10.0,\n",
       "  14.0,\n",
       "  13.8,\n",
       "  28.4,\n",
       "  17.5,\n",
       "  17.5],\n",
       " ['Black-throated sparrow',\n",
       "  'New World sparrows',\n",
       "  12.0,\n",
       "  14.0,\n",
       "  11.0,\n",
       "  15.0,\n",
       "  19.5,\n",
       "  19.5],\n",
       " ['Lark sparrow', 'New World sparrows', 15.0, 17.0, 24.0, 33.0, 28.0, 28.0],\n",
       " ['Lark bunting', 'New World sparrows', 14.0, 18.0, 35.3, 41.3, 25.0, 28.0],\n",
       " ['Chipping sparrow',\n",
       "  'New World sparrows',\n",
       "  12.0,\n",
       "  15.0,\n",
       "  11.0,\n",
       "  16.0,\n",
       "  21.0,\n",
       "  21.0]]"
      ]
     },
     "execution_count": 11,
     "metadata": {},
     "output_type": "execute_result"
    }
   ],
   "source": [
    "# so let's create a new dataframe with only birds in New World sparrows, from here\n",
    "#https://stackoverflow.com/questions/13784192/creating-an-empty-pandas-dataframe-and-then-filling-it\n",
    "# we're creating a list first\n",
    "nwspar_list = []\n",
    "for index, row in birds_qn.iterrows():\n",
    "    if (row['Category'] == 'New World sparrows'):\n",
    "        nwspar_list.append(birds_qn.loc[[index]].values.flatten().tolist())\n",
    "nwspar_list[:5]"
   ]
  },
  {
   "cell_type": "code",
   "execution_count": 12,
   "id": "fca94aa5-fc89-4711-b539-2b54876db836",
   "metadata": {},
   "outputs": [
    {
     "name": "stdout",
     "output_type": "stream",
     "text": [
      "Category\n",
      "Ducks/Geese/Waterfowl              45\n",
      "New World warblers                 41\n",
      "Sandpipers/Allies                  34\n",
      "Gulls/Terns/Skimmers               28\n",
      "New World sparrows                 26\n",
      "Tyrant flycatchers                 19\n",
      "Hawks/Eagles                       15\n",
      "Troupials/Allies                   14\n",
      "Finches/Euphonias/Allies           13\n",
      "Woodpeckers                        12\n",
      "Thrushes/Allies                    11\n",
      "Owls                               11\n",
      "Herons/Egrets/Bitterns             11\n",
      "Cardinals/Allies                   11\n",
      "Pheasants/Grouse/Allies             9\n",
      "Pigeons/Doves                       8\n",
      "Rails/Gallinules/Coots              8\n",
      "Hummingbirds                        7\n",
      "Plovers/Lapwings                    7\n",
      "Wrens                               7\n",
      "Swallows                            7\n",
      "Vireos/Shrike-babblers/Erpornis     7\n",
      "Grebes                              6\n",
      "Crows/Jays/Magpies                  6\n",
      "Falcons /Caracaras                  6\n",
      "Longspurs/Snow buntings             5\n",
      "Mockingbirds/Thrashers              5\n",
      "Auks/Murres/Puffins                 4\n",
      "Nightjars/Allies                    4\n",
      "Ibises/Spoonbills                   4\n",
      "Loons                               4\n",
      "Skuas and jaegers                   3\n",
      "Tits/Chickadees/Titmice             3\n",
      "Nuthatches                          3\n",
      "Cuckoos                             3\n",
      "Kinglets                            2\n",
      "Waxwings                            2\n",
      "Old World sparrows                  2\n",
      "Wagtails/Pitpits                    2\n",
      "Cranes                              2\n",
      "Cormorants/Shags                    2\n",
      "Pelicans                            2\n",
      "Stilts and avocets                  2\n",
      "Shrikes                             2\n",
      "Swifts                              2\n",
      "New World vultures                  2\n",
      "Starlings                           1\n",
      "Yellow-breasted chat                1\n",
      "Larks                               1\n",
      "Old World flycatchers               1\n",
      "Dippers                             1\n",
      "Gnatcatchers                        1\n",
      "Treecreepers                        1\n",
      "New World quail                     1\n",
      "Barn-owls                           1\n",
      "Osprey                              1\n",
      "Frigatebirds                        1\n",
      "Storks                              1\n",
      "Shearwaters and petrels             1\n",
      "Kingfishers                         1\n",
      "Name: count, dtype: int64\n",
      "Category\n",
      "Ducks/Geese/Waterfowl              45\n",
      "New World warblers                 41\n",
      "Sandpipers/Allies                  34\n",
      "Gulls/Terns/Skimmers               28\n",
      "New World sparrows                 26\n",
      "Tyrant flycatchers                 19\n",
      "Hawks/Eagles                       15\n",
      "Troupials/Allies                   14\n",
      "Finches/Euphonias/Allies           13\n",
      "Woodpeckers                        12\n",
      "Thrushes/Allies                    11\n",
      "Owls                               11\n",
      "Herons/Egrets/Bitterns             11\n",
      "Cardinals/Allies                   11\n",
      "Pheasants/Grouse/Allies             9\n",
      "Pigeons/Doves                       8\n",
      "Rails/Gallinules/Coots              8\n",
      "Hummingbirds                        7\n",
      "Plovers/Lapwings                    7\n",
      "Wrens                               7\n",
      "Swallows                            7\n",
      "Vireos/Shrike-babblers/Erpornis     7\n",
      "Grebes                              6\n",
      "Crows/Jays/Magpies                  6\n",
      "Falcons /Caracaras                  6\n",
      "Longspurs/Snow buntings             5\n",
      "Mockingbirds/Thrashers              5\n",
      "Auks/Murres/Puffins                 4\n",
      "Nightjars/Allies                    4\n",
      "Ibises/Spoonbills                   4\n",
      "Loons                               4\n",
      "Skuas and jaegers                   3\n",
      "Tits/Chickadees/Titmice             3\n",
      "Nuthatches                          3\n",
      "Cuckoos                             3\n",
      "Kinglets                            2\n",
      "Waxwings                            2\n",
      "Old World sparrows                  2\n",
      "Wagtails/Pitpits                    2\n",
      "Cranes                              2\n",
      "Cormorants/Shags                    2\n",
      "Pelicans                            2\n",
      "Stilts and avocets                  2\n",
      "Shrikes                             2\n",
      "Swifts                              2\n",
      "New World vultures                  2\n",
      "Starlings                           1\n",
      "Yellow-breasted chat                1\n",
      "Larks                               1\n",
      "Old World flycatchers               1\n",
      "Dippers                             1\n",
      "Gnatcatchers                        1\n",
      "Treecreepers                        1\n",
      "New World quail                     1\n",
      "Barn-owls                           1\n",
      "Osprey                              1\n",
      "Frigatebirds                        1\n",
      "Storks                              1\n",
      "Shearwaters and petrels             1\n",
      "Kingfishers                         1\n",
      "Name: count, dtype: int64\n"
     ]
    },
    {
     "data": {
      "text/plain": [
       "26"
      ]
     },
     "execution_count": 12,
     "metadata": {},
     "output_type": "execute_result"
    }
   ],
   "source": [
    "# check if I did it right\n",
    "print(birds['Category'].value_counts())\n",
    "print(birds_qn['Category'].value_counts())\n",
    "len(nwspar_list)"
   ]
  },
  {
   "cell_type": "code",
   "execution_count": 13,
   "id": "bf31122e-2a3a-47c6-b8e5-30a5f3890d67",
   "metadata": {},
   "outputs": [
    {
     "data": {
      "text/html": [
       "<div>\n",
       "<style scoped>\n",
       "    .dataframe tbody tr th:only-of-type {\n",
       "        vertical-align: middle;\n",
       "    }\n",
       "\n",
       "    .dataframe tbody tr th {\n",
       "        vertical-align: top;\n",
       "    }\n",
       "\n",
       "    .dataframe thead th {\n",
       "        text-align: right;\n",
       "    }\n",
       "</style>\n",
       "<table border=\"1\" class=\"dataframe\">\n",
       "  <thead>\n",
       "    <tr style=\"text-align: right;\">\n",
       "      <th></th>\n",
       "      <th>Name</th>\n",
       "      <th>Category</th>\n",
       "      <th>MinLength</th>\n",
       "      <th>MaxLength</th>\n",
       "      <th>MinBodyMass</th>\n",
       "      <th>MaxBodyMass</th>\n",
       "      <th>MinWingspan</th>\n",
       "      <th>MaxWingspan</th>\n",
       "    </tr>\n",
       "  </thead>\n",
       "  <tbody>\n",
       "    <tr>\n",
       "      <th>0</th>\n",
       "      <td>Grasshopper sparrow</td>\n",
       "      <td>New World sparrows</td>\n",
       "      <td>10.0</td>\n",
       "      <td>14.0</td>\n",
       "      <td>13.8</td>\n",
       "      <td>28.4</td>\n",
       "      <td>17.5</td>\n",
       "      <td>17.5</td>\n",
       "    </tr>\n",
       "    <tr>\n",
       "      <th>1</th>\n",
       "      <td>Black-throated sparrow</td>\n",
       "      <td>New World sparrows</td>\n",
       "      <td>12.0</td>\n",
       "      <td>14.0</td>\n",
       "      <td>11.0</td>\n",
       "      <td>15.0</td>\n",
       "      <td>19.5</td>\n",
       "      <td>19.5</td>\n",
       "    </tr>\n",
       "    <tr>\n",
       "      <th>2</th>\n",
       "      <td>Lark sparrow</td>\n",
       "      <td>New World sparrows</td>\n",
       "      <td>15.0</td>\n",
       "      <td>17.0</td>\n",
       "      <td>24.0</td>\n",
       "      <td>33.0</td>\n",
       "      <td>28.0</td>\n",
       "      <td>28.0</td>\n",
       "    </tr>\n",
       "    <tr>\n",
       "      <th>3</th>\n",
       "      <td>Lark bunting</td>\n",
       "      <td>New World sparrows</td>\n",
       "      <td>14.0</td>\n",
       "      <td>18.0</td>\n",
       "      <td>35.3</td>\n",
       "      <td>41.3</td>\n",
       "      <td>25.0</td>\n",
       "      <td>28.0</td>\n",
       "    </tr>\n",
       "    <tr>\n",
       "      <th>4</th>\n",
       "      <td>Chipping sparrow</td>\n",
       "      <td>New World sparrows</td>\n",
       "      <td>12.0</td>\n",
       "      <td>15.0</td>\n",
       "      <td>11.0</td>\n",
       "      <td>16.0</td>\n",
       "      <td>21.0</td>\n",
       "      <td>21.0</td>\n",
       "    </tr>\n",
       "  </tbody>\n",
       "</table>\n",
       "</div>"
      ],
      "text/plain": [
       "                     Name            Category  MinLength  MaxLength   \n",
       "0     Grasshopper sparrow  New World sparrows       10.0       14.0  \\\n",
       "1  Black-throated sparrow  New World sparrows       12.0       14.0   \n",
       "2            Lark sparrow  New World sparrows       15.0       17.0   \n",
       "3            Lark bunting  New World sparrows       14.0       18.0   \n",
       "4        Chipping sparrow  New World sparrows       12.0       15.0   \n",
       "\n",
       "   MinBodyMass  MaxBodyMass  MinWingspan  MaxWingspan  \n",
       "0         13.8         28.4         17.5         17.5  \n",
       "1         11.0         15.0         19.5         19.5  \n",
       "2         24.0         33.0         28.0         28.0  \n",
       "3         35.3         41.3         25.0         28.0  \n",
       "4         11.0         16.0         21.0         21.0  "
      ]
     },
     "execution_count": 13,
     "metadata": {},
     "output_type": "execute_result"
    }
   ],
   "source": [
    "# All 26! Okay let's create the df\n",
    "nwspar = pd.DataFrame(nwspar_list)\n",
    "nwspar.columns = birds_qn.columns #rename columns (they are just basic numbers rn)\n",
    "nwspar.head()"
   ]
  },
  {
   "cell_type": "markdown",
   "id": "5f07eee5-1206-4986-b862-a575625becf3",
   "metadata": {},
   "source": [
    "#### mean, median, and other info\n",
    "obv with only this category!"
   ]
  },
  {
   "cell_type": "code",
   "execution_count": 14,
   "id": "9eda0401-6f8e-4007-b6ee-4999f1cad752",
   "metadata": {},
   "outputs": [
    {
     "data": {
      "text/plain": [
       "['MinLength',\n",
       " 'MaxLength',\n",
       " 'MinBodyMass',\n",
       " 'MaxBodyMass',\n",
       " 'MinWingspan',\n",
       " 'MaxWingspan']"
      ]
     },
     "execution_count": 14,
     "metadata": {},
     "output_type": "execute_result"
    }
   ],
   "source": [
    "# groups\n",
    "atts = nwspar.columns.tolist()\n",
    "del atts[0:2]\n",
    "atts\n",
    "# I am aware there is no change of this from last time, but let me just practice"
   ]
  },
  {
   "cell_type": "code",
   "execution_count": 15,
   "id": "becc2033-6a3b-4bed-83c0-abc19b6fe8f8",
   "metadata": {},
   "outputs": [
    {
     "data": {
      "text/plain": [
       "[13.28076923076923,\n",
       " 16.21153846153846,\n",
       " 18.057692307692307,\n",
       " 28.676923076923078,\n",
       " 21.190384615384616,\n",
       " 23.236538461538462]"
      ]
     },
     "execution_count": 15,
     "metadata": {},
     "output_type": "execute_result"
    }
   ],
   "source": [
    "# mean\n",
    "means = []\n",
    "for item in atts:\n",
    "    means.append(nwspar.loc[:, item].mean())\n",
    "means"
   ]
  },
  {
   "cell_type": "code",
   "execution_count": 16,
   "id": "15608fc0-8820-4358-bb8a-affe4a79d7ae",
   "metadata": {},
   "outputs": [
    {
     "data": {
      "text/plain": [
       "[13.0, 15.5, 17.0, 28.0, 20.0, 23.5]"
      ]
     },
     "execution_count": 16,
     "metadata": {},
     "output_type": "execute_result"
    }
   ],
   "source": [
    "# median\n",
    "medians = []\n",
    "for item in atts:\n",
    "    medians.append(nwspar.loc[:, item].median())\n",
    "medians"
   ]
  },
  {
   "cell_type": "markdown",
   "id": "3ebbdca6-f9ef-4024-8afe-458a7434c846",
   "metadata": {},
   "source": [
    "Not gonna find vesper sparrow attributes again because that really is the exact same code, and any changes will just be big unecessary extra work. \n",
    "\n",
    "#### Combine all information into a dict"
   ]
  },
  {
   "cell_type": "code",
   "execution_count": 17,
   "id": "8e1e39bd-d173-46d3-bdc1-09ef2a7b394a",
   "metadata": {},
   "outputs": [
    {
     "data": {
      "text/plain": [
       "{'mean': [13.28076923076923,\n",
       "  16.21153846153846,\n",
       "  18.057692307692307,\n",
       "  28.676923076923078,\n",
       "  21.190384615384616,\n",
       "  23.236538461538462],\n",
       " 'vs': [13.0, 16.0, 20.0, 28.0, 24.0, 24.0],\n",
       " 'median': [13.0, 15.5, 17.0, 28.0, 20.0, 23.5]}"
      ]
     },
     "execution_count": 17,
     "metadata": {},
     "output_type": "execute_result"
    }
   ],
   "source": [
    "attvals = dict({'mean': means, 'vs': VesSpar, 'median': medians})\n",
    "attvals"
   ]
  },
  {
   "cell_type": "markdown",
   "id": "6e9ead88-3e33-4317-bc8a-4cbdf95e3732",
   "metadata": {},
   "source": [
    "#### plot!"
   ]
  },
  {
   "cell_type": "code",
   "execution_count": 18,
   "id": "484b6711-076b-4563-a591-b02c7bcc9111",
   "metadata": {},
   "outputs": [
    {
     "data": {
      "image/png": "[encoded data removed]",
      "text/plain": [
       "<Figure size 640x480 with 1 Axes>"
      ]
     },
     "metadata": {},
     "output_type": "display_data"
    }
   ],
   "source": [
    "# all from here: https://matplotlib.org/stable/gallery/lines_bars_and_markers/barchart.html\n",
    "\n",
    "x = np.arange(len(atts))  # the label locations\n",
    "width = 0.25  # the width of the bars\n",
    "multiplier = 0\n",
    "\n",
    "fig, ax = plt.subplots(layout='constrained')\n",
    "\n",
    "for attribute, measurement in attvals.items():\n",
    "    offset = width * multiplier\n",
    "    rects = ax.bar(x + offset, measurement, width, label=attribute)\n",
    "    ax.bar_label(rects, padding=3)\n",
    "    multiplier += 1\n",
    "\n",
    "# Add some text for labels, title and custom x-axis tick labels, etc.\n",
    "ax.set_ylabel('Value')\n",
    "ax.set_title('Vesper sparrow (vs) attributes compared to other New World sparrows')\n",
    "ax.set_xticks(x + width, atts)\n",
    "plt.xticks(rotation=45)\n",
    "ax.legend(loc='upper left', ncols=3)\n",
    "ax.set_ylim(0, 35)\n",
    "\n",
    "plt.show()"
   ]
  },
  {
   "cell_type": "markdown",
   "id": "f56e6587-4ec1-4a19-a2c7-c6e98722ece4",
   "metadata": {},
   "source": [
    "conclusions: It seems their length is pretty average, though a bit on the smaller side, while body mass is also kinda average, but a bit on the larger size. Wingspans is the only area with conclusive results, with it being larger than the category's on average. "
   ]
  },
  {
   "cell_type": "markdown",
   "id": "ee0bfd73-78a6-4c19-bc2f-44a2f70a61e2",
   "metadata": {},
   "source": [
    "## Qualitative Values"
   ]
  },
  {
   "cell_type": "code",
   "execution_count": 20,
   "id": "f2eaa3e4-28bc-4c4c-b009-d8feda39e31a",
   "metadata": {},
   "outputs": [
    {
     "data": {
      "text/html": [
       "<div>\n",
       "<style scoped>\n",
       "    .dataframe tbody tr th:only-of-type {\n",
       "        vertical-align: middle;\n",
       "    }\n",
       "\n",
       "    .dataframe tbody tr th {\n",
       "        vertical-align: top;\n",
       "    }\n",
       "\n",
       "    .dataframe thead th {\n",
       "        text-align: right;\n",
       "    }\n",
       "</style>\n",
       "<table border=\"1\" class=\"dataframe\">\n",
       "  <thead>\n",
       "    <tr style=\"text-align: right;\">\n",
       "      <th></th>\n",
       "      <th>Name</th>\n",
       "      <th>ScientificName</th>\n",
       "      <th>Category</th>\n",
       "      <th>Order</th>\n",
       "      <th>Family</th>\n",
       "      <th>Genus</th>\n",
       "      <th>ConservationStatus</th>\n",
       "      <th>MinLength</th>\n",
       "      <th>MaxLength</th>\n",
       "      <th>MinBodyMass</th>\n",
       "      <th>MaxBodyMass</th>\n",
       "      <th>MinWingspan</th>\n",
       "      <th>MaxWingspan</th>\n",
       "    </tr>\n",
       "  </thead>\n",
       "  <tbody>\n",
       "    <tr>\n",
       "      <th>204</th>\n",
       "      <td>Golden eagle</td>\n",
       "      <td>Aquila chrysaetos</td>\n",
       "      <td>Hawks/Eagles</td>\n",
       "      <td>Accipitriformes</td>\n",
       "      <td>Accipitridae</td>\n",
       "      <td>Aquila</td>\n",
       "      <td>LC</td>\n",
       "      <td>66.0</td>\n",
       "      <td>102.0</td>\n",
       "      <td>2500.0</td>\n",
       "      <td>6350.0</td>\n",
       "      <td>180.0</td>\n",
       "      <td>234.0</td>\n",
       "    </tr>\n",
       "    <tr>\n",
       "      <th>239</th>\n",
       "      <td>Hairy woodpecker</td>\n",
       "      <td>Dryobates villosus</td>\n",
       "      <td>Woodpeckers</td>\n",
       "      <td>Piciformes</td>\n",
       "      <td>Picidae</td>\n",
       "      <td>Leuconotopicus</td>\n",
       "      <td>LC</td>\n",
       "      <td>18.0</td>\n",
       "      <td>26.0</td>\n",
       "      <td>40.0</td>\n",
       "      <td>95.0</td>\n",
       "      <td>33.0</td>\n",
       "      <td>43.0</td>\n",
       "    </tr>\n",
       "    <tr>\n",
       "      <th>295</th>\n",
       "      <td>Pygmy nuthatch</td>\n",
       "      <td>Sitta pygmaea</td>\n",
       "      <td>Nuthatches</td>\n",
       "      <td>Passeriformes</td>\n",
       "      <td>Sittidae</td>\n",
       "      <td>Sitta</td>\n",
       "      <td>LC</td>\n",
       "      <td>9.0</td>\n",
       "      <td>11.0</td>\n",
       "      <td>9.0</td>\n",
       "      <td>11.0</td>\n",
       "      <td>19.7</td>\n",
       "      <td>19.7</td>\n",
       "    </tr>\n",
       "    <tr>\n",
       "      <th>354</th>\n",
       "      <td>Chipping sparrow</td>\n",
       "      <td>Spizella passerina</td>\n",
       "      <td>New World sparrows</td>\n",
       "      <td>Passeriformes</td>\n",
       "      <td>Passerellidae</td>\n",
       "      <td>Spizella</td>\n",
       "      <td>LC</td>\n",
       "      <td>12.0</td>\n",
       "      <td>15.0</td>\n",
       "      <td>11.0</td>\n",
       "      <td>16.0</td>\n",
       "      <td>21.0</td>\n",
       "      <td>21.0</td>\n",
       "    </tr>\n",
       "    <tr>\n",
       "      <th>264</th>\n",
       "      <td>Eastern phoebe</td>\n",
       "      <td>Sayornis phoebe</td>\n",
       "      <td>Tyrant flycatchers</td>\n",
       "      <td>Passeriformes</td>\n",
       "      <td>Tyrannidae</td>\n",
       "      <td>Sayornis</td>\n",
       "      <td>LC</td>\n",
       "      <td>14.0</td>\n",
       "      <td>17.0</td>\n",
       "      <td>16.0</td>\n",
       "      <td>21.0</td>\n",
       "      <td>26.0</td>\n",
       "      <td>28.0</td>\n",
       "    </tr>\n",
       "  </tbody>\n",
       "</table>\n",
       "</div>"
      ],
      "text/plain": [
       "                 Name      ScientificName            Category   \n",
       "204      Golden eagle   Aquila chrysaetos        Hawks/Eagles  \\\n",
       "239  Hairy woodpecker  Dryobates villosus         Woodpeckers   \n",
       "295    Pygmy nuthatch       Sitta pygmaea          Nuthatches   \n",
       "354  Chipping sparrow  Spizella passerina  New World sparrows   \n",
       "264    Eastern phoebe     Sayornis phoebe  Tyrant flycatchers   \n",
       "\n",
       "               Order         Family           Genus ConservationStatus   \n",
       "204  Accipitriformes   Accipitridae          Aquila                 LC  \\\n",
       "239       Piciformes        Picidae  Leuconotopicus                 LC   \n",
       "295    Passeriformes       Sittidae           Sitta                 LC   \n",
       "354    Passeriformes  Passerellidae        Spizella                 LC   \n",
       "264    Passeriformes     Tyrannidae        Sayornis                 LC   \n",
       "\n",
       "     MinLength  MaxLength  MinBodyMass  MaxBodyMass  MinWingspan  MaxWingspan  \n",
       "204       66.0      102.0       2500.0       6350.0        180.0        234.0  \n",
       "239       18.0       26.0         40.0         95.0         33.0         43.0  \n",
       "295        9.0       11.0          9.0         11.0         19.7         19.7  \n",
       "354       12.0       15.0         11.0         16.0         21.0         21.0  \n",
       "264       14.0       17.0         16.0         21.0         26.0         28.0  "
      ]
     },
     "execution_count": 20,
     "metadata": {},
     "output_type": "execute_result"
    }
   ],
   "source": [
    "# let's take a look at the dataframe again\n",
    "birds.sample(5)"
   ]
  },
  {
   "cell_type": "code",
   "execution_count": 22,
   "id": "cecf7ab1-c8f8-4a56-a393-9680e7d5b554",
   "metadata": {},
   "outputs": [
    {
     "data": {
      "text/html": [
       "<div>\n",
       "<style scoped>\n",
       "    .dataframe tbody tr th:only-of-type {\n",
       "        vertical-align: middle;\n",
       "    }\n",
       "\n",
       "    .dataframe tbody tr th {\n",
       "        vertical-align: top;\n",
       "    }\n",
       "\n",
       "    .dataframe thead th {\n",
       "        text-align: right;\n",
       "    }\n",
       "</style>\n",
       "<table border=\"1\" class=\"dataframe\">\n",
       "  <thead>\n",
       "    <tr style=\"text-align: right;\">\n",
       "      <th></th>\n",
       "      <th>Name</th>\n",
       "      <th>ScientificName</th>\n",
       "      <th>Category</th>\n",
       "      <th>Order</th>\n",
       "      <th>Family</th>\n",
       "      <th>Genus</th>\n",
       "      <th>ConservationStatus</th>\n",
       "      <th>MinLength</th>\n",
       "      <th>MaxLength</th>\n",
       "      <th>MinBodyMass</th>\n",
       "      <th>MaxBodyMass</th>\n",
       "      <th>MinWingspan</th>\n",
       "      <th>MaxWingspan</th>\n",
       "    </tr>\n",
       "  </thead>\n",
       "  <tbody>\n",
       "    <tr>\n",
       "      <th>365</th>\n",
       "      <td>Vesper sparrow</td>\n",
       "      <td>Pooecetes gramineus</td>\n",
       "      <td>New World sparrows</td>\n",
       "      <td>Passeriformes</td>\n",
       "      <td>Passerellidae</td>\n",
       "      <td>Pooecetes</td>\n",
       "      <td>LC</td>\n",
       "      <td>13.0</td>\n",
       "      <td>16.0</td>\n",
       "      <td>20.0</td>\n",
       "      <td>28.0</td>\n",
       "      <td>24.0</td>\n",
       "      <td>24.0</td>\n",
       "    </tr>\n",
       "  </tbody>\n",
       "</table>\n",
       "</div>"
      ],
      "text/plain": [
       "               Name       ScientificName            Category          Order   \n",
       "365  Vesper sparrow  Pooecetes gramineus  New World sparrows  Passeriformes  \\\n",
       "\n",
       "            Family      Genus ConservationStatus  MinLength  MaxLength   \n",
       "365  Passerellidae  Pooecetes                 LC       13.0       16.0  \\\n",
       "\n",
       "     MinBodyMass  MaxBodyMass  MinWingspan  MaxWingspan  \n",
       "365         20.0         28.0         24.0         24.0  "
      ]
     },
     "execution_count": 22,
     "metadata": {},
     "output_type": "execute_result"
    }
   ],
   "source": [
    "# and the vesper sparrow, because we are still focused on that\n",
    "birds.loc[[365]]"
   ]
  },
  {
   "cell_type": "markdown",
   "id": "c3c21832-f07c-4592-9d11-f939acc9c940",
   "metadata": {},
   "source": [
    "Okay, so there is a vague idea of doing some kind of nomenclature thing where there can be a flow chart from order of family down to species (fun time data cleaning scientific name!) or genus, so we can see how closely \"related\" the Vesper sparrow is to other birds. "
   ]
  },
  {
   "cell_type": "code",
   "execution_count": 21,
   "id": "9feb7710-b379-49d9-a821-cb0227ac7b5a",
   "metadata": {},
   "outputs": [
    {
     "data": {
      "text/plain": [
       "Order\n",
       "Passeriformes        195\n",
       "Charadriiformes       78\n",
       "Anseriformes          45\n",
       "Pelecaniformes        17\n",
       "Accipitriformes       16\n",
       "Piciformes            12\n",
       "Strigiformes          12\n",
       "Gruiformes            10\n",
       "Galliformes           10\n",
       "Apodiformes            9\n",
       "Columbiformes          8\n",
       "Podicipediformes       6\n",
       "Falconformes           6\n",
       "Caprimulgiformes       4\n",
       "Gaviiformes            4\n",
       "Suliformes             3\n",
       "Cuculiformes           3\n",
       "Cathartiformes         2\n",
       "Coraciiformes          1\n",
       "Ciconiiformes          1\n",
       "Procellariiformes      1\n",
       "Name: count, dtype: int64"
      ]
     },
     "execution_count": 21,
     "metadata": {},
     "output_type": "execute_result"
    }
   ],
   "source": [
    "birds['Order'].value_counts()"
   ]
  },
  {
   "cell_type": "markdown",
   "id": "86b98d6a-bca7-477e-9022-f92c5f269e29",
   "metadata": {},
   "source": [
    "Okay 195 of order ```Passeriformes``` isn't bad, I will try making a Sankey diagram. It has to be with plotly then.\n",
    "Remember to install it first:\n",
    "```bash\n",
    "pip install plotly==5.20.0\n",
    "```"
   ]
  },
  {
   "cell_type": "code",
   "execution_count": 25,
   "id": "2a3cb428-df78-4a9c-8f47-2a0d696981d3",
   "metadata": {},
   "outputs": [],
   "source": [
    "import plotly.express as px"
   ]
  },
  {
   "cell_type": "markdown",
   "id": "96916732-8290-4bc3-ab33-cdbaf785e950",
   "metadata": {},
   "source": [
    "test with the sample code to see if I can do the html trick"
   ]
  },
  {
   "cell_type": "code",
   "execution_count": 26,
   "id": "0b93d938-bd97-42a4-bf36-db2239cb909d",
   "metadata": {},
   "outputs": [],
   "source": [
    "import plotly.graph_objects as go\n",
    "\n",
    "fig = go.Figure(data=[go.Sankey(\n",
    "    node = dict(\n",
    "      pad = 15,\n",
    "      thickness = 20,\n",
    "      line = dict(color = \"black\", width = 0.5),\n",
    "      label = [\"A1\", \"A2\", \"B1\", \"B2\", \"C1\", \"C2\"],\n",
    "      color = \"blue\"\n",
    "    ),\n",
    "    link = dict(\n",
    "      source = [0, 1, 0, 2, 3, 3], # indices correspond to labels, eg A1, A2, A1, B1, ...\n",
    "      target = [2, 3, 3, 4, 4, 5],\n",
    "      value = [8, 4, 2, 8, 4, 2]\n",
    "  ))])\n",
    "\n",
    "fig.update_layout(title_text=\"Basic Sankey Diagram\", font_size=10)\n",
    "fig.write_html('egSankey.html', auto_open=True)"
   ]
  },
  {
   "cell_type": "markdown",
   "id": "8919d9dd-14eb-4cc4-9ea1-e393fc33c571",
   "metadata": {},
   "source": [
    "yes! it worked. Okay, on to arranging the data"
   ]
  }
 ],
 "metadata": {
  "kernelspec": {
   "display_name": "Python 3 (ipykernel)",
   "language": "python",
   "name": "python3"
  },
  "language_info": {
   "codemirror_mode": {
    "name": "ipython",
    "version": 3
   },
   "file_extension": ".py",
   "mimetype": "text/x-python",
   "name": "python",
   "nbconvert_exporter": "python",
   "pygments_lexer": "ipython3",
   "version": "3.10.11"
  }
 },
 "nbformat": 4,
 "nbformat_minor": 5
}
